{
 "cells": [
  {
   "cell_type": "code",
   "execution_count": 74,
   "id": "bf801f3e",
   "metadata": {},
   "outputs": [],
   "source": [
    "import warnings\n",
    "\n",
    "import matplotlib.pyplot as plt\n",
    "import pandas as pd\n",
    "import seaborn as sns\n",
    "from mne.decoding import CSP\n",
    "from sklearn.discriminant_analysis import LinearDiscriminantAnalysis as LDA\n",
    "from sklearn.pipeline import make_pipeline\n",
    "import mne\n",
    "\n",
    "import moabb\n",
    "from moabb.datasets import BNCI2014_001\n",
    "from moabb.evaluations import WithinSessionEvaluation\n",
    "from moabb.evaluations import CrossSessionEvaluation\n",
    "from moabb.paradigms import MotorImagery\n",
    "\n",
    "\n",
    "moabb.set_log_level(\"info\")\n",
    "warnings.filterwarnings(\"ignore\")\n"
   ]
  },
  {
   "cell_type": "code",
   "execution_count": 75,
   "id": "6fcd9c06",
   "metadata": {},
   "outputs": [],
   "source": [
    "##############################################################################\n",
    "# Instantiating Dataset\n",
    "# ---------------------\n",
    "#\n",
    "# The first thing to do is to instantiate the dataset that we want to analyze.\n",
    "# MOABB has a list of many different datasets, each one containing all the\n",
    "# necessary information for describing them, such as the number of subjects,\n",
    "# size of trials, names of classes, etc.\n",
    "#\n",
    "# The dataset class has methods for:\n",
    "#\n",
    "# - downloading its files from some online source (e.g. Zenodo)\n",
    "# - importing the data from the files in whatever extension they might be\n",
    "#   (like .mat, .gdf, etc.) and instantiate a Raw object from the MNE package\n",
    "\n",
    "dataset = BNCI2014_001()\n",
    "dataset.subject_list = [1, 2, 3]"
   ]
  },
  {
   "cell_type": "code",
   "execution_count": 76,
   "id": "9ec68e5c",
   "metadata": {},
   "outputs": [],
   "source": [
    "##############################################################################\n",
    "# Accessing EEG Recording\n",
    "# -----------------------\n",
    "#\n",
    "# As an example, we may access the EEG recording from a given session and a\n",
    "# given run as follows:\n",
    "\n",
    "sessions = dataset.get_data(subjects=[1])\n",
    "\n",
    "##############################################################################\n",
    "# This returns a MNE Raw object that can be manipulated. This might be enough\n",
    "# for some users, since the pre-processing and epoching steps can be easily\n",
    "# done via MNE. However, to conduct an assessment of several classifiers on\n",
    "# multiple subjects, MOABB ends up being a more appropriate option.\n",
    "\n",
    "subject = 1\n",
    "session_name = \"0train\"\n",
    "run_name = \"0\"\n",
    "raw = sessions[subject][session_name][run_name]"
   ]
  },
  {
   "cell_type": "code",
   "execution_count": 77,
   "id": "c719bcb5",
   "metadata": {},
   "outputs": [
    {
     "name": "stderr",
     "output_type": "stream",
     "text": [
      "2024-06-03 20:06:23,303 WARNING MainThread moabb.paradigms.motor_imagery Choosing from all possible events\n"
     ]
    }
   ],
   "source": [
    "##############################################################################\n",
    "# For the example below, we will consider the paradigm associated to\n",
    "# left-hand/right-hand motor imagery task, but there are other options in\n",
    "# MOABB for motor imagery, P300 or SSVEP.\n",
    "\n",
    "paradigm = MotorImagery()\n"
   ]
  },
  {
   "cell_type": "code",
   "execution_count": 78,
   "id": "43324c7c",
   "metadata": {},
   "outputs": [
    {
     "name": "stdout",
     "output_type": "stream",
     "text": [
      "N-class motor imagery.\n",
      "\n",
      "    Metric is 'roc-auc' if 2 classes and 'accuracy' if more\n",
      "\n",
      "    Parameters\n",
      "    -----------\n",
      "\n",
      "    events: List of str\n",
      "        event labels used to filter datasets (e.g. if only motor imagery is\n",
      "        desired).\n",
      "\n",
      "    n_classes: int,\n",
      "        number of classes each dataset must have. If events is given,\n",
      "        requires all imagery sorts to be within the events list.\n",
      "\n",
      "    fmin: float (default 8)\n",
      "        cutoff frequency (Hz) for the high pass filter\n",
      "\n",
      "    fmax: float (default 32)\n",
      "        cutoff frequency (Hz) for the low pass filter\n",
      "\n",
      "    tmin: float (default 0.0)\n",
      "        Start time (in second) of the epoch, relative to the dataset specific\n",
      "        task interval e.g. tmin = 1 would mean the epoch will start 1 second\n",
      "        after the beginning of the task as defined by the dataset.\n",
      "\n",
      "    tmax: float | None, (default None)\n",
      "        End time (in second) of the epoch, relative to the beginning of the\n",
      "        dataset specific task interval. tmax = 5 would mean the epoch will end\n",
      "        5 second after the beginning of the task as defined in the dataset. If\n",
      "        None, use the dataset value.\n",
      "\n",
      "    baseline: None | tuple of length 2\n",
      "            The time interval to consider as “baseline” when applying baseline\n",
      "            correction. If None, do not apply baseline correction.\n",
      "            If a tuple (a, b), the interval is between a and b (in seconds),\n",
      "            including the endpoints.\n",
      "            Correction is applied by computing the mean of the baseline period\n",
      "            and subtracting it from the data (see mne.Epochs)\n",
      "\n",
      "    channels: list of str | None (default None)\n",
      "        list of channel to select. If None, use all EEG channels available in\n",
      "        the dataset.\n",
      "\n",
      "    resample: float | None (default None)\n",
      "        If not None, resample the eeg data with the sampling rate provided.\n",
      "    \n"
     ]
    }
   ],
   "source": [
    "print(paradigm.__doc__) "
   ]
  },
  {
   "cell_type": "code",
   "execution_count": 80,
   "id": "b18e1e65",
   "metadata": {},
   "outputs": [
    {
     "name": "stdout",
     "output_type": "stream",
     "text": [
      "['tongue' 'feet' 'right_hand' 'left_hand' 'left_hand' 'right_hand' 'feet'\n",
      " 'tongue' 'right_hand' 'feet' 'left_hand' 'left_hand' 'left_hand' 'tongue'\n",
      " 'right_hand' 'right_hand' 'left_hand' 'left_hand' 'feet' 'left_hand'\n",
      " 'right_hand' 'tongue' 'tongue' 'feet' 'left_hand' 'tongue' 'tongue'\n",
      " 'right_hand' 'tongue' 'tongue' 'right_hand' 'left_hand' 'right_hand'\n",
      " 'feet' 'feet' 'feet' 'tongue' 'feet' 'left_hand' 'tongue' 'right_hand'\n",
      " 'feet' 'right_hand' 'feet' 'tongue' 'right_hand' 'feet' 'left_hand'\n",
      " 'left_hand' 'left_hand' 'tongue' 'right_hand' 'left_hand' 'feet'\n",
      " 'left_hand' 'feet' 'right_hand' 'tongue' 'left_hand' 'feet' 'feet'\n",
      " 'left_hand' 'feet' 'right_hand' 'tongue' 'tongue' 'tongue' 'feet'\n",
      " 'left_hand' 'tongue' 'right_hand' 'tongue' 'right_hand' 'left_hand'\n",
      " 'feet' 'right_hand' 'left_hand' 'feet' 'feet' 'left_hand' 'feet' 'tongue'\n",
      " 'tongue' 'right_hand' 'left_hand' 'right_hand' 'tongue' 'right_hand'\n",
      " 'tongue' 'feet' 'right_hand' 'right_hand' 'right_hand' 'feet' 'tongue'\n",
      " 'left_hand' 'right_hand' 'tongue' 'left_hand' 'feet' 'feet' 'tongue'\n",
      " 'left_hand' 'left_hand' 'feet' 'right_hand' 'tongue' 'tongue' 'tongue'\n",
      " 'right_hand' 'left_hand' 'feet' 'right_hand' 'tongue' 'left_hand'\n",
      " 'tongue' 'feet' 'right_hand' 'tongue' 'tongue' 'left_hand' 'right_hand'\n",
      " 'right_hand' 'feet' 'tongue' 'right_hand' 'left_hand' 'left_hand'\n",
      " 'tongue' 'right_hand' 'left_hand' 'feet' 'right_hand' 'right_hand' 'feet'\n",
      " 'left_hand' 'tongue' 'feet' 'feet' 'feet' 'feet' 'left_hand' 'right_hand'\n",
      " 'left_hand' 'right_hand' 'left_hand' 'left_hand' 'feet' 'feet'\n",
      " 'right_hand' 'feet' 'tongue' 'left_hand' 'tongue' 'left_hand' 'left_hand'\n",
      " 'right_hand' 'tongue' 'feet' 'right_hand' 'tongue' 'feet' 'tongue' 'feet'\n",
      " 'tongue' 'right_hand' 'right_hand' 'tongue' 'left_hand' 'right_hand'\n",
      " 'right_hand' 'right_hand' 'feet' 'tongue' 'left_hand' 'tongue'\n",
      " 'left_hand' 'feet' 'left_hand' 'tongue' 'left_hand' 'feet' 'left_hand'\n",
      " 'right_hand' 'feet' 'feet' 'tongue' 'left_hand' 'right_hand' 'tongue'\n",
      " 'right_hand' 'feet' 'feet' 'left_hand' 'tongue' 'right_hand' 'tongue'\n",
      " 'left_hand' 'left_hand' 'feet' 'feet' 'right_hand' 'tongue' 'right_hand'\n",
      " 'right_hand' 'left_hand' 'right_hand' 'tongue' 'tongue' 'right_hand'\n",
      " 'right_hand' 'right_hand' 'right_hand' 'tongue' 'tongue' 'feet' 'tongue'\n",
      " 'left_hand' 'right_hand' 'feet' 'right_hand' 'left_hand' 'tongue'\n",
      " 'left_hand' 'tongue' 'left_hand' 'left_hand' 'left_hand' 'left_hand'\n",
      " 'feet' 'feet' 'tongue' 'right_hand' 'feet' 'feet' 'feet' 'tongue' 'feet'\n",
      " 'left_hand' 'feet' 'left_hand' 'tongue' 'right_hand' 'tongue' 'tongue'\n",
      " 'feet' 'tongue' 'tongue' 'feet' 'right_hand' 'tongue' 'feet' 'left_hand'\n",
      " 'right_hand' 'right_hand' 'right_hand' 'feet' 'right_hand' 'tongue'\n",
      " 'feet' 'tongue' 'right_hand' 'feet' 'left_hand' 'tongue' 'left_hand'\n",
      " 'feet' 'tongue' 'left_hand' 'feet' 'left_hand' 'right_hand' 'right_hand'\n",
      " 'left_hand' 'tongue' 'left_hand' 'tongue' 'feet' 'feet' 'left_hand'\n",
      " 'feet' 'right_hand' 'right_hand' 'left_hand' 'feet' 'left_hand'\n",
      " 'right_hand' 'left_hand' 'left_hand' 'right_hand' 'right_hand'\n",
      " 'left_hand' 'right_hand' 'left_hand' 'right_hand' 'feet' 'right_hand'\n",
      " 'tongue' 'left_hand' 'feet' 'right_hand' 'left_hand' 'tongue' 'tongue'\n",
      " 'tongue' 'tongue' 'tongue' 'left_hand' 'feet' 'right_hand' 'left_hand'\n",
      " 'left_hand' 'feet' 'tongue' 'left_hand' 'feet' 'feet' 'feet' 'left_hand'\n",
      " 'right_hand' 'left_hand' 'right_hand' 'right_hand' 'left_hand'\n",
      " 'right_hand' 'feet' 'right_hand' 'feet' 'feet' 'tongue' 'feet' 'feet'\n",
      " 'tongue' 'tongue' 'tongue' 'tongue' 'tongue' 'feet' 'right_hand'\n",
      " 'left_hand' 'left_hand' 'right_hand' 'feet' 'tongue' 'right_hand' 'feet'\n",
      " 'left_hand' 'left_hand' 'left_hand' 'tongue' 'right_hand' 'right_hand'\n",
      " 'left_hand' 'left_hand' 'feet' 'left_hand' 'right_hand' 'tongue' 'tongue'\n",
      " 'feet' 'left_hand' 'tongue' 'tongue' 'right_hand' 'tongue' 'tongue'\n",
      " 'right_hand' 'left_hand' 'right_hand' 'feet' 'feet' 'feet' 'tongue'\n",
      " 'feet' 'left_hand' 'tongue' 'right_hand' 'feet' 'right_hand' 'feet'\n",
      " 'tongue' 'right_hand' 'feet' 'left_hand' 'left_hand' 'left_hand' 'tongue'\n",
      " 'right_hand' 'left_hand' 'feet' 'left_hand' 'feet' 'right_hand' 'tongue'\n",
      " 'left_hand' 'feet' 'feet' 'left_hand' 'feet' 'right_hand' 'tongue'\n",
      " 'tongue' 'tongue' 'feet' 'left_hand' 'tongue' 'right_hand' 'tongue'\n",
      " 'right_hand' 'left_hand' 'feet' 'right_hand' 'left_hand' 'feet' 'feet'\n",
      " 'left_hand' 'feet' 'tongue' 'tongue' 'right_hand' 'left_hand'\n",
      " 'right_hand' 'tongue' 'right_hand' 'tongue' 'feet' 'right_hand'\n",
      " 'right_hand' 'right_hand' 'feet' 'tongue' 'left_hand' 'right_hand'\n",
      " 'tongue' 'left_hand' 'feet' 'feet' 'tongue' 'left_hand' 'left_hand'\n",
      " 'feet' 'right_hand' 'tongue' 'tongue' 'tongue' 'right_hand' 'left_hand'\n",
      " 'feet' 'right_hand' 'tongue' 'left_hand' 'tongue' 'feet' 'right_hand'\n",
      " 'tongue' 'tongue' 'left_hand' 'right_hand' 'right_hand' 'feet' 'tongue'\n",
      " 'right_hand' 'left_hand' 'left_hand' 'tongue' 'right_hand' 'left_hand'\n",
      " 'feet' 'right_hand' 'right_hand' 'feet' 'left_hand' 'tongue' 'feet'\n",
      " 'feet' 'feet' 'feet' 'left_hand' 'right_hand' 'left_hand' 'right_hand'\n",
      " 'left_hand' 'left_hand' 'feet' 'feet' 'right_hand' 'feet' 'tongue'\n",
      " 'left_hand' 'tongue' 'left_hand' 'left_hand' 'right_hand' 'tongue' 'feet'\n",
      " 'right_hand' 'tongue' 'feet' 'tongue' 'feet' 'tongue' 'right_hand'\n",
      " 'right_hand' 'tongue' 'left_hand' 'right_hand' 'right_hand' 'right_hand'\n",
      " 'feet' 'tongue' 'left_hand' 'tongue' 'left_hand' 'feet' 'left_hand'\n",
      " 'tongue' 'left_hand' 'feet' 'left_hand' 'right_hand' 'feet' 'feet'\n",
      " 'tongue' 'left_hand' 'right_hand' 'tongue' 'right_hand' 'feet' 'feet'\n",
      " 'left_hand' 'tongue' 'right_hand' 'tongue' 'left_hand' 'left_hand' 'feet'\n",
      " 'feet' 'right_hand' 'tongue' 'right_hand' 'right_hand' 'left_hand'\n",
      " 'right_hand' 'tongue' 'tongue' 'right_hand' 'right_hand' 'right_hand'\n",
      " 'right_hand' 'tongue' 'tongue' 'feet' 'tongue' 'left_hand' 'right_hand'\n",
      " 'feet' 'right_hand' 'left_hand' 'tongue' 'left_hand' 'tongue' 'left_hand'\n",
      " 'left_hand' 'left_hand' 'left_hand' 'feet' 'feet' 'tongue' 'right_hand'\n",
      " 'feet' 'feet' 'feet' 'tongue' 'feet' 'left_hand' 'feet']\n"
     ]
    }
   ],
   "source": [
    "print(paradigm.get_data(dataset=dataset, subjects=[1]))"
   ]
  },
  {
   "cell_type": "code",
   "execution_count": 81,
   "id": "a22c4577",
   "metadata": {},
   "outputs": [],
   "source": [
    "##############################################################################\n",
    "# The data from a list of subjects could be preprocessed and return as a 3D\n",
    "# numpy array `X`, follow a scikit-like format with the associated `labels`.\n",
    "# The `meta` object contains all information regarding the subject, the\n",
    "# session and the run associated to each trial.\n",
    "X, labels, meta = paradigm.get_data(dataset=dataset, subjects=[1])"
   ]
  },
  {
   "cell_type": "code",
   "execution_count": 83,
   "id": "92194709",
   "metadata": {},
   "outputs": [
    {
     "name": "stdout",
     "output_type": "stream",
     "text": [
      "(576, 22, 1001) (576,)      subject session run\n",
      "0          1  0train   0\n",
      "1          1  0train   0\n",
      "2          1  0train   0\n",
      "3          1  0train   0\n",
      "4          1  0train   0\n",
      "..       ...     ...  ..\n",
      "571        1   1test   5\n",
      "572        1   1test   5\n",
      "573        1   1test   5\n",
      "574        1   1test   5\n",
      "575        1   1test   5\n",
      "\n",
      "[576 rows x 3 columns]\n"
     ]
    }
   ],
   "source": [
    "print(X.shape, labels.shape, meta)"
   ]
  },
  {
   "cell_type": "code",
   "execution_count": 84,
   "id": "e3a91690",
   "metadata": {},
   "outputs": [],
   "source": [
    "##############################################################################\n",
    "# Create Pipeline\n",
    "# ---------------\n",
    "#\n",
    "# Our goal is to evaluate the performance of a given classification pipeline\n",
    "# (or several of them) when it is applied to the epochs from the previously\n",
    "# chosen dataset. We will consider a very simple classification pipeline in\n",
    "# which the dimension of the epochs are reduced via a CSP step and then\n",
    "# classified via a linear discriminant analysis.\n",
    "\n",
    "pipeline = make_pipeline(CSP(n_components=8), LDA())"
   ]
  },
  {
   "cell_type": "code",
   "execution_count": 85,
   "id": "14e732e3",
   "metadata": {},
   "outputs": [],
   "source": [
    "##############################################################################\n",
    "# Evaluation\n",
    "# ----------\n",
    "#\n",
    "# To evaluate the score of this pipeline, we use the `evaluation` class. When\n",
    "# instantiating it, we say which paradigm we want to consider, a list with the\n",
    "# datasets to analyze, and whether the scores should be recalculated each time\n",
    "# we run the evaluation or if MOABB should create a cache file.\n",
    "#\n",
    "# Note that there are different ways of evaluating a classifier; in this\n",
    "# example, we choose `WithinSessionEvaluation`, which consists of doing a\n",
    "# cross-validation procedure where the training and testing partitions are from\n",
    "# the same recording session of the dataset. We could have used\n",
    "# `CrossSessionEvaluation`, which takes all but one session as training\n",
    "# partition and the remaining one as testing partition.\n",
    "\n",
    "evaluation = WithinSessionEvaluation(\n",
    "    paradigm=paradigm,\n",
    "    datasets=[dataset],\n",
    "    overwrite=True,\n",
    "    hdf5_path=None,\n",
    ")\n",
    "\n"
   ]
  },
  {
   "cell_type": "code",
   "execution_count": 86,
   "id": "0c52ce36",
   "metadata": {},
   "outputs": [
    {
     "name": "stderr",
     "output_type": "stream",
     "text": [
      "2024-06-03 20:08:40,882 INFO MainThread moabb.evaluations.base Processing dataset: BNCI2014-001\n",
      "BNCI2014-001-WithinSession:   0%|          | 0/3 [00:00<?, ?it/s]"
     ]
    },
    {
     "name": "stdout",
     "output_type": "stream",
     "text": [
      "No hdf5_path provided, models will not be saved.\n"
     ]
    },
    {
     "name": "stderr",
     "output_type": "stream",
     "text": [
      "2024-06-03 20:08:59,881 INFO MainThread moabb.evaluations.base csp+lda | BNCI2014-001 | 1 | 0train: Score 0.736\n"
     ]
    },
    {
     "name": "stdout",
     "output_type": "stream",
     "text": [
      "No hdf5_path provided, models will not be saved.\n"
     ]
    },
    {
     "name": "stderr",
     "output_type": "stream",
     "text": [
      "2024-06-03 20:09:08,754 INFO MainThread moabb.evaluations.base csp+lda | BNCI2014-001 | 1 | 1test: Score 0.743\n",
      "BNCI2014-001-WithinSession:  33%|███▎      | 1/3 [00:28<00:57, 28.54s/it]"
     ]
    },
    {
     "name": "stdout",
     "output_type": "stream",
     "text": [
      "No hdf5_path provided, models will not be saved.\n"
     ]
    },
    {
     "name": "stderr",
     "output_type": "stream",
     "text": [
      "2024-06-03 20:09:28,186 INFO MainThread moabb.evaluations.base csp+lda | BNCI2014-001 | 2 | 0train: Score 0.684\n"
     ]
    },
    {
     "name": "stdout",
     "output_type": "stream",
     "text": [
      "No hdf5_path provided, models will not be saved.\n"
     ]
    },
    {
     "name": "stderr",
     "output_type": "stream",
     "text": [
      "2024-06-03 20:09:35,566 INFO MainThread moabb.evaluations.base csp+lda | BNCI2014-001 | 2 | 1test: Score 0.604\n",
      "BNCI2014-001-WithinSession:  67%|██████▋   | 2/3 [00:55<00:27, 27.50s/it]"
     ]
    },
    {
     "name": "stdout",
     "output_type": "stream",
     "text": [
      "No hdf5_path provided, models will not be saved.\n"
     ]
    },
    {
     "name": "stderr",
     "output_type": "stream",
     "text": [
      "2024-06-03 20:09:51,457 INFO MainThread moabb.evaluations.base csp+lda | BNCI2014-001 | 3 | 0train: Score 0.844\n"
     ]
    },
    {
     "name": "stdout",
     "output_type": "stream",
     "text": [
      "No hdf5_path provided, models will not be saved.\n"
     ]
    },
    {
     "name": "stderr",
     "output_type": "stream",
     "text": [
      "2024-06-03 20:09:59,674 INFO MainThread moabb.evaluations.base csp+lda | BNCI2014-001 | 3 | 1test: Score 0.858\n",
      "BNCI2014-001-WithinSession: 100%|██████████| 3/3 [01:19<00:00, 26.49s/it]\n"
     ]
    }
   ],
   "source": [
    "##############################################################################\n",
    "# We obtain the results in the form of a pandas dataframe\n",
    "\n",
    "results = evaluation.process({\"csp+lda\": pipeline})"
   ]
  },
  {
   "cell_type": "code",
   "execution_count": 87,
   "id": "c839a3c5",
   "metadata": {},
   "outputs": [],
   "source": [
    "##############################################################################\n",
    "# The results are stored in locally, to avoid recomputing the results each time.\n",
    "# It is saved in `hdf5_path` if defined or in ~/mne_data/results  otherwise.\n",
    "# To export the results in CSV:\n",
    "\n",
    "results.to_csv(\"./results_part2-1.csv\")\n",
    "\n",
    "##############################################################################\n",
    "# To load previously obtained results saved in CSV\n",
    "\n",
    "results = pd.read_csv(\"./results_part2-1.csv\")\n",
    "\n"
   ]
  },
  {
   "cell_type": "code",
   "execution_count": 88,
   "id": "377e05cc",
   "metadata": {},
   "outputs": [
    {
     "data": {
      "image/png": "[encoded data removed]",
      "text/plain": [
       "<Figure size 800x700 with 1 Axes>"
      ]
     },
     "metadata": {},
     "output_type": "display_data"
    }
   ],
   "source": [
    "##############################################################################\n",
    "# Plotting Results\n",
    "# ----------------\n",
    "#\n",
    "# We create a figure with the seaborn package comparing the classification\n",
    "# score for each subject on each session. Note that the 'subject' field from\n",
    "# the `results` is given in terms of integers, but seaborn accepts only\n",
    "# strings for its labeling. This is why we create the field 'subj'.\n",
    "\n",
    "fig, ax = plt.subplots(figsize=(8, 7))\n",
    "results[\"subj\"] = results[\"subject\"].apply(str)\n",
    "sns.barplot(\n",
    "    x=\"score\", y=\"subj\", hue=\"session\", data=results, orient=\"h\", palette=\"viridis\", ax=ax\n",
    ")\n",
    "plt.show()"
   ]
  }
 ],
 "metadata": {
  "kernelspec": {
   "display_name": "Python 3 (ipykernel)",
   "language": "python",
   "name": "python3"
  },
  "language_info": {
   "codemirror_mode": {
    "name": "ipython",
    "version": 3
   },
   "file_extension": ".py",
   "mimetype": "text/x-python",
   "name": "python",
   "nbconvert_exporter": "python",
   "pygments_lexer": "ipython3",
   "version": "3.8.18"
  }
 },
 "nbformat": 4,
 "nbformat_minor": 5
}
