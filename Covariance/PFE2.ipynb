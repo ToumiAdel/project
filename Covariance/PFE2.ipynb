{
 "cells": [
  {
   "cell_type": "markdown",
   "metadata": {},
   "source": [
    "Ce notebook propose une analyse du Dataset 2a de la BCI Competition, qui comporte quatre classes : left hand (main gauche), right hand (main droite), tongue (langue) et feet (pieds). L'objectif est d'observer l'évolution des matrices de covariance des signaux à travers le temp."
   ]
  },
  {
   "cell_type": "markdown",
   "metadata": {},
   "source": [
    "<h1> A propos des données </h1>\n",
    "Cet ensemble de données se compose de données EEG provenant de 9 sujets. Le paradigme BCI basé sur des indices se composait de quatre tâches d'imagerie motrice différentes, à savoir l'imagination du mouvement de la main gauche (classe 1), de la main droite (classe 2), des deux pieds (classe 3) et de la langue (classe 4). Deux sessions ont été enregistrées pour chaque sujet, à des jours différents. Chaque session est composée de 6 séquences séparées par de courtes pauses. Une séquence se compose de 48 essais (12 pour chacune des quatre classes possibles), ce qui donne un total de 288 essais par session.\n",
    "\n",
    "Les sujets étaient assis dans un fauteuil confortable devant un écran d'ordinateur. Au début d'un essai (t = 0 s), une croix de fixation apparaissait sur l'écran noir. De plus, un bref signal sonore d'avertissement était présenté. Après deux secondes (t = 2 s), un indice sous forme d'une flèche pointant vers la gauche, la droite, le bas ou le haut (correspondant à l'une des quatre classes de la main gauche, de la main droite, du pied ou de la langue) apparaissait et restait sur l'écran pendant 1,25 s. Cela incitait les sujets à effectuer la tâche d'imagerie motrice désirée. Aucune rétroaction n'était fournie. Les sujets étaient invités à effectuer la tâche d'imagerie motrice jusqu'à ce que la croix de fixation disparaisse de l'écran à t = 6 s.\n",
    "\n",
    "Vingt-deux électrodes Ag/AgCl (avec des distances inter-électrodes de 3,5 cm) ont été utilisées pour enregistrer l'EEG ; le montage est présenté dans la figure 3 à gauche. Tous les signaux ont été enregistrés de manière monopolaire, avec le mastoïde gauche comme référence et le mastoïde droit comme terre. Les signaux ont été échantillonnés à 250 Hz et filtrés en bande passante entre 0,5 Hz et 100 Hz. La sensibilité de l'amplificateur a été réglée à 100 μV. Un filtre coupe-bande supplémentaire à 50 Hz a été activé pour supprimer le bruit de ligne."
   ]
  },
  {
   "cell_type": "markdown",
   "metadata": {},
   "source": [
    "<h1>Importation et Prétraitement des Données :</h1> Les données de la première session du premier sujet sont chargées à partir du Dataset 2a. Les segments correspondant à chaque classe (left hand, right hand, tongue, feet) sont extraits de la  première session du premier run du premier sujet."
   ]
  },
  {
   "cell_type": "code",
   "execution_count": 13,
   "metadata": {},
   "outputs": [],
   "source": [
    "import mne\n",
    "import numpy as np\n",
    "from moabb.datasets import BNCI2014_001\n",
    "import matplotlib.pyplot as plt\n",
    "from pyriemann.utils.base import logm, expm\n",
    "from scipy.linalg import sqrtm\n",
    "\n",
    "def transport_vector(Delta, A, B):\n",
    "    inv_B = np.linalg.inv(B)\n",
    "    A_invB = np.dot(A, inv_B)\n",
    "    E = sqrtm(A_invB)\n",
    "    transported_Delta = np.dot(np.dot(E, Delta), E.T)\n",
    "    return transported_Delta\n",
    "\n",
    "def inverse_tangent_space_projection(ProjB_A, B):\n",
    "    sqrt_B = sqrtm(B)\n",
    "    sqrt_inv_B = np.linalg.inv(sqrt_B)\n",
    "    transformed_ProjB_A = np.dot(np.dot(sqrt_inv_B, ProjB_A), sqrt_inv_B)\n",
    "    exp_transformed_ProjB_A = expm(transformed_ProjB_A)\n",
    "    original_A = np.dot(np.dot(sqrt_B, exp_transformed_ProjB_A), sqrt_B)\n",
    "    return original_A\n",
    "\n",
    "def tangent_space_projection(A, B):\n",
    "    sqrt_B = sqrtm(B)\n",
    "    sqrt_inv_B = np.linalg.inv(sqrt_B)\n",
    "    transformed_A = np.dot(np.dot(sqrt_inv_B, A), sqrt_inv_B)\n",
    "    log_transformed_A = logm(transformed_A)\n",
    "    tangent_space_A = np.dot(np.dot(sqrt_B, log_transformed_A), sqrt_B)\n",
    "    return tangent_space_A\n",
    "\n",
    "def compute_trajectoires(dataset,subject,session_name,run_name, tmin, tmax, tstride, stride):\n",
    "    \n",
    "    sessions = dataset.get_data(subjects=[subject])\n",
    "    raw = sessions[subject][session_name][run_name]\n",
    "    events, event_id = mne.events_from_annotations(raw)\n",
    "    epochs = mne.Epochs(raw, events, event_id, tmin=tmin, tmax=tmax, baseline=None, preload=True)\n",
    "    \n",
    "    cov_list = []\n",
    "    projections = []\n",
    "    label_list = []\n",
    "    trajectoire = []\n",
    "    label =[]\n",
    "\n",
    "    for i in range(epochs.events.shape[0]):\n",
    "        epoch = epochs[i]\n",
    "        start = 0\n",
    "        end = tstride\n",
    "        cpt = 0\n",
    "        cropped_epoch = epoch.copy().crop(tmin=0, tmax=tstride)\n",
    "        cov_segment = mne.compute_covariance(cropped_epoch, method='empirical')\n",
    "        cov_list.append(cov_segment['data'])\n",
    "        label_list.append(epoch.events[0, -1])\n",
    "        while end <= tmax - tmin:\n",
    "            start += stride\n",
    "            end = start + tstride\n",
    "            cropped_epoch = epoch.copy().crop(tmin=start, tmax=end)\n",
    "            if cropped_epoch.get_data().shape[-1] > 1:\n",
    "                cov_segment = mne.compute_covariance(cropped_epoch, method='empirical')\n",
    "                cov_list.append(cov_segment['data'])\n",
    "                label_list.append(epoch.events[0, -1])\n",
    "                projections.append(tangent_space_projection(cov_list[i+cpt], cov_list[i+cpt+1]))\n",
    "                for j in range(i+cpt-1, -1, -1):\n",
    "                    projections[j] = transport_vector(projections[j], cov_list[i+cpt+1], cov_list[i+cpt])\n",
    "            cpt += 1\n",
    "        cpt_sum = 0\n",
    "        for k in range(i, i+cpt):\n",
    "            cpt_sum += projections[k]\n",
    "            if (k + 1) % cpt == 0:  # Si le nombre de matrices de covariance atteint cpt\n",
    "                trajectoire.append(cpt_sum)\n",
    "                label.append(label_list[i]%cpt) \n",
    "                cpt_sum = 0\n",
    "\n",
    "\n",
    "    return cov_list,projections, label_list,  trajectoire , label\n",
    "\n"
   ]
  },
  {
   "cell_type": "code",
   "execution_count": 14,
   "metadata": {},
   "outputs": [
    {
     "name": "stdout",
     "output_type": "stream",
     "text": [
      "Used Annotations descriptions: ['feet', 'left_hand', 'right_hand', 'tongue']\n",
      "Not setting metadata\n",
      "48 matching events found\n",
      "No baseline correction applied\n",
      "0 projection items activated\n",
      "Using data from preloaded Raw for 48 events and 1251 original time points ...\n",
      "0 bad epochs dropped\n",
      "Computing rank from data with rank=None\n",
      "    Using tolerance 5.2e-12 (2.2e-16 eps * 22 dim * 1.1e+03  max singular value)\n",
      "    Estimated rank (eeg): 22\n",
      "    EEG: rank 22 computed from 22 data channels with 0 projectors\n",
      "Reducing data rank from 22 -> 22\n",
      "Estimating covariance using EMPIRICAL\n",
      "Done.\n",
      "Number of samples used : 501\n",
      "[done]\n"
     ]
    },
    {
     "name": "stderr",
     "output_type": "stream",
     "text": [
      "C:\\Users\\ABC\\AppData\\Local\\Temp\\ipykernel_12960\\910821214.py:50: RuntimeWarning: Epochs are not baseline corrected, covariance matrix may be inaccurate\n",
      "  cov_segment = mne.compute_covariance(cropped_epoch, method='empirical')\n",
      "C:\\Users\\ABC\\AppData\\Local\\Temp\\ipykernel_12960\\910821214.py:57: FutureWarning: The current default of copy=False will change to copy=True in 1.7. Set the value of copy explicitly to avoid this warning\n",
      "  if cropped_epoch.get_data().shape[-1] > 1:\n",
      "C:\\Users\\ABC\\AppData\\Local\\Temp\\ipykernel_12960\\910821214.py:57: FutureWarning: The current default of copy=False will change to copy=True in 1.7. Set the value of copy explicitly to avoid this warning\n",
      "  if cropped_epoch.get_data().shape[-1] > 1:\n",
      "C:\\Users\\ABC\\AppData\\Local\\Temp\\ipykernel_12960\\910821214.py:57: FutureWarning: The current default of copy=False will change to copy=True in 1.7. Set the value of copy explicitly to avoid this warning\n",
      "  if cropped_epoch.get_data().shape[-1] > 1:\n",
      "C:\\Users\\ABC\\AppData\\Local\\Temp\\ipykernel_12960\\910821214.py:57: FutureWarning: The current default of copy=False will change to copy=True in 1.7. Set the value of copy explicitly to avoid this warning\n",
      "  if cropped_epoch.get_data().shape[-1] > 1:\n",
      "C:\\Users\\ABC\\AppData\\Local\\Temp\\ipykernel_12960\\910821214.py:56: RuntimeWarning: tmax is not in time interval. tmax is set to <class 'mne.epochs.Epochs'>.tmax (4 s)\n",
      "  cropped_epoch = epoch.copy().crop(tmin=start, tmax=end)\n",
      "C:\\Users\\ABC\\AppData\\Local\\Temp\\ipykernel_12960\\910821214.py:57: FutureWarning: The current default of copy=False will change to copy=True in 1.7. Set the value of copy explicitly to avoid this warning\n",
      "  if cropped_epoch.get_data().shape[-1] > 1:\n",
      "C:\\Users\\ABC\\AppData\\Local\\Temp\\ipykernel_12960\\910821214.py:56: RuntimeWarning: tmax is not in time interval. tmax is set to <class 'mne.epochs.Epochs'>.tmax (4 s)\n",
      "  cropped_epoch = epoch.copy().crop(tmin=start, tmax=end)\n",
      "C:\\Users\\ABC\\AppData\\Local\\Temp\\ipykernel_12960\\910821214.py:57: FutureWarning: The current default of copy=False will change to copy=True in 1.7. Set the value of copy explicitly to avoid this warning\n",
      "  if cropped_epoch.get_data().shape[-1] > 1:\n"
     ]
    },
    {
     "name": "stdout",
     "output_type": "stream",
     "text": [
      "Computing rank from data with rank=None\n",
      "    Using tolerance 4.9e-12 (2.2e-16 eps * 22 dim * 1e+03  max singular value)\n",
      "    Estimated rank (eeg): 22\n",
      "    EEG: rank 22 computed from 22 data channels with 0 projectors\n",
      "Reducing data rank from 22 -> 22\n",
      "Estimating covariance using EMPIRICAL\n",
      "Done.\n",
      "Number of samples used : 501\n",
      "[done]\n"
     ]
    },
    {
     "name": "stderr",
     "output_type": "stream",
     "text": [
      "C:\\Users\\ABC\\AppData\\Local\\Temp\\ipykernel_12960\\910821214.py:56: RuntimeWarning: tmax is not in time interval. tmax is set to <class 'mne.epochs.Epochs'>.tmax (4 s)\n",
      "  cropped_epoch = epoch.copy().crop(tmin=start, tmax=end)\n",
      "C:\\Users\\ABC\\AppData\\Local\\Temp\\ipykernel_12960\\910821214.py:57: FutureWarning: The current default of copy=False will change to copy=True in 1.7. Set the value of copy explicitly to avoid this warning\n",
      "  if cropped_epoch.get_data().shape[-1] > 1:\n",
      "C:\\Users\\ABC\\AppData\\Local\\Temp\\ipykernel_12960\\910821214.py:50: RuntimeWarning: Epochs are not baseline corrected, covariance matrix may be inaccurate\n",
      "  cov_segment = mne.compute_covariance(cropped_epoch, method='empirical')\n",
      "C:\\Users\\ABC\\AppData\\Local\\Temp\\ipykernel_12960\\910821214.py:57: FutureWarning: The current default of copy=False will change to copy=True in 1.7. Set the value of copy explicitly to avoid this warning\n",
      "  if cropped_epoch.get_data().shape[-1] > 1:\n",
      "C:\\Users\\ABC\\AppData\\Local\\Temp\\ipykernel_12960\\910821214.py:57: FutureWarning: The current default of copy=False will change to copy=True in 1.7. Set the value of copy explicitly to avoid this warning\n",
      "  if cropped_epoch.get_data().shape[-1] > 1:\n",
      "C:\\Users\\ABC\\AppData\\Local\\Temp\\ipykernel_12960\\910821214.py:57: FutureWarning: The current default of copy=False will change to copy=True in 1.7. Set the value of copy explicitly to avoid this warning\n",
      "  if cropped_epoch.get_data().shape[-1] > 1:\n",
      "C:\\Users\\ABC\\AppData\\Local\\Temp\\ipykernel_12960\\910821214.py:57: FutureWarning: The current default of copy=False will change to copy=True in 1.7. Set the value of copy explicitly to avoid this warning\n",
      "  if cropped_epoch.get_data().shape[-1] > 1:\n",
      "C:\\Users\\ABC\\AppData\\Local\\Temp\\ipykernel_12960\\910821214.py:56: RuntimeWarning: tmax is not in time interval. tmax is set to <class 'mne.epochs.Epochs'>.tmax (4 s)\n",
      "  cropped_epoch = epoch.copy().crop(tmin=start, tmax=end)\n",
      "C:\\Users\\ABC\\AppData\\Local\\Temp\\ipykernel_12960\\910821214.py:57: FutureWarning: The current default of copy=False will change to copy=True in 1.7. Set the value of copy explicitly to avoid this warning\n",
      "  if cropped_epoch.get_data().shape[-1] > 1:\n"
     ]
    },
    {
     "name": "stdout",
     "output_type": "stream",
     "text": [
      "Computing rank from data with rank=None\n",
      "    Using tolerance 5.1e-12 (2.2e-16 eps * 22 dim * 1e+03  max singular value)\n",
      "    Estimated rank (eeg): 22\n",
      "    EEG: rank 22 computed from 22 data channels with 0 projectors\n",
      "Reducing data rank from 22 -> 22\n",
      "Estimating covariance using EMPIRICAL\n",
      "Done.\n",
      "Number of samples used : 501\n",
      "[done]\n"
     ]
    },
    {
     "name": "stderr",
     "output_type": "stream",
     "text": [
      "C:\\Users\\ABC\\AppData\\Local\\Temp\\ipykernel_12960\\910821214.py:56: RuntimeWarning: tmax is not in time interval. tmax is set to <class 'mne.epochs.Epochs'>.tmax (4 s)\n",
      "  cropped_epoch = epoch.copy().crop(tmin=start, tmax=end)\n",
      "C:\\Users\\ABC\\AppData\\Local\\Temp\\ipykernel_12960\\910821214.py:57: FutureWarning: The current default of copy=False will change to copy=True in 1.7. Set the value of copy explicitly to avoid this warning\n",
      "  if cropped_epoch.get_data().shape[-1] > 1:\n",
      "C:\\Users\\ABC\\AppData\\Local\\Temp\\ipykernel_12960\\910821214.py:56: RuntimeWarning: tmax is not in time interval. tmax is set to <class 'mne.epochs.Epochs'>.tmax (4 s)\n",
      "  cropped_epoch = epoch.copy().crop(tmin=start, tmax=end)\n",
      "C:\\Users\\ABC\\AppData\\Local\\Temp\\ipykernel_12960\\910821214.py:57: FutureWarning: The current default of copy=False will change to copy=True in 1.7. Set the value of copy explicitly to avoid this warning\n",
      "  if cropped_epoch.get_data().shape[-1] > 1:\n",
      "C:\\Users\\ABC\\AppData\\Local\\Temp\\ipykernel_12960\\910821214.py:50: RuntimeWarning: Epochs are not baseline corrected, covariance matrix may be inaccurate\n",
      "  cov_segment = mne.compute_covariance(cropped_epoch, method='empirical')\n",
      "C:\\Users\\ABC\\AppData\\Local\\Temp\\ipykernel_12960\\910821214.py:57: FutureWarning: The current default of copy=False will change to copy=True in 1.7. Set the value of copy explicitly to avoid this warning\n",
      "  if cropped_epoch.get_data().shape[-1] > 1:\n",
      "C:\\Users\\ABC\\AppData\\Local\\Temp\\ipykernel_12960\\910821214.py:57: FutureWarning: The current default of copy=False will change to copy=True in 1.7. Set the value of copy explicitly to avoid this warning\n",
      "  if cropped_epoch.get_data().shape[-1] > 1:\n",
      "C:\\Users\\ABC\\AppData\\Local\\Temp\\ipykernel_12960\\910821214.py:57: FutureWarning: The current default of copy=False will change to copy=True in 1.7. Set the value of copy explicitly to avoid this warning\n",
      "  if cropped_epoch.get_data().shape[-1] > 1:\n"
     ]
    },
    {
     "name": "stdout",
     "output_type": "stream",
     "text": [
      "Computing rank from data with rank=None\n",
      "    Using tolerance 4.6e-12 (2.2e-16 eps * 22 dim * 9.4e+02  max singular value)\n",
      "    Estimated rank (eeg): 22\n"
     ]
    },
    {
     "name": "stderr",
     "output_type": "stream",
     "text": [
      "C:\\Users\\ABC\\AppData\\Local\\Temp\\ipykernel_12960\\910821214.py:57: FutureWarning: The current default of copy=False will change to copy=True in 1.7. Set the value of copy explicitly to avoid this warning\n",
      "  if cropped_epoch.get_data().shape[-1] > 1:\n",
      "C:\\Users\\ABC\\AppData\\Local\\Temp\\ipykernel_12960\\910821214.py:56: RuntimeWarning: tmax is not in time interval. tmax is set to <class 'mne.epochs.Epochs'>.tmax (4 s)\n",
      "  cropped_epoch = epoch.copy().crop(tmin=start, tmax=end)\n",
      "C:\\Users\\ABC\\AppData\\Local\\Temp\\ipykernel_12960\\910821214.py:57: FutureWarning: The current default of copy=False will change to copy=True in 1.7. Set the value of copy explicitly to avoid this warning\n",
      "  if cropped_epoch.get_data().shape[-1] > 1:\n",
      "C:\\Users\\ABC\\AppData\\Local\\Temp\\ipykernel_12960\\910821214.py:56: RuntimeWarning: tmax is not in time interval. tmax is set to <class 'mne.epochs.Epochs'>.tmax (4 s)\n",
      "  cropped_epoch = epoch.copy().crop(tmin=start, tmax=end)\n",
      "C:\\Users\\ABC\\AppData\\Local\\Temp\\ipykernel_12960\\910821214.py:57: FutureWarning: The current default of copy=False will change to copy=True in 1.7. Set the value of copy explicitly to avoid this warning\n",
      "  if cropped_epoch.get_data().shape[-1] > 1:\n",
      "C:\\Users\\ABC\\AppData\\Local\\Temp\\ipykernel_12960\\910821214.py:56: RuntimeWarning: tmax is not in time interval. tmax is set to <class 'mne.epochs.Epochs'>.tmax (4 s)\n",
      "  cropped_epoch = epoch.copy().crop(tmin=start, tmax=end)\n",
      "C:\\Users\\ABC\\AppData\\Local\\Temp\\ipykernel_12960\\910821214.py:57: FutureWarning: The current default of copy=False will change to copy=True in 1.7. Set the value of copy explicitly to avoid this warning\n",
      "  if cropped_epoch.get_data().shape[-1] > 1:\n",
      "C:\\Users\\ABC\\AppData\\Local\\Temp\\ipykernel_12960\\910821214.py:50: RuntimeWarning: Epochs are not baseline corrected, covariance matrix may be inaccurate\n",
      "  cov_segment = mne.compute_covariance(cropped_epoch, method='empirical')\n"
     ]
    },
    {
     "name": "stdout",
     "output_type": "stream",
     "text": [
      "    EEG: rank 22 computed from 22 data channels with 0 projectors\n",
      "Reducing data rank from 22 -> 22\n",
      "Estimating covariance using EMPIRICAL\n",
      "Done.\n",
      "Number of samples used : 501\n",
      "[done]\n"
     ]
    },
    {
     "name": "stderr",
     "output_type": "stream",
     "text": [
      "C:\\Users\\ABC\\AppData\\Local\\Temp\\ipykernel_12960\\910821214.py:57: FutureWarning: The current default of copy=False will change to copy=True in 1.7. Set the value of copy explicitly to avoid this warning\n",
      "  if cropped_epoch.get_data().shape[-1] > 1:\n",
      "C:\\Users\\ABC\\AppData\\Local\\Temp\\ipykernel_12960\\910821214.py:57: FutureWarning: The current default of copy=False will change to copy=True in 1.7. Set the value of copy explicitly to avoid this warning\n",
      "  if cropped_epoch.get_data().shape[-1] > 1:\n"
     ]
    },
    {
     "name": "stdout",
     "output_type": "stream",
     "text": [
      "Computing rank from data with rank=None\n"
     ]
    },
    {
     "name": "stderr",
     "output_type": "stream",
     "text": [
      "C:\\Users\\ABC\\AppData\\Local\\Temp\\ipykernel_12960\\910821214.py:57: FutureWarning: The current default of copy=False will change to copy=True in 1.7. Set the value of copy explicitly to avoid this warning\n",
      "  if cropped_epoch.get_data().shape[-1] > 1:\n",
      "C:\\Users\\ABC\\AppData\\Local\\Temp\\ipykernel_12960\\910821214.py:57: FutureWarning: The current default of copy=False will change to copy=True in 1.7. Set the value of copy explicitly to avoid this warning\n",
      "  if cropped_epoch.get_data().shape[-1] > 1:\n",
      "C:\\Users\\ABC\\AppData\\Local\\Temp\\ipykernel_12960\\910821214.py:56: RuntimeWarning: tmax is not in time interval. tmax is set to <class 'mne.epochs.Epochs'>.tmax (4 s)\n",
      "  cropped_epoch = epoch.copy().crop(tmin=start, tmax=end)\n",
      "C:\\Users\\ABC\\AppData\\Local\\Temp\\ipykernel_12960\\910821214.py:57: FutureWarning: The current default of copy=False will change to copy=True in 1.7. Set the value of copy explicitly to avoid this warning\n",
      "  if cropped_epoch.get_data().shape[-1] > 1:\n",
      "C:\\Users\\ABC\\AppData\\Local\\Temp\\ipykernel_12960\\910821214.py:56: RuntimeWarning: tmax is not in time interval. tmax is set to <class 'mne.epochs.Epochs'>.tmax (4 s)\n",
      "  cropped_epoch = epoch.copy().crop(tmin=start, tmax=end)\n",
      "C:\\Users\\ABC\\AppData\\Local\\Temp\\ipykernel_12960\\910821214.py:57: FutureWarning: The current default of copy=False will change to copy=True in 1.7. Set the value of copy explicitly to avoid this warning\n",
      "  if cropped_epoch.get_data().shape[-1] > 1:\n",
      "C:\\Users\\ABC\\AppData\\Local\\Temp\\ipykernel_12960\\910821214.py:56: RuntimeWarning: tmax is not in time interval. tmax is set to <class 'mne.epochs.Epochs'>.tmax (4 s)\n",
      "  cropped_epoch = epoch.copy().crop(tmin=start, tmax=end)\n",
      "C:\\Users\\ABC\\AppData\\Local\\Temp\\ipykernel_12960\\910821214.py:57: FutureWarning: The current default of copy=False will change to copy=True in 1.7. Set the value of copy explicitly to avoid this warning\n",
      "  if cropped_epoch.get_data().shape[-1] > 1:\n",
      "C:\\Users\\ABC\\AppData\\Local\\Temp\\ipykernel_12960\\910821214.py:50: RuntimeWarning: Epochs are not baseline corrected, covariance matrix may be inaccurate\n",
      "  cov_segment = mne.compute_covariance(cropped_epoch, method='empirical')\n"
     ]
    },
    {
     "name": "stdout",
     "output_type": "stream",
     "text": [
      "    Using tolerance 5.2e-12 (2.2e-16 eps * 22 dim * 1.1e+03  max singular value)\n",
      "    Estimated rank (eeg): 22\n",
      "    EEG: rank 22 computed from 22 data channels with 0 projectors\n",
      "Reducing data rank from 22 -> 22\n",
      "Estimating covariance using EMPIRICAL\n",
      "Done.\n",
      "Number of samples used : 501\n",
      "[done]\n"
     ]
    },
    {
     "name": "stderr",
     "output_type": "stream",
     "text": [
      "C:\\Users\\ABC\\AppData\\Local\\Temp\\ipykernel_12960\\910821214.py:57: FutureWarning: The current default of copy=False will change to copy=True in 1.7. Set the value of copy explicitly to avoid this warning\n",
      "  if cropped_epoch.get_data().shape[-1] > 1:\n",
      "C:\\Users\\ABC\\AppData\\Local\\Temp\\ipykernel_12960\\910821214.py:57: FutureWarning: The current default of copy=False will change to copy=True in 1.7. Set the value of copy explicitly to avoid this warning\n",
      "  if cropped_epoch.get_data().shape[-1] > 1:\n",
      "C:\\Users\\ABC\\AppData\\Local\\Temp\\ipykernel_12960\\910821214.py:57: FutureWarning: The current default of copy=False will change to copy=True in 1.7. Set the value of copy explicitly to avoid this warning\n",
      "  if cropped_epoch.get_data().shape[-1] > 1:\n",
      "C:\\Users\\ABC\\AppData\\Local\\Temp\\ipykernel_12960\\910821214.py:57: FutureWarning: The current default of copy=False will change to copy=True in 1.7. Set the value of copy explicitly to avoid this warning\n",
      "  if cropped_epoch.get_data().shape[-1] > 1:\n",
      "C:\\Users\\ABC\\AppData\\Local\\Temp\\ipykernel_12960\\910821214.py:56: RuntimeWarning: tmax is not in time interval. tmax is set to <class 'mne.epochs.Epochs'>.tmax (4 s)\n",
      "  cropped_epoch = epoch.copy().crop(tmin=start, tmax=end)\n",
      "C:\\Users\\ABC\\AppData\\Local\\Temp\\ipykernel_12960\\910821214.py:57: FutureWarning: The current default of copy=False will change to copy=True in 1.7. Set the value of copy explicitly to avoid this warning\n",
      "  if cropped_epoch.get_data().shape[-1] > 1:\n",
      "C:\\Users\\ABC\\AppData\\Local\\Temp\\ipykernel_12960\\910821214.py:56: RuntimeWarning: tmax is not in time interval. tmax is set to <class 'mne.epochs.Epochs'>.tmax (4 s)\n",
      "  cropped_epoch = epoch.copy().crop(tmin=start, tmax=end)\n",
      "C:\\Users\\ABC\\AppData\\Local\\Temp\\ipykernel_12960\\910821214.py:57: FutureWarning: The current default of copy=False will change to copy=True in 1.7. Set the value of copy explicitly to avoid this warning\n",
      "  if cropped_epoch.get_data().shape[-1] > 1:\n",
      "C:\\Users\\ABC\\AppData\\Local\\Temp\\ipykernel_12960\\910821214.py:56: RuntimeWarning: tmax is not in time interval. tmax is set to <class 'mne.epochs.Epochs'>.tmax (4 s)\n",
      "  cropped_epoch = epoch.copy().crop(tmin=start, tmax=end)\n",
      "C:\\Users\\ABC\\AppData\\Local\\Temp\\ipykernel_12960\\910821214.py:57: FutureWarning: The current default of copy=False will change to copy=True in 1.7. Set the value of copy explicitly to avoid this warning\n",
      "  if cropped_epoch.get_data().shape[-1] > 1:\n"
     ]
    },
    {
     "name": "stdout",
     "output_type": "stream",
     "text": [
      "Computing rank from data with rank=None\n",
      "    Using tolerance 4.1e-12 (2.2e-16 eps * 22 dim * 8.4e+02  max singular value)\n",
      "    Estimated rank (eeg): 22\n",
      "    EEG: rank 22 computed from 22 data channels with 0 projectors\n",
      "Reducing data rank from 22 -> 22\n",
      "Estimating covariance using EMPIRICAL\n",
      "Done.\n",
      "Number of samples used : 501\n",
      "[done]\n"
     ]
    },
    {
     "name": "stderr",
     "output_type": "stream",
     "text": [
      "C:\\Users\\ABC\\AppData\\Local\\Temp\\ipykernel_12960\\910821214.py:50: RuntimeWarning: Epochs are not baseline corrected, covariance matrix may be inaccurate\n",
      "  cov_segment = mne.compute_covariance(cropped_epoch, method='empirical')\n",
      "C:\\Users\\ABC\\AppData\\Local\\Temp\\ipykernel_12960\\910821214.py:57: FutureWarning: The current default of copy=False will change to copy=True in 1.7. Set the value of copy explicitly to avoid this warning\n",
      "  if cropped_epoch.get_data().shape[-1] > 1:\n",
      "C:\\Users\\ABC\\AppData\\Local\\Temp\\ipykernel_12960\\910821214.py:57: FutureWarning: The current default of copy=False will change to copy=True in 1.7. Set the value of copy explicitly to avoid this warning\n",
      "  if cropped_epoch.get_data().shape[-1] > 1:\n",
      "C:\\Users\\ABC\\AppData\\Local\\Temp\\ipykernel_12960\\910821214.py:57: FutureWarning: The current default of copy=False will change to copy=True in 1.7. Set the value of copy explicitly to avoid this warning\n",
      "  if cropped_epoch.get_data().shape[-1] > 1:\n",
      "C:\\Users\\ABC\\AppData\\Local\\Temp\\ipykernel_12960\\910821214.py:57: FutureWarning: The current default of copy=False will change to copy=True in 1.7. Set the value of copy explicitly to avoid this warning\n",
      "  if cropped_epoch.get_data().shape[-1] > 1:\n",
      "C:\\Users\\ABC\\AppData\\Local\\Temp\\ipykernel_12960\\910821214.py:56: RuntimeWarning: tmax is not in time interval. tmax is set to <class 'mne.epochs.Epochs'>.tmax (4 s)\n",
      "  cropped_epoch = epoch.copy().crop(tmin=start, tmax=end)\n",
      "C:\\Users\\ABC\\AppData\\Local\\Temp\\ipykernel_12960\\910821214.py:57: FutureWarning: The current default of copy=False will change to copy=True in 1.7. Set the value of copy explicitly to avoid this warning\n",
      "  if cropped_epoch.get_data().shape[-1] > 1:\n"
     ]
    },
    {
     "name": "stdout",
     "output_type": "stream",
     "text": [
      "Computing rank from data with rank=None\n",
      "    Using tolerance 4.6e-12 (2.2e-16 eps * 22 dim * 9.3e+02  max singular value)\n",
      "    Estimated rank (eeg): 22\n",
      "    EEG: rank 22 computed from 22 data channels with 0 projectors\n",
      "Reducing data rank from 22 -> 22\n",
      "Estimating covariance using EMPIRICAL\n",
      "Done.\n",
      "Number of samples used : 501\n",
      "[done]\n"
     ]
    },
    {
     "name": "stderr",
     "output_type": "stream",
     "text": [
      "C:\\Users\\ABC\\AppData\\Local\\Temp\\ipykernel_12960\\910821214.py:56: RuntimeWarning: tmax is not in time interval. tmax is set to <class 'mne.epochs.Epochs'>.tmax (4 s)\n",
      "  cropped_epoch = epoch.copy().crop(tmin=start, tmax=end)\n",
      "C:\\Users\\ABC\\AppData\\Local\\Temp\\ipykernel_12960\\910821214.py:57: FutureWarning: The current default of copy=False will change to copy=True in 1.7. Set the value of copy explicitly to avoid this warning\n",
      "  if cropped_epoch.get_data().shape[-1] > 1:\n",
      "C:\\Users\\ABC\\AppData\\Local\\Temp\\ipykernel_12960\\910821214.py:56: RuntimeWarning: tmax is not in time interval. tmax is set to <class 'mne.epochs.Epochs'>.tmax (4 s)\n",
      "  cropped_epoch = epoch.copy().crop(tmin=start, tmax=end)\n",
      "C:\\Users\\ABC\\AppData\\Local\\Temp\\ipykernel_12960\\910821214.py:57: FutureWarning: The current default of copy=False will change to copy=True in 1.7. Set the value of copy explicitly to avoid this warning\n",
      "  if cropped_epoch.get_data().shape[-1] > 1:\n",
      "C:\\Users\\ABC\\AppData\\Local\\Temp\\ipykernel_12960\\910821214.py:50: RuntimeWarning: Epochs are not baseline corrected, covariance matrix may be inaccurate\n",
      "  cov_segment = mne.compute_covariance(cropped_epoch, method='empirical')\n",
      "C:\\Users\\ABC\\AppData\\Local\\Temp\\ipykernel_12960\\910821214.py:57: FutureWarning: The current default of copy=False will change to copy=True in 1.7. Set the value of copy explicitly to avoid this warning\n",
      "  if cropped_epoch.get_data().shape[-1] > 1:\n",
      "C:\\Users\\ABC\\AppData\\Local\\Temp\\ipykernel_12960\\910821214.py:57: FutureWarning: The current default of copy=False will change to copy=True in 1.7. Set the value of copy explicitly to avoid this warning\n",
      "  if cropped_epoch.get_data().shape[-1] > 1:\n"
     ]
    },
    {
     "name": "stdout",
     "output_type": "stream",
     "text": [
      "Computing rank from data with rank=None\n"
     ]
    },
    {
     "name": "stderr",
     "output_type": "stream",
     "text": [
      "C:\\Users\\ABC\\AppData\\Local\\Temp\\ipykernel_12960\\910821214.py:57: FutureWarning: The current default of copy=False will change to copy=True in 1.7. Set the value of copy explicitly to avoid this warning\n",
      "  if cropped_epoch.get_data().shape[-1] > 1:\n",
      "C:\\Users\\ABC\\AppData\\Local\\Temp\\ipykernel_12960\\910821214.py:57: FutureWarning: The current default of copy=False will change to copy=True in 1.7. Set the value of copy explicitly to avoid this warning\n",
      "  if cropped_epoch.get_data().shape[-1] > 1:\n",
      "C:\\Users\\ABC\\AppData\\Local\\Temp\\ipykernel_12960\\910821214.py:56: RuntimeWarning: tmax is not in time interval. tmax is set to <class 'mne.epochs.Epochs'>.tmax (4 s)\n",
      "  cropped_epoch = epoch.copy().crop(tmin=start, tmax=end)\n",
      "C:\\Users\\ABC\\AppData\\Local\\Temp\\ipykernel_12960\\910821214.py:57: FutureWarning: The current default of copy=False will change to copy=True in 1.7. Set the value of copy explicitly to avoid this warning\n",
      "  if cropped_epoch.get_data().shape[-1] > 1:\n",
      "C:\\Users\\ABC\\AppData\\Local\\Temp\\ipykernel_12960\\910821214.py:56: RuntimeWarning: tmax is not in time interval. tmax is set to <class 'mne.epochs.Epochs'>.tmax (4 s)\n",
      "  cropped_epoch = epoch.copy().crop(tmin=start, tmax=end)\n",
      "C:\\Users\\ABC\\AppData\\Local\\Temp\\ipykernel_12960\\910821214.py:57: FutureWarning: The current default of copy=False will change to copy=True in 1.7. Set the value of copy explicitly to avoid this warning\n",
      "  if cropped_epoch.get_data().shape[-1] > 1:\n",
      "C:\\Users\\ABC\\AppData\\Local\\Temp\\ipykernel_12960\\910821214.py:56: RuntimeWarning: tmax is not in time interval. tmax is set to <class 'mne.epochs.Epochs'>.tmax (4 s)\n",
      "  cropped_epoch = epoch.copy().crop(tmin=start, tmax=end)\n",
      "C:\\Users\\ABC\\AppData\\Local\\Temp\\ipykernel_12960\\910821214.py:57: FutureWarning: The current default of copy=False will change to copy=True in 1.7. Set the value of copy explicitly to avoid this warning\n",
      "  if cropped_epoch.get_data().shape[-1] > 1:\n",
      "C:\\Users\\ABC\\AppData\\Local\\Temp\\ipykernel_12960\\910821214.py:50: RuntimeWarning: Epochs are not baseline corrected, covariance matrix may be inaccurate\n",
      "  cov_segment = mne.compute_covariance(cropped_epoch, method='empirical')\n"
     ]
    },
    {
     "name": "stdout",
     "output_type": "stream",
     "text": [
      "    Using tolerance 5.4e-12 (2.2e-16 eps * 22 dim * 1.1e+03  max singular value)\n",
      "    Estimated rank (eeg): 22\n",
      "    EEG: rank 22 computed from 22 data channels with 0 projectors\n",
      "Reducing data rank from 22 -> 22\n",
      "Estimating covariance using EMPIRICAL\n",
      "Done.\n",
      "Number of samples used : 501\n",
      "[done]\n"
     ]
    },
    {
     "name": "stderr",
     "output_type": "stream",
     "text": [
      "C:\\Users\\ABC\\AppData\\Local\\Temp\\ipykernel_12960\\910821214.py:57: FutureWarning: The current default of copy=False will change to copy=True in 1.7. Set the value of copy explicitly to avoid this warning\n",
      "  if cropped_epoch.get_data().shape[-1] > 1:\n",
      "C:\\Users\\ABC\\AppData\\Local\\Temp\\ipykernel_12960\\910821214.py:57: FutureWarning: The current default of copy=False will change to copy=True in 1.7. Set the value of copy explicitly to avoid this warning\n",
      "  if cropped_epoch.get_data().shape[-1] > 1:\n",
      "C:\\Users\\ABC\\AppData\\Local\\Temp\\ipykernel_12960\\910821214.py:57: FutureWarning: The current default of copy=False will change to copy=True in 1.7. Set the value of copy explicitly to avoid this warning\n",
      "  if cropped_epoch.get_data().shape[-1] > 1:\n",
      "C:\\Users\\ABC\\AppData\\Local\\Temp\\ipykernel_12960\\910821214.py:57: FutureWarning: The current default of copy=False will change to copy=True in 1.7. Set the value of copy explicitly to avoid this warning\n",
      "  if cropped_epoch.get_data().shape[-1] > 1:\n"
     ]
    },
    {
     "name": "stdout",
     "output_type": "stream",
     "text": [
      "Computing rank from data with rank=None\n",
      "    Using tolerance 5.5e-12 (2.2e-16 eps * 22 dim * 1.1e+03  max singular value)\n",
      "    Estimated rank (eeg): 22\n",
      "    EEG: rank 22 computed from 22 data channels with 0 projectors\n",
      "Reducing data rank from 22 -> 22\n",
      "Estimating covariance using EMPIRICAL\n",
      "Done.\n",
      "Number of samples used : 501\n",
      "[done]\n"
     ]
    },
    {
     "name": "stderr",
     "output_type": "stream",
     "text": [
      "C:\\Users\\ABC\\AppData\\Local\\Temp\\ipykernel_12960\\910821214.py:56: RuntimeWarning: tmax is not in time interval. tmax is set to <class 'mne.epochs.Epochs'>.tmax (4 s)\n",
      "  cropped_epoch = epoch.copy().crop(tmin=start, tmax=end)\n",
      "C:\\Users\\ABC\\AppData\\Local\\Temp\\ipykernel_12960\\910821214.py:57: FutureWarning: The current default of copy=False will change to copy=True in 1.7. Set the value of copy explicitly to avoid this warning\n",
      "  if cropped_epoch.get_data().shape[-1] > 1:\n",
      "C:\\Users\\ABC\\AppData\\Local\\Temp\\ipykernel_12960\\910821214.py:56: RuntimeWarning: tmax is not in time interval. tmax is set to <class 'mne.epochs.Epochs'>.tmax (4 s)\n",
      "  cropped_epoch = epoch.copy().crop(tmin=start, tmax=end)\n",
      "C:\\Users\\ABC\\AppData\\Local\\Temp\\ipykernel_12960\\910821214.py:57: FutureWarning: The current default of copy=False will change to copy=True in 1.7. Set the value of copy explicitly to avoid this warning\n",
      "  if cropped_epoch.get_data().shape[-1] > 1:\n",
      "C:\\Users\\ABC\\AppData\\Local\\Temp\\ipykernel_12960\\910821214.py:56: RuntimeWarning: tmax is not in time interval. tmax is set to <class 'mne.epochs.Epochs'>.tmax (4 s)\n",
      "  cropped_epoch = epoch.copy().crop(tmin=start, tmax=end)\n",
      "C:\\Users\\ABC\\AppData\\Local\\Temp\\ipykernel_12960\\910821214.py:57: FutureWarning: The current default of copy=False will change to copy=True in 1.7. Set the value of copy explicitly to avoid this warning\n",
      "  if cropped_epoch.get_data().shape[-1] > 1:\n",
      "C:\\Users\\ABC\\AppData\\Local\\Temp\\ipykernel_12960\\910821214.py:50: RuntimeWarning: Epochs are not baseline corrected, covariance matrix may be inaccurate\n",
      "  cov_segment = mne.compute_covariance(cropped_epoch, method='empirical')\n",
      "C:\\Users\\ABC\\AppData\\Local\\Temp\\ipykernel_12960\\910821214.py:57: FutureWarning: The current default of copy=False will change to copy=True in 1.7. Set the value of copy explicitly to avoid this warning\n",
      "  if cropped_epoch.get_data().shape[-1] > 1:\n",
      "C:\\Users\\ABC\\AppData\\Local\\Temp\\ipykernel_12960\\910821214.py:57: FutureWarning: The current default of copy=False will change to copy=True in 1.7. Set the value of copy explicitly to avoid this warning\n",
      "  if cropped_epoch.get_data().shape[-1] > 1:\n",
      "C:\\Users\\ABC\\AppData\\Local\\Temp\\ipykernel_12960\\910821214.py:57: FutureWarning: The current default of copy=False will change to copy=True in 1.7. Set the value of copy explicitly to avoid this warning\n",
      "  if cropped_epoch.get_data().shape[-1] > 1:\n",
      "C:\\Users\\ABC\\AppData\\Local\\Temp\\ipykernel_12960\\910821214.py:57: FutureWarning: The current default of copy=False will change to copy=True in 1.7. Set the value of copy explicitly to avoid this warning\n",
      "  if cropped_epoch.get_data().shape[-1] > 1:\n",
      "C:\\Users\\ABC\\AppData\\Local\\Temp\\ipykernel_12960\\910821214.py:56: RuntimeWarning: tmax is not in time interval. tmax is set to <class 'mne.epochs.Epochs'>.tmax (4 s)\n",
      "  cropped_epoch = epoch.copy().crop(tmin=start, tmax=end)\n",
      "C:\\Users\\ABC\\AppData\\Local\\Temp\\ipykernel_12960\\910821214.py:57: FutureWarning: The current default of copy=False will change to copy=True in 1.7. Set the value of copy explicitly to avoid this warning\n",
      "  if cropped_epoch.get_data().shape[-1] > 1:\n",
      "C:\\Users\\ABC\\AppData\\Local\\Temp\\ipykernel_12960\\910821214.py:56: RuntimeWarning: tmax is not in time interval. tmax is set to <class 'mne.epochs.Epochs'>.tmax (4 s)\n",
      "  cropped_epoch = epoch.copy().crop(tmin=start, tmax=end)\n",
      "C:\\Users\\ABC\\AppData\\Local\\Temp\\ipykernel_12960\\910821214.py:57: FutureWarning: The current default of copy=False will change to copy=True in 1.7. Set the value of copy explicitly to avoid this warning\n",
      "  if cropped_epoch.get_data().shape[-1] > 1:\n"
     ]
    },
    {
     "name": "stdout",
     "output_type": "stream",
     "text": [
      "Computing rank from data with rank=None\n",
      "    Using tolerance 4.9e-12 (2.2e-16 eps * 22 dim * 1e+03  max singular value)\n",
      "    Estimated rank (eeg): 22\n",
      "    EEG: rank 22 computed from 22 data channels with 0 projectors\n",
      "Reducing data rank from 22 -> 22\n",
      "Estimating covariance using EMPIRICAL\n",
      "Done.\n",
      "Number of samples used : 501\n",
      "[done]\n"
     ]
    },
    {
     "name": "stderr",
     "output_type": "stream",
     "text": [
      "C:\\Users\\ABC\\AppData\\Local\\Temp\\ipykernel_12960\\910821214.py:56: RuntimeWarning: tmax is not in time interval. tmax is set to <class 'mne.epochs.Epochs'>.tmax (4 s)\n",
      "  cropped_epoch = epoch.copy().crop(tmin=start, tmax=end)\n",
      "C:\\Users\\ABC\\AppData\\Local\\Temp\\ipykernel_12960\\910821214.py:57: FutureWarning: The current default of copy=False will change to copy=True in 1.7. Set the value of copy explicitly to avoid this warning\n",
      "  if cropped_epoch.get_data().shape[-1] > 1:\n",
      "C:\\Users\\ABC\\AppData\\Local\\Temp\\ipykernel_12960\\910821214.py:50: RuntimeWarning: Epochs are not baseline corrected, covariance matrix may be inaccurate\n",
      "  cov_segment = mne.compute_covariance(cropped_epoch, method='empirical')\n",
      "C:\\Users\\ABC\\AppData\\Local\\Temp\\ipykernel_12960\\910821214.py:57: FutureWarning: The current default of copy=False will change to copy=True in 1.7. Set the value of copy explicitly to avoid this warning\n",
      "  if cropped_epoch.get_data().shape[-1] > 1:\n",
      "C:\\Users\\ABC\\AppData\\Local\\Temp\\ipykernel_12960\\910821214.py:57: FutureWarning: The current default of copy=False will change to copy=True in 1.7. Set the value of copy explicitly to avoid this warning\n",
      "  if cropped_epoch.get_data().shape[-1] > 1:\n",
      "C:\\Users\\ABC\\AppData\\Local\\Temp\\ipykernel_12960\\910821214.py:57: FutureWarning: The current default of copy=False will change to copy=True in 1.7. Set the value of copy explicitly to avoid this warning\n",
      "  if cropped_epoch.get_data().shape[-1] > 1:\n",
      "C:\\Users\\ABC\\AppData\\Local\\Temp\\ipykernel_12960\\910821214.py:57: FutureWarning: The current default of copy=False will change to copy=True in 1.7. Set the value of copy explicitly to avoid this warning\n",
      "  if cropped_epoch.get_data().shape[-1] > 1:\n"
     ]
    },
    {
     "name": "stdout",
     "output_type": "stream",
     "text": [
      "Computing rank from data with rank=None\n",
      "    Using tolerance 5.6e-12 (2.2e-16 eps * 22 dim * 1.1e+03  max singular value)\n",
      "    Estimated rank (eeg): 22\n",
      "    EEG: rank 22 computed from 22 data channels with 0 projectors\n",
      "Reducing data rank from 22 -> 22\n",
      "Estimating covariance using EMPIRICAL\n",
      "Done.\n"
     ]
    },
    {
     "name": "stderr",
     "output_type": "stream",
     "text": [
      "C:\\Users\\ABC\\AppData\\Local\\Temp\\ipykernel_12960\\910821214.py:56: RuntimeWarning: tmax is not in time interval. tmax is set to <class 'mne.epochs.Epochs'>.tmax (4 s)\n",
      "  cropped_epoch = epoch.copy().crop(tmin=start, tmax=end)\n",
      "C:\\Users\\ABC\\AppData\\Local\\Temp\\ipykernel_12960\\910821214.py:57: FutureWarning: The current default of copy=False will change to copy=True in 1.7. Set the value of copy explicitly to avoid this warning\n",
      "  if cropped_epoch.get_data().shape[-1] > 1:\n",
      "C:\\Users\\ABC\\AppData\\Local\\Temp\\ipykernel_12960\\910821214.py:56: RuntimeWarning: tmax is not in time interval. tmax is set to <class 'mne.epochs.Epochs'>.tmax (4 s)\n",
      "  cropped_epoch = epoch.copy().crop(tmin=start, tmax=end)\n",
      "C:\\Users\\ABC\\AppData\\Local\\Temp\\ipykernel_12960\\910821214.py:57: FutureWarning: The current default of copy=False will change to copy=True in 1.7. Set the value of copy explicitly to avoid this warning\n",
      "  if cropped_epoch.get_data().shape[-1] > 1:\n",
      "C:\\Users\\ABC\\AppData\\Local\\Temp\\ipykernel_12960\\910821214.py:56: RuntimeWarning: tmax is not in time interval. tmax is set to <class 'mne.epochs.Epochs'>.tmax (4 s)\n",
      "  cropped_epoch = epoch.copy().crop(tmin=start, tmax=end)\n",
      "C:\\Users\\ABC\\AppData\\Local\\Temp\\ipykernel_12960\\910821214.py:57: FutureWarning: The current default of copy=False will change to copy=True in 1.7. Set the value of copy explicitly to avoid this warning\n",
      "  if cropped_epoch.get_data().shape[-1] > 1:\n",
      "C:\\Users\\ABC\\AppData\\Local\\Temp\\ipykernel_12960\\910821214.py:50: RuntimeWarning: Epochs are not baseline corrected, covariance matrix may be inaccurate\n",
      "  cov_segment = mne.compute_covariance(cropped_epoch, method='empirical')\n"
     ]
    },
    {
     "name": "stdout",
     "output_type": "stream",
     "text": [
      "Number of samples used : 501\n",
      "[done]\n"
     ]
    },
    {
     "name": "stderr",
     "output_type": "stream",
     "text": [
      "C:\\Users\\ABC\\AppData\\Local\\Temp\\ipykernel_12960\\910821214.py:57: FutureWarning: The current default of copy=False will change to copy=True in 1.7. Set the value of copy explicitly to avoid this warning\n",
      "  if cropped_epoch.get_data().shape[-1] > 1:\n",
      "C:\\Users\\ABC\\AppData\\Local\\Temp\\ipykernel_12960\\910821214.py:57: FutureWarning: The current default of copy=False will change to copy=True in 1.7. Set the value of copy explicitly to avoid this warning\n",
      "  if cropped_epoch.get_data().shape[-1] > 1:\n",
      "C:\\Users\\ABC\\AppData\\Local\\Temp\\ipykernel_12960\\910821214.py:57: FutureWarning: The current default of copy=False will change to copy=True in 1.7. Set the value of copy explicitly to avoid this warning\n",
      "  if cropped_epoch.get_data().shape[-1] > 1:\n",
      "C:\\Users\\ABC\\AppData\\Local\\Temp\\ipykernel_12960\\910821214.py:57: FutureWarning: The current default of copy=False will change to copy=True in 1.7. Set the value of copy explicitly to avoid this warning\n",
      "  if cropped_epoch.get_data().shape[-1] > 1:\n",
      "C:\\Users\\ABC\\AppData\\Local\\Temp\\ipykernel_12960\\910821214.py:56: RuntimeWarning: tmax is not in time interval. tmax is set to <class 'mne.epochs.Epochs'>.tmax (4 s)\n",
      "  cropped_epoch = epoch.copy().crop(tmin=start, tmax=end)\n",
      "C:\\Users\\ABC\\AppData\\Local\\Temp\\ipykernel_12960\\910821214.py:57: FutureWarning: The current default of copy=False will change to copy=True in 1.7. Set the value of copy explicitly to avoid this warning\n",
      "  if cropped_epoch.get_data().shape[-1] > 1:\n"
     ]
    },
    {
     "name": "stdout",
     "output_type": "stream",
     "text": [
      "Computing rank from data with rank=None\n",
      "    Using tolerance 4.7e-12 (2.2e-16 eps * 22 dim * 9.7e+02  max singular value)\n",
      "    Estimated rank (eeg): 22\n",
      "    EEG: rank 22 computed from 22 data channels with 0 projectors\n",
      "Reducing data rank from 22 -> 22\n",
      "Estimating covariance using EMPIRICAL\n",
      "Done.\n",
      "Number of samples used : 501\n",
      "[done]\n"
     ]
    },
    {
     "name": "stderr",
     "output_type": "stream",
     "text": [
      "C:\\Users\\ABC\\AppData\\Local\\Temp\\ipykernel_12960\\910821214.py:56: RuntimeWarning: tmax is not in time interval. tmax is set to <class 'mne.epochs.Epochs'>.tmax (4 s)\n",
      "  cropped_epoch = epoch.copy().crop(tmin=start, tmax=end)\n",
      "C:\\Users\\ABC\\AppData\\Local\\Temp\\ipykernel_12960\\910821214.py:57: FutureWarning: The current default of copy=False will change to copy=True in 1.7. Set the value of copy explicitly to avoid this warning\n",
      "  if cropped_epoch.get_data().shape[-1] > 1:\n",
      "C:\\Users\\ABC\\AppData\\Local\\Temp\\ipykernel_12960\\910821214.py:56: RuntimeWarning: tmax is not in time interval. tmax is set to <class 'mne.epochs.Epochs'>.tmax (4 s)\n",
      "  cropped_epoch = epoch.copy().crop(tmin=start, tmax=end)\n",
      "C:\\Users\\ABC\\AppData\\Local\\Temp\\ipykernel_12960\\910821214.py:57: FutureWarning: The current default of copy=False will change to copy=True in 1.7. Set the value of copy explicitly to avoid this warning\n",
      "  if cropped_epoch.get_data().shape[-1] > 1:\n",
      "C:\\Users\\ABC\\AppData\\Local\\Temp\\ipykernel_12960\\910821214.py:50: RuntimeWarning: Epochs are not baseline corrected, covariance matrix may be inaccurate\n",
      "  cov_segment = mne.compute_covariance(cropped_epoch, method='empirical')\n",
      "C:\\Users\\ABC\\AppData\\Local\\Temp\\ipykernel_12960\\910821214.py:57: FutureWarning: The current default of copy=False will change to copy=True in 1.7. Set the value of copy explicitly to avoid this warning\n",
      "  if cropped_epoch.get_data().shape[-1] > 1:\n",
      "C:\\Users\\ABC\\AppData\\Local\\Temp\\ipykernel_12960\\910821214.py:57: FutureWarning: The current default of copy=False will change to copy=True in 1.7. Set the value of copy explicitly to avoid this warning\n",
      "  if cropped_epoch.get_data().shape[-1] > 1:\n",
      "C:\\Users\\ABC\\AppData\\Local\\Temp\\ipykernel_12960\\910821214.py:57: FutureWarning: The current default of copy=False will change to copy=True in 1.7. Set the value of copy explicitly to avoid this warning\n",
      "  if cropped_epoch.get_data().shape[-1] > 1:\n",
      "C:\\Users\\ABC\\AppData\\Local\\Temp\\ipykernel_12960\\910821214.py:57: FutureWarning: The current default of copy=False will change to copy=True in 1.7. Set the value of copy explicitly to avoid this warning\n",
      "  if cropped_epoch.get_data().shape[-1] > 1:\n",
      "C:\\Users\\ABC\\AppData\\Local\\Temp\\ipykernel_12960\\910821214.py:56: RuntimeWarning: tmax is not in time interval. tmax is set to <class 'mne.epochs.Epochs'>.tmax (4 s)\n",
      "  cropped_epoch = epoch.copy().crop(tmin=start, tmax=end)\n",
      "C:\\Users\\ABC\\AppData\\Local\\Temp\\ipykernel_12960\\910821214.py:57: FutureWarning: The current default of copy=False will change to copy=True in 1.7. Set the value of copy explicitly to avoid this warning\n",
      "  if cropped_epoch.get_data().shape[-1] > 1:\n",
      "C:\\Users\\ABC\\AppData\\Local\\Temp\\ipykernel_12960\\910821214.py:56: RuntimeWarning: tmax is not in time interval. tmax is set to <class 'mne.epochs.Epochs'>.tmax (4 s)\n",
      "  cropped_epoch = epoch.copy().crop(tmin=start, tmax=end)\n",
      "C:\\Users\\ABC\\AppData\\Local\\Temp\\ipykernel_12960\\910821214.py:57: FutureWarning: The current default of copy=False will change to copy=True in 1.7. Set the value of copy explicitly to avoid this warning\n",
      "  if cropped_epoch.get_data().shape[-1] > 1:\n",
      "C:\\Users\\ABC\\AppData\\Local\\Temp\\ipykernel_12960\\910821214.py:56: RuntimeWarning: tmax is not in time interval. tmax is set to <class 'mne.epochs.Epochs'>.tmax (4 s)\n",
      "  cropped_epoch = epoch.copy().crop(tmin=start, tmax=end)\n",
      "C:\\Users\\ABC\\AppData\\Local\\Temp\\ipykernel_12960\\910821214.py:57: FutureWarning: The current default of copy=False will change to copy=True in 1.7. Set the value of copy explicitly to avoid this warning\n",
      "  if cropped_epoch.get_data().shape[-1] > 1:\n"
     ]
    },
    {
     "name": "stdout",
     "output_type": "stream",
     "text": [
      "Computing rank from data with rank=None\n",
      "    Using tolerance 5.7e-12 (2.2e-16 eps * 22 dim * 1.2e+03  max singular value)\n",
      "    Estimated rank (eeg): 22\n",
      "    EEG: rank 22 computed from 22 data channels with 0 projectors\n",
      "Reducing data rank from 22 -> 22\n",
      "Estimating covariance using EMPIRICAL\n",
      "Done.\n",
      "Number of samples used : 501\n",
      "[done]\n"
     ]
    },
    {
     "name": "stderr",
     "output_type": "stream",
     "text": [
      "C:\\Users\\ABC\\AppData\\Local\\Temp\\ipykernel_12960\\910821214.py:50: RuntimeWarning: Epochs are not baseline corrected, covariance matrix may be inaccurate\n",
      "  cov_segment = mne.compute_covariance(cropped_epoch, method='empirical')\n",
      "C:\\Users\\ABC\\AppData\\Local\\Temp\\ipykernel_12960\\910821214.py:57: FutureWarning: The current default of copy=False will change to copy=True in 1.7. Set the value of copy explicitly to avoid this warning\n",
      "  if cropped_epoch.get_data().shape[-1] > 1:\n",
      "C:\\Users\\ABC\\AppData\\Local\\Temp\\ipykernel_12960\\910821214.py:57: FutureWarning: The current default of copy=False will change to copy=True in 1.7. Set the value of copy explicitly to avoid this warning\n",
      "  if cropped_epoch.get_data().shape[-1] > 1:\n",
      "C:\\Users\\ABC\\AppData\\Local\\Temp\\ipykernel_12960\\910821214.py:57: FutureWarning: The current default of copy=False will change to copy=True in 1.7. Set the value of copy explicitly to avoid this warning\n",
      "  if cropped_epoch.get_data().shape[-1] > 1:\n",
      "C:\\Users\\ABC\\AppData\\Local\\Temp\\ipykernel_12960\\910821214.py:57: FutureWarning: The current default of copy=False will change to copy=True in 1.7. Set the value of copy explicitly to avoid this warning\n",
      "  if cropped_epoch.get_data().shape[-1] > 1:\n",
      "C:\\Users\\ABC\\AppData\\Local\\Temp\\ipykernel_12960\\910821214.py:56: RuntimeWarning: tmax is not in time interval. tmax is set to <class 'mne.epochs.Epochs'>.tmax (4 s)\n",
      "  cropped_epoch = epoch.copy().crop(tmin=start, tmax=end)\n",
      "C:\\Users\\ABC\\AppData\\Local\\Temp\\ipykernel_12960\\910821214.py:57: FutureWarning: The current default of copy=False will change to copy=True in 1.7. Set the value of copy explicitly to avoid this warning\n",
      "  if cropped_epoch.get_data().shape[-1] > 1:\n"
     ]
    },
    {
     "name": "stdout",
     "output_type": "stream",
     "text": [
      "Computing rank from data with rank=None\n",
      "    Using tolerance 4.8e-12 (2.2e-16 eps * 22 dim * 9.8e+02  max singular value)\n",
      "    Estimated rank (eeg): 22\n",
      "    EEG: rank 22 computed from 22 data channels with 0 projectors\n",
      "Reducing data rank from 22 -> 22\n",
      "Estimating covariance using EMPIRICAL\n",
      "Done.\n",
      "Number of samples used : 501\n",
      "[done]\n"
     ]
    },
    {
     "name": "stderr",
     "output_type": "stream",
     "text": [
      "C:\\Users\\ABC\\AppData\\Local\\Temp\\ipykernel_12960\\910821214.py:56: RuntimeWarning: tmax is not in time interval. tmax is set to <class 'mne.epochs.Epochs'>.tmax (4 s)\n",
      "  cropped_epoch = epoch.copy().crop(tmin=start, tmax=end)\n",
      "C:\\Users\\ABC\\AppData\\Local\\Temp\\ipykernel_12960\\910821214.py:57: FutureWarning: The current default of copy=False will change to copy=True in 1.7. Set the value of copy explicitly to avoid this warning\n",
      "  if cropped_epoch.get_data().shape[-1] > 1:\n",
      "C:\\Users\\ABC\\AppData\\Local\\Temp\\ipykernel_12960\\910821214.py:56: RuntimeWarning: tmax is not in time interval. tmax is set to <class 'mne.epochs.Epochs'>.tmax (4 s)\n",
      "  cropped_epoch = epoch.copy().crop(tmin=start, tmax=end)\n",
      "C:\\Users\\ABC\\AppData\\Local\\Temp\\ipykernel_12960\\910821214.py:57: FutureWarning: The current default of copy=False will change to copy=True in 1.7. Set the value of copy explicitly to avoid this warning\n",
      "  if cropped_epoch.get_data().shape[-1] > 1:\n",
      "C:\\Users\\ABC\\AppData\\Local\\Temp\\ipykernel_12960\\910821214.py:50: RuntimeWarning: Epochs are not baseline corrected, covariance matrix may be inaccurate\n",
      "  cov_segment = mne.compute_covariance(cropped_epoch, method='empirical')\n",
      "C:\\Users\\ABC\\AppData\\Local\\Temp\\ipykernel_12960\\910821214.py:57: FutureWarning: The current default of copy=False will change to copy=True in 1.7. Set the value of copy explicitly to avoid this warning\n",
      "  if cropped_epoch.get_data().shape[-1] > 1:\n",
      "C:\\Users\\ABC\\AppData\\Local\\Temp\\ipykernel_12960\\910821214.py:57: FutureWarning: The current default of copy=False will change to copy=True in 1.7. Set the value of copy explicitly to avoid this warning\n",
      "  if cropped_epoch.get_data().shape[-1] > 1:\n",
      "C:\\Users\\ABC\\AppData\\Local\\Temp\\ipykernel_12960\\910821214.py:57: FutureWarning: The current default of copy=False will change to copy=True in 1.7. Set the value of copy explicitly to avoid this warning\n",
      "  if cropped_epoch.get_data().shape[-1] > 1:\n",
      "C:\\Users\\ABC\\AppData\\Local\\Temp\\ipykernel_12960\\910821214.py:57: FutureWarning: The current default of copy=False will change to copy=True in 1.7. Set the value of copy explicitly to avoid this warning\n",
      "  if cropped_epoch.get_data().shape[-1] > 1:\n",
      "C:\\Users\\ABC\\AppData\\Local\\Temp\\ipykernel_12960\\910821214.py:56: RuntimeWarning: tmax is not in time interval. tmax is set to <class 'mne.epochs.Epochs'>.tmax (4 s)\n",
      "  cropped_epoch = epoch.copy().crop(tmin=start, tmax=end)\n",
      "C:\\Users\\ABC\\AppData\\Local\\Temp\\ipykernel_12960\\910821214.py:57: FutureWarning: The current default of copy=False will change to copy=True in 1.7. Set the value of copy explicitly to avoid this warning\n",
      "  if cropped_epoch.get_data().shape[-1] > 1:\n",
      "C:\\Users\\ABC\\AppData\\Local\\Temp\\ipykernel_12960\\910821214.py:56: RuntimeWarning: tmax is not in time interval. tmax is set to <class 'mne.epochs.Epochs'>.tmax (4 s)\n",
      "  cropped_epoch = epoch.copy().crop(tmin=start, tmax=end)\n",
      "C:\\Users\\ABC\\AppData\\Local\\Temp\\ipykernel_12960\\910821214.py:57: FutureWarning: The current default of copy=False will change to copy=True in 1.7. Set the value of copy explicitly to avoid this warning\n",
      "  if cropped_epoch.get_data().shape[-1] > 1:\n",
      "C:\\Users\\ABC\\AppData\\Local\\Temp\\ipykernel_12960\\910821214.py:56: RuntimeWarning: tmax is not in time interval. tmax is set to <class 'mne.epochs.Epochs'>.tmax (4 s)\n",
      "  cropped_epoch = epoch.copy().crop(tmin=start, tmax=end)\n",
      "C:\\Users\\ABC\\AppData\\Local\\Temp\\ipykernel_12960\\910821214.py:57: FutureWarning: The current default of copy=False will change to copy=True in 1.7. Set the value of copy explicitly to avoid this warning\n",
      "  if cropped_epoch.get_data().shape[-1] > 1:\n"
     ]
    },
    {
     "name": "stdout",
     "output_type": "stream",
     "text": [
      "Computing rank from data with rank=None\n",
      "    Using tolerance 4.1e-12 (2.2e-16 eps * 22 dim * 8.5e+02  max singular value)\n",
      "    Estimated rank (eeg): 22\n",
      "    EEG: rank 22 computed from 22 data channels with 0 projectors\n",
      "Reducing data rank from 22 -> 22\n",
      "Estimating covariance using EMPIRICAL\n",
      "Done.\n",
      "Number of samples used : 501\n",
      "[done]\n"
     ]
    },
    {
     "name": "stderr",
     "output_type": "stream",
     "text": [
      "C:\\Users\\ABC\\AppData\\Local\\Temp\\ipykernel_12960\\910821214.py:50: RuntimeWarning: Epochs are not baseline corrected, covariance matrix may be inaccurate\n",
      "  cov_segment = mne.compute_covariance(cropped_epoch, method='empirical')\n",
      "C:\\Users\\ABC\\AppData\\Local\\Temp\\ipykernel_12960\\910821214.py:57: FutureWarning: The current default of copy=False will change to copy=True in 1.7. Set the value of copy explicitly to avoid this warning\n",
      "  if cropped_epoch.get_data().shape[-1] > 1:\n",
      "C:\\Users\\ABC\\AppData\\Local\\Temp\\ipykernel_12960\\910821214.py:57: FutureWarning: The current default of copy=False will change to copy=True in 1.7. Set the value of copy explicitly to avoid this warning\n",
      "  if cropped_epoch.get_data().shape[-1] > 1:\n",
      "C:\\Users\\ABC\\AppData\\Local\\Temp\\ipykernel_12960\\910821214.py:57: FutureWarning: The current default of copy=False will change to copy=True in 1.7. Set the value of copy explicitly to avoid this warning\n",
      "  if cropped_epoch.get_data().shape[-1] > 1:\n",
      "C:\\Users\\ABC\\AppData\\Local\\Temp\\ipykernel_12960\\910821214.py:57: FutureWarning: The current default of copy=False will change to copy=True in 1.7. Set the value of copy explicitly to avoid this warning\n",
      "  if cropped_epoch.get_data().shape[-1] > 1:\n",
      "C:\\Users\\ABC\\AppData\\Local\\Temp\\ipykernel_12960\\910821214.py:56: RuntimeWarning: tmax is not in time interval. tmax is set to <class 'mne.epochs.Epochs'>.tmax (4 s)\n",
      "  cropped_epoch = epoch.copy().crop(tmin=start, tmax=end)\n",
      "C:\\Users\\ABC\\AppData\\Local\\Temp\\ipykernel_12960\\910821214.py:57: FutureWarning: The current default of copy=False will change to copy=True in 1.7. Set the value of copy explicitly to avoid this warning\n",
      "  if cropped_epoch.get_data().shape[-1] > 1:\n",
      "C:\\Users\\ABC\\AppData\\Local\\Temp\\ipykernel_12960\\910821214.py:56: RuntimeWarning: tmax is not in time interval. tmax is set to <class 'mne.epochs.Epochs'>.tmax (4 s)\n",
      "  cropped_epoch = epoch.copy().crop(tmin=start, tmax=end)\n",
      "C:\\Users\\ABC\\AppData\\Local\\Temp\\ipykernel_12960\\910821214.py:57: FutureWarning: The current default of copy=False will change to copy=True in 1.7. Set the value of copy explicitly to avoid this warning\n",
      "  if cropped_epoch.get_data().shape[-1] > 1:\n",
      "C:\\Users\\ABC\\AppData\\Local\\Temp\\ipykernel_12960\\910821214.py:56: RuntimeWarning: tmax is not in time interval. tmax is set to <class 'mne.epochs.Epochs'>.tmax (4 s)\n",
      "  cropped_epoch = epoch.copy().crop(tmin=start, tmax=end)\n",
      "C:\\Users\\ABC\\AppData\\Local\\Temp\\ipykernel_12960\\910821214.py:57: FutureWarning: The current default of copy=False will change to copy=True in 1.7. Set the value of copy explicitly to avoid this warning\n",
      "  if cropped_epoch.get_data().shape[-1] > 1:\n"
     ]
    },
    {
     "name": "stdout",
     "output_type": "stream",
     "text": [
      "Computing rank from data with rank=None\n",
      "    Using tolerance 5.6e-12 (2.2e-16 eps * 22 dim * 1.2e+03  max singular value)\n",
      "    Estimated rank (eeg): 22\n",
      "    EEG: rank 22 computed from 22 data channels with 0 projectors\n",
      "Reducing data rank from 22 -> 22\n",
      "Estimating covariance using EMPIRICAL\n",
      "Done.\n",
      "Number of samples used : 501\n",
      "[done]\n"
     ]
    },
    {
     "name": "stderr",
     "output_type": "stream",
     "text": [
      "C:\\Users\\ABC\\AppData\\Local\\Temp\\ipykernel_12960\\910821214.py:50: RuntimeWarning: Epochs are not baseline corrected, covariance matrix may be inaccurate\n",
      "  cov_segment = mne.compute_covariance(cropped_epoch, method='empirical')\n",
      "C:\\Users\\ABC\\AppData\\Local\\Temp\\ipykernel_12960\\910821214.py:57: FutureWarning: The current default of copy=False will change to copy=True in 1.7. Set the value of copy explicitly to avoid this warning\n",
      "  if cropped_epoch.get_data().shape[-1] > 1:\n",
      "C:\\Users\\ABC\\AppData\\Local\\Temp\\ipykernel_12960\\910821214.py:57: FutureWarning: The current default of copy=False will change to copy=True in 1.7. Set the value of copy explicitly to avoid this warning\n",
      "  if cropped_epoch.get_data().shape[-1] > 1:\n",
      "C:\\Users\\ABC\\AppData\\Local\\Temp\\ipykernel_12960\\910821214.py:57: FutureWarning: The current default of copy=False will change to copy=True in 1.7. Set the value of copy explicitly to avoid this warning\n",
      "  if cropped_epoch.get_data().shape[-1] > 1:\n",
      "C:\\Users\\ABC\\AppData\\Local\\Temp\\ipykernel_12960\\910821214.py:57: FutureWarning: The current default of copy=False will change to copy=True in 1.7. Set the value of copy explicitly to avoid this warning\n",
      "  if cropped_epoch.get_data().shape[-1] > 1:\n",
      "C:\\Users\\ABC\\AppData\\Local\\Temp\\ipykernel_12960\\910821214.py:56: RuntimeWarning: tmax is not in time interval. tmax is set to <class 'mne.epochs.Epochs'>.tmax (4 s)\n",
      "  cropped_epoch = epoch.copy().crop(tmin=start, tmax=end)\n",
      "C:\\Users\\ABC\\AppData\\Local\\Temp\\ipykernel_12960\\910821214.py:57: FutureWarning: The current default of copy=False will change to copy=True in 1.7. Set the value of copy explicitly to avoid this warning\n",
      "  if cropped_epoch.get_data().shape[-1] > 1:\n",
      "C:\\Users\\ABC\\AppData\\Local\\Temp\\ipykernel_12960\\910821214.py:56: RuntimeWarning: tmax is not in time interval. tmax is set to <class 'mne.epochs.Epochs'>.tmax (4 s)\n",
      "  cropped_epoch = epoch.copy().crop(tmin=start, tmax=end)\n",
      "C:\\Users\\ABC\\AppData\\Local\\Temp\\ipykernel_12960\\910821214.py:57: FutureWarning: The current default of copy=False will change to copy=True in 1.7. Set the value of copy explicitly to avoid this warning\n",
      "  if cropped_epoch.get_data().shape[-1] > 1:\n"
     ]
    },
    {
     "name": "stdout",
     "output_type": "stream",
     "text": [
      "Computing rank from data with rank=None\n",
      "    Using tolerance 6.9e-12 (2.2e-16 eps * 22 dim * 1.4e+03  max singular value)\n",
      "    Estimated rank (eeg): 22\n",
      "    EEG: rank 22 computed from 22 data channels with 0 projectors\n",
      "Reducing data rank from 22 -> 22\n",
      "Estimating covariance using EMPIRICAL\n",
      "Done.\n",
      "Number of samples used : 501\n",
      "[done]\n"
     ]
    },
    {
     "name": "stderr",
     "output_type": "stream",
     "text": [
      "C:\\Users\\ABC\\AppData\\Local\\Temp\\ipykernel_12960\\910821214.py:56: RuntimeWarning: tmax is not in time interval. tmax is set to <class 'mne.epochs.Epochs'>.tmax (4 s)\n",
      "  cropped_epoch = epoch.copy().crop(tmin=start, tmax=end)\n",
      "C:\\Users\\ABC\\AppData\\Local\\Temp\\ipykernel_12960\\910821214.py:57: FutureWarning: The current default of copy=False will change to copy=True in 1.7. Set the value of copy explicitly to avoid this warning\n",
      "  if cropped_epoch.get_data().shape[-1] > 1:\n",
      "C:\\Users\\ABC\\AppData\\Local\\Temp\\ipykernel_12960\\910821214.py:50: RuntimeWarning: Epochs are not baseline corrected, covariance matrix may be inaccurate\n",
      "  cov_segment = mne.compute_covariance(cropped_epoch, method='empirical')\n",
      "C:\\Users\\ABC\\AppData\\Local\\Temp\\ipykernel_12960\\910821214.py:57: FutureWarning: The current default of copy=False will change to copy=True in 1.7. Set the value of copy explicitly to avoid this warning\n",
      "  if cropped_epoch.get_data().shape[-1] > 1:\n",
      "C:\\Users\\ABC\\AppData\\Local\\Temp\\ipykernel_12960\\910821214.py:57: FutureWarning: The current default of copy=False will change to copy=True in 1.7. Set the value of copy explicitly to avoid this warning\n",
      "  if cropped_epoch.get_data().shape[-1] > 1:\n",
      "C:\\Users\\ABC\\AppData\\Local\\Temp\\ipykernel_12960\\910821214.py:57: FutureWarning: The current default of copy=False will change to copy=True in 1.7. Set the value of copy explicitly to avoid this warning\n",
      "  if cropped_epoch.get_data().shape[-1] > 1:\n",
      "C:\\Users\\ABC\\AppData\\Local\\Temp\\ipykernel_12960\\910821214.py:57: FutureWarning: The current default of copy=False will change to copy=True in 1.7. Set the value of copy explicitly to avoid this warning\n",
      "  if cropped_epoch.get_data().shape[-1] > 1:\n",
      "C:\\Users\\ABC\\AppData\\Local\\Temp\\ipykernel_12960\\910821214.py:56: RuntimeWarning: tmax is not in time interval. tmax is set to <class 'mne.epochs.Epochs'>.tmax (4 s)\n",
      "  cropped_epoch = epoch.copy().crop(tmin=start, tmax=end)\n",
      "C:\\Users\\ABC\\AppData\\Local\\Temp\\ipykernel_12960\\910821214.py:57: FutureWarning: The current default of copy=False will change to copy=True in 1.7. Set the value of copy explicitly to avoid this warning\n",
      "  if cropped_epoch.get_data().shape[-1] > 1:\n",
      "C:\\Users\\ABC\\AppData\\Local\\Temp\\ipykernel_12960\\910821214.py:56: RuntimeWarning: tmax is not in time interval. tmax is set to <class 'mne.epochs.Epochs'>.tmax (4 s)\n",
      "  cropped_epoch = epoch.copy().crop(tmin=start, tmax=end)\n",
      "C:\\Users\\ABC\\AppData\\Local\\Temp\\ipykernel_12960\\910821214.py:57: FutureWarning: The current default of copy=False will change to copy=True in 1.7. Set the value of copy explicitly to avoid this warning\n",
      "  if cropped_epoch.get_data().shape[-1] > 1:\n",
      "C:\\Users\\ABC\\AppData\\Local\\Temp\\ipykernel_12960\\910821214.py:56: RuntimeWarning: tmax is not in time interval. tmax is set to <class 'mne.epochs.Epochs'>.tmax (4 s)\n",
      "  cropped_epoch = epoch.copy().crop(tmin=start, tmax=end)\n",
      "C:\\Users\\ABC\\AppData\\Local\\Temp\\ipykernel_12960\\910821214.py:57: FutureWarning: The current default of copy=False will change to copy=True in 1.7. Set the value of copy explicitly to avoid this warning\n",
      "  if cropped_epoch.get_data().shape[-1] > 1:\n"
     ]
    },
    {
     "name": "stdout",
     "output_type": "stream",
     "text": [
      "Computing rank from data with rank=None\n",
      "    Using tolerance 4.4e-12 (2.2e-16 eps * 22 dim * 9e+02  max singular value)\n",
      "    Estimated rank (eeg): 22\n",
      "    EEG: rank 22 computed from 22 data channels with 0 projectors\n",
      "Reducing data rank from 22 -> 22\n",
      "Estimating covariance using EMPIRICAL\n",
      "Done.\n",
      "Number of samples used : 501\n",
      "[done]\n"
     ]
    },
    {
     "name": "stderr",
     "output_type": "stream",
     "text": [
      "C:\\Users\\ABC\\AppData\\Local\\Temp\\ipykernel_12960\\910821214.py:50: RuntimeWarning: Epochs are not baseline corrected, covariance matrix may be inaccurate\n",
      "  cov_segment = mne.compute_covariance(cropped_epoch, method='empirical')\n",
      "C:\\Users\\ABC\\AppData\\Local\\Temp\\ipykernel_12960\\910821214.py:57: FutureWarning: The current default of copy=False will change to copy=True in 1.7. Set the value of copy explicitly to avoid this warning\n",
      "  if cropped_epoch.get_data().shape[-1] > 1:\n",
      "C:\\Users\\ABC\\AppData\\Local\\Temp\\ipykernel_12960\\910821214.py:57: FutureWarning: The current default of copy=False will change to copy=True in 1.7. Set the value of copy explicitly to avoid this warning\n",
      "  if cropped_epoch.get_data().shape[-1] > 1:\n",
      "C:\\Users\\ABC\\AppData\\Local\\Temp\\ipykernel_12960\\910821214.py:57: FutureWarning: The current default of copy=False will change to copy=True in 1.7. Set the value of copy explicitly to avoid this warning\n",
      "  if cropped_epoch.get_data().shape[-1] > 1:\n",
      "C:\\Users\\ABC\\AppData\\Local\\Temp\\ipykernel_12960\\910821214.py:57: FutureWarning: The current default of copy=False will change to copy=True in 1.7. Set the value of copy explicitly to avoid this warning\n",
      "  if cropped_epoch.get_data().shape[-1] > 1:\n"
     ]
    },
    {
     "name": "stdout",
     "output_type": "stream",
     "text": [
      "Computing rank from data with rank=None\n",
      "    Using tolerance 4.4e-12 (2.2e-16 eps * 22 dim * 9e+02  max singular value)\n",
      "    Estimated rank (eeg): 22\n",
      "    EEG: rank 22 computed from 22 data channels with 0 projectors\n",
      "Reducing data rank from 22 -> 22\n"
     ]
    },
    {
     "name": "stderr",
     "output_type": "stream",
     "text": [
      "C:\\Users\\ABC\\AppData\\Local\\Temp\\ipykernel_12960\\910821214.py:56: RuntimeWarning: tmax is not in time interval. tmax is set to <class 'mne.epochs.Epochs'>.tmax (4 s)\n",
      "  cropped_epoch = epoch.copy().crop(tmin=start, tmax=end)\n",
      "C:\\Users\\ABC\\AppData\\Local\\Temp\\ipykernel_12960\\910821214.py:57: FutureWarning: The current default of copy=False will change to copy=True in 1.7. Set the value of copy explicitly to avoid this warning\n",
      "  if cropped_epoch.get_data().shape[-1] > 1:\n",
      "C:\\Users\\ABC\\AppData\\Local\\Temp\\ipykernel_12960\\910821214.py:56: RuntimeWarning: tmax is not in time interval. tmax is set to <class 'mne.epochs.Epochs'>.tmax (4 s)\n",
      "  cropped_epoch = epoch.copy().crop(tmin=start, tmax=end)\n",
      "C:\\Users\\ABC\\AppData\\Local\\Temp\\ipykernel_12960\\910821214.py:57: FutureWarning: The current default of copy=False will change to copy=True in 1.7. Set the value of copy explicitly to avoid this warning\n",
      "  if cropped_epoch.get_data().shape[-1] > 1:\n",
      "C:\\Users\\ABC\\AppData\\Local\\Temp\\ipykernel_12960\\910821214.py:56: RuntimeWarning: tmax is not in time interval. tmax is set to <class 'mne.epochs.Epochs'>.tmax (4 s)\n",
      "  cropped_epoch = epoch.copy().crop(tmin=start, tmax=end)\n",
      "C:\\Users\\ABC\\AppData\\Local\\Temp\\ipykernel_12960\\910821214.py:57: FutureWarning: The current default of copy=False will change to copy=True in 1.7. Set the value of copy explicitly to avoid this warning\n",
      "  if cropped_epoch.get_data().shape[-1] > 1:\n",
      "C:\\Users\\ABC\\AppData\\Local\\Temp\\ipykernel_12960\\910821214.py:50: RuntimeWarning: Epochs are not baseline corrected, covariance matrix may be inaccurate\n",
      "  cov_segment = mne.compute_covariance(cropped_epoch, method='empirical')\n"
     ]
    },
    {
     "name": "stdout",
     "output_type": "stream",
     "text": [
      "Estimating covariance using EMPIRICAL\n",
      "Done.\n",
      "Number of samples used : 501\n",
      "[done]\n"
     ]
    },
    {
     "name": "stderr",
     "output_type": "stream",
     "text": [
      "C:\\Users\\ABC\\AppData\\Local\\Temp\\ipykernel_12960\\910821214.py:57: FutureWarning: The current default of copy=False will change to copy=True in 1.7. Set the value of copy explicitly to avoid this warning\n",
      "  if cropped_epoch.get_data().shape[-1] > 1:\n",
      "C:\\Users\\ABC\\AppData\\Local\\Temp\\ipykernel_12960\\910821214.py:57: FutureWarning: The current default of copy=False will change to copy=True in 1.7. Set the value of copy explicitly to avoid this warning\n",
      "  if cropped_epoch.get_data().shape[-1] > 1:\n",
      "C:\\Users\\ABC\\AppData\\Local\\Temp\\ipykernel_12960\\910821214.py:57: FutureWarning: The current default of copy=False will change to copy=True in 1.7. Set the value of copy explicitly to avoid this warning\n",
      "  if cropped_epoch.get_data().shape[-1] > 1:\n"
     ]
    },
    {
     "name": "stdout",
     "output_type": "stream",
     "text": [
      "Computing rank from data with rank=None\n"
     ]
    },
    {
     "name": "stderr",
     "output_type": "stream",
     "text": [
      "C:\\Users\\ABC\\AppData\\Local\\Temp\\ipykernel_12960\\910821214.py:57: FutureWarning: The current default of copy=False will change to copy=True in 1.7. Set the value of copy explicitly to avoid this warning\n",
      "  if cropped_epoch.get_data().shape[-1] > 1:\n",
      "C:\\Users\\ABC\\AppData\\Local\\Temp\\ipykernel_12960\\910821214.py:56: RuntimeWarning: tmax is not in time interval. tmax is set to <class 'mne.epochs.Epochs'>.tmax (4 s)\n",
      "  cropped_epoch = epoch.copy().crop(tmin=start, tmax=end)\n",
      "C:\\Users\\ABC\\AppData\\Local\\Temp\\ipykernel_12960\\910821214.py:57: FutureWarning: The current default of copy=False will change to copy=True in 1.7. Set the value of copy explicitly to avoid this warning\n",
      "  if cropped_epoch.get_data().shape[-1] > 1:\n",
      "C:\\Users\\ABC\\AppData\\Local\\Temp\\ipykernel_12960\\910821214.py:56: RuntimeWarning: tmax is not in time interval. tmax is set to <class 'mne.epochs.Epochs'>.tmax (4 s)\n",
      "  cropped_epoch = epoch.copy().crop(tmin=start, tmax=end)\n",
      "C:\\Users\\ABC\\AppData\\Local\\Temp\\ipykernel_12960\\910821214.py:57: FutureWarning: The current default of copy=False will change to copy=True in 1.7. Set the value of copy explicitly to avoid this warning\n",
      "  if cropped_epoch.get_data().shape[-1] > 1:\n",
      "C:\\Users\\ABC\\AppData\\Local\\Temp\\ipykernel_12960\\910821214.py:56: RuntimeWarning: tmax is not in time interval. tmax is set to <class 'mne.epochs.Epochs'>.tmax (4 s)\n",
      "  cropped_epoch = epoch.copy().crop(tmin=start, tmax=end)\n",
      "C:\\Users\\ABC\\AppData\\Local\\Temp\\ipykernel_12960\\910821214.py:57: FutureWarning: The current default of copy=False will change to copy=True in 1.7. Set the value of copy explicitly to avoid this warning\n",
      "  if cropped_epoch.get_data().shape[-1] > 1:\n",
      "C:\\Users\\ABC\\AppData\\Local\\Temp\\ipykernel_12960\\910821214.py:50: RuntimeWarning: Epochs are not baseline corrected, covariance matrix may be inaccurate\n",
      "  cov_segment = mne.compute_covariance(cropped_epoch, method='empirical')\n"
     ]
    },
    {
     "name": "stdout",
     "output_type": "stream",
     "text": [
      "    Using tolerance 5.7e-12 (2.2e-16 eps * 22 dim * 1.2e+03  max singular value)\n",
      "    Estimated rank (eeg): 22\n",
      "    EEG: rank 22 computed from 22 data channels with 0 projectors\n",
      "Reducing data rank from 22 -> 22\n",
      "Estimating covariance using EMPIRICAL\n",
      "Done.\n",
      "Number of samples used : 501\n",
      "[done]\n"
     ]
    },
    {
     "name": "stderr",
     "output_type": "stream",
     "text": [
      "C:\\Users\\ABC\\AppData\\Local\\Temp\\ipykernel_12960\\910821214.py:57: FutureWarning: The current default of copy=False will change to copy=True in 1.7. Set the value of copy explicitly to avoid this warning\n",
      "  if cropped_epoch.get_data().shape[-1] > 1:\n",
      "C:\\Users\\ABC\\AppData\\Local\\Temp\\ipykernel_12960\\910821214.py:57: FutureWarning: The current default of copy=False will change to copy=True in 1.7. Set the value of copy explicitly to avoid this warning\n",
      "  if cropped_epoch.get_data().shape[-1] > 1:\n",
      "C:\\Users\\ABC\\AppData\\Local\\Temp\\ipykernel_12960\\910821214.py:57: FutureWarning: The current default of copy=False will change to copy=True in 1.7. Set the value of copy explicitly to avoid this warning\n",
      "  if cropped_epoch.get_data().shape[-1] > 1:\n"
     ]
    },
    {
     "name": "stdout",
     "output_type": "stream",
     "text": [
      "Computing rank from data with rank=None\n"
     ]
    },
    {
     "name": "stderr",
     "output_type": "stream",
     "text": [
      "C:\\Users\\ABC\\AppData\\Local\\Temp\\ipykernel_12960\\910821214.py:57: FutureWarning: The current default of copy=False will change to copy=True in 1.7. Set the value of copy explicitly to avoid this warning\n",
      "  if cropped_epoch.get_data().shape[-1] > 1:\n",
      "C:\\Users\\ABC\\AppData\\Local\\Temp\\ipykernel_12960\\910821214.py:56: RuntimeWarning: tmax is not in time interval. tmax is set to <class 'mne.epochs.Epochs'>.tmax (4 s)\n",
      "  cropped_epoch = epoch.copy().crop(tmin=start, tmax=end)\n",
      "C:\\Users\\ABC\\AppData\\Local\\Temp\\ipykernel_12960\\910821214.py:57: FutureWarning: The current default of copy=False will change to copy=True in 1.7. Set the value of copy explicitly to avoid this warning\n",
      "  if cropped_epoch.get_data().shape[-1] > 1:\n",
      "C:\\Users\\ABC\\AppData\\Local\\Temp\\ipykernel_12960\\910821214.py:56: RuntimeWarning: tmax is not in time interval. tmax is set to <class 'mne.epochs.Epochs'>.tmax (4 s)\n",
      "  cropped_epoch = epoch.copy().crop(tmin=start, tmax=end)\n",
      "C:\\Users\\ABC\\AppData\\Local\\Temp\\ipykernel_12960\\910821214.py:57: FutureWarning: The current default of copy=False will change to copy=True in 1.7. Set the value of copy explicitly to avoid this warning\n",
      "  if cropped_epoch.get_data().shape[-1] > 1:\n",
      "C:\\Users\\ABC\\AppData\\Local\\Temp\\ipykernel_12960\\910821214.py:56: RuntimeWarning: tmax is not in time interval. tmax is set to <class 'mne.epochs.Epochs'>.tmax (4 s)\n",
      "  cropped_epoch = epoch.copy().crop(tmin=start, tmax=end)\n",
      "C:\\Users\\ABC\\AppData\\Local\\Temp\\ipykernel_12960\\910821214.py:57: FutureWarning: The current default of copy=False will change to copy=True in 1.7. Set the value of copy explicitly to avoid this warning\n",
      "  if cropped_epoch.get_data().shape[-1] > 1:\n",
      "C:\\Users\\ABC\\AppData\\Local\\Temp\\ipykernel_12960\\910821214.py:50: RuntimeWarning: Epochs are not baseline corrected, covariance matrix may be inaccurate\n",
      "  cov_segment = mne.compute_covariance(cropped_epoch, method='empirical')\n"
     ]
    },
    {
     "name": "stdout",
     "output_type": "stream",
     "text": [
      "    Using tolerance 4.7e-12 (2.2e-16 eps * 22 dim * 9.6e+02  max singular value)\n",
      "    Estimated rank (eeg): 22\n",
      "    EEG: rank 22 computed from 22 data channels with 0 projectors\n",
      "Reducing data rank from 22 -> 22\n",
      "Estimating covariance using EMPIRICAL\n",
      "Done.\n",
      "Number of samples used : 501\n",
      "[done]\n"
     ]
    },
    {
     "name": "stderr",
     "output_type": "stream",
     "text": [
      "C:\\Users\\ABC\\AppData\\Local\\Temp\\ipykernel_12960\\910821214.py:57: FutureWarning: The current default of copy=False will change to copy=True in 1.7. Set the value of copy explicitly to avoid this warning\n",
      "  if cropped_epoch.get_data().shape[-1] > 1:\n",
      "C:\\Users\\ABC\\AppData\\Local\\Temp\\ipykernel_12960\\910821214.py:57: FutureWarning: The current default of copy=False will change to copy=True in 1.7. Set the value of copy explicitly to avoid this warning\n",
      "  if cropped_epoch.get_data().shape[-1] > 1:\n",
      "C:\\Users\\ABC\\AppData\\Local\\Temp\\ipykernel_12960\\910821214.py:57: FutureWarning: The current default of copy=False will change to copy=True in 1.7. Set the value of copy explicitly to avoid this warning\n",
      "  if cropped_epoch.get_data().shape[-1] > 1:\n",
      "C:\\Users\\ABC\\AppData\\Local\\Temp\\ipykernel_12960\\910821214.py:57: FutureWarning: The current default of copy=False will change to copy=True in 1.7. Set the value of copy explicitly to avoid this warning\n",
      "  if cropped_epoch.get_data().shape[-1] > 1:\n",
      "C:\\Users\\ABC\\AppData\\Local\\Temp\\ipykernel_12960\\910821214.py:56: RuntimeWarning: tmax is not in time interval. tmax is set to <class 'mne.epochs.Epochs'>.tmax (4 s)\n",
      "  cropped_epoch = epoch.copy().crop(tmin=start, tmax=end)\n",
      "C:\\Users\\ABC\\AppData\\Local\\Temp\\ipykernel_12960\\910821214.py:57: FutureWarning: The current default of copy=False will change to copy=True in 1.7. Set the value of copy explicitly to avoid this warning\n",
      "  if cropped_epoch.get_data().shape[-1] > 1:\n"
     ]
    },
    {
     "name": "stdout",
     "output_type": "stream",
     "text": [
      "Computing rank from data with rank=None\n",
      "    Using tolerance 4.5e-12 (2.2e-16 eps * 22 dim * 9.2e+02  max singular value)\n",
      "    Estimated rank (eeg): 22\n",
      "    EEG: rank 22 computed from 22 data channels with 0 projectors\n",
      "Reducing data rank from 22 -> 22\n",
      "Estimating covariance using EMPIRICAL\n",
      "Done.\n",
      "Number of samples used : 501\n",
      "[done]\n"
     ]
    },
    {
     "name": "stderr",
     "output_type": "stream",
     "text": [
      "C:\\Users\\ABC\\AppData\\Local\\Temp\\ipykernel_12960\\910821214.py:56: RuntimeWarning: tmax is not in time interval. tmax is set to <class 'mne.epochs.Epochs'>.tmax (4 s)\n",
      "  cropped_epoch = epoch.copy().crop(tmin=start, tmax=end)\n",
      "C:\\Users\\ABC\\AppData\\Local\\Temp\\ipykernel_12960\\910821214.py:57: FutureWarning: The current default of copy=False will change to copy=True in 1.7. Set the value of copy explicitly to avoid this warning\n",
      "  if cropped_epoch.get_data().shape[-1] > 1:\n",
      "C:\\Users\\ABC\\AppData\\Local\\Temp\\ipykernel_12960\\910821214.py:56: RuntimeWarning: tmax is not in time interval. tmax is set to <class 'mne.epochs.Epochs'>.tmax (4 s)\n",
      "  cropped_epoch = epoch.copy().crop(tmin=start, tmax=end)\n",
      "C:\\Users\\ABC\\AppData\\Local\\Temp\\ipykernel_12960\\910821214.py:57: FutureWarning: The current default of copy=False will change to copy=True in 1.7. Set the value of copy explicitly to avoid this warning\n",
      "  if cropped_epoch.get_data().shape[-1] > 1:\n",
      "C:\\Users\\ABC\\AppData\\Local\\Temp\\ipykernel_12960\\910821214.py:50: RuntimeWarning: Epochs are not baseline corrected, covariance matrix may be inaccurate\n",
      "  cov_segment = mne.compute_covariance(cropped_epoch, method='empirical')\n",
      "C:\\Users\\ABC\\AppData\\Local\\Temp\\ipykernel_12960\\910821214.py:57: FutureWarning: The current default of copy=False will change to copy=True in 1.7. Set the value of copy explicitly to avoid this warning\n",
      "  if cropped_epoch.get_data().shape[-1] > 1:\n",
      "C:\\Users\\ABC\\AppData\\Local\\Temp\\ipykernel_12960\\910821214.py:57: FutureWarning: The current default of copy=False will change to copy=True in 1.7. Set the value of copy explicitly to avoid this warning\n",
      "  if cropped_epoch.get_data().shape[-1] > 1:\n",
      "C:\\Users\\ABC\\AppData\\Local\\Temp\\ipykernel_12960\\910821214.py:57: FutureWarning: The current default of copy=False will change to copy=True in 1.7. Set the value of copy explicitly to avoid this warning\n",
      "  if cropped_epoch.get_data().shape[-1] > 1:\n",
      "C:\\Users\\ABC\\AppData\\Local\\Temp\\ipykernel_12960\\910821214.py:57: FutureWarning: The current default of copy=False will change to copy=True in 1.7. Set the value of copy explicitly to avoid this warning\n",
      "  if cropped_epoch.get_data().shape[-1] > 1:\n",
      "C:\\Users\\ABC\\AppData\\Local\\Temp\\ipykernel_12960\\910821214.py:56: RuntimeWarning: tmax is not in time interval. tmax is set to <class 'mne.epochs.Epochs'>.tmax (4 s)\n",
      "  cropped_epoch = epoch.copy().crop(tmin=start, tmax=end)\n",
      "C:\\Users\\ABC\\AppData\\Local\\Temp\\ipykernel_12960\\910821214.py:57: FutureWarning: The current default of copy=False will change to copy=True in 1.7. Set the value of copy explicitly to avoid this warning\n",
      "  if cropped_epoch.get_data().shape[-1] > 1:\n",
      "C:\\Users\\ABC\\AppData\\Local\\Temp\\ipykernel_12960\\910821214.py:56: RuntimeWarning: tmax is not in time interval. tmax is set to <class 'mne.epochs.Epochs'>.tmax (4 s)\n",
      "  cropped_epoch = epoch.copy().crop(tmin=start, tmax=end)\n",
      "C:\\Users\\ABC\\AppData\\Local\\Temp\\ipykernel_12960\\910821214.py:57: FutureWarning: The current default of copy=False will change to copy=True in 1.7. Set the value of copy explicitly to avoid this warning\n",
      "  if cropped_epoch.get_data().shape[-1] > 1:\n"
     ]
    },
    {
     "name": "stdout",
     "output_type": "stream",
     "text": [
      "Computing rank from data with rank=None\n",
      "    Using tolerance 6.4e-12 (2.2e-16 eps * 22 dim * 1.3e+03  max singular value)\n",
      "    Estimated rank (eeg): 22\n",
      "    EEG: rank 22 computed from 22 data channels with 0 projectors\n",
      "Reducing data rank from 22 -> 22\n",
      "Estimating covariance using EMPIRICAL\n",
      "Done.\n",
      "Number of samples used : 501\n",
      "[done]\n"
     ]
    },
    {
     "name": "stderr",
     "output_type": "stream",
     "text": [
      "C:\\Users\\ABC\\AppData\\Local\\Temp\\ipykernel_12960\\910821214.py:56: RuntimeWarning: tmax is not in time interval. tmax is set to <class 'mne.epochs.Epochs'>.tmax (4 s)\n",
      "  cropped_epoch = epoch.copy().crop(tmin=start, tmax=end)\n",
      "C:\\Users\\ABC\\AppData\\Local\\Temp\\ipykernel_12960\\910821214.py:57: FutureWarning: The current default of copy=False will change to copy=True in 1.7. Set the value of copy explicitly to avoid this warning\n",
      "  if cropped_epoch.get_data().shape[-1] > 1:\n",
      "C:\\Users\\ABC\\AppData\\Local\\Temp\\ipykernel_12960\\910821214.py:50: RuntimeWarning: Epochs are not baseline corrected, covariance matrix may be inaccurate\n",
      "  cov_segment = mne.compute_covariance(cropped_epoch, method='empirical')\n",
      "C:\\Users\\ABC\\AppData\\Local\\Temp\\ipykernel_12960\\910821214.py:57: FutureWarning: The current default of copy=False will change to copy=True in 1.7. Set the value of copy explicitly to avoid this warning\n",
      "  if cropped_epoch.get_data().shape[-1] > 1:\n",
      "C:\\Users\\ABC\\AppData\\Local\\Temp\\ipykernel_12960\\910821214.py:57: FutureWarning: The current default of copy=False will change to copy=True in 1.7. Set the value of copy explicitly to avoid this warning\n",
      "  if cropped_epoch.get_data().shape[-1] > 1:\n",
      "C:\\Users\\ABC\\AppData\\Local\\Temp\\ipykernel_12960\\910821214.py:57: FutureWarning: The current default of copy=False will change to copy=True in 1.7. Set the value of copy explicitly to avoid this warning\n",
      "  if cropped_epoch.get_data().shape[-1] > 1:\n",
      "C:\\Users\\ABC\\AppData\\Local\\Temp\\ipykernel_12960\\910821214.py:57: FutureWarning: The current default of copy=False will change to copy=True in 1.7. Set the value of copy explicitly to avoid this warning\n",
      "  if cropped_epoch.get_data().shape[-1] > 1:\n",
      "C:\\Users\\ABC\\AppData\\Local\\Temp\\ipykernel_12960\\910821214.py:56: RuntimeWarning: tmax is not in time interval. tmax is set to <class 'mne.epochs.Epochs'>.tmax (4 s)\n",
      "  cropped_epoch = epoch.copy().crop(tmin=start, tmax=end)\n",
      "C:\\Users\\ABC\\AppData\\Local\\Temp\\ipykernel_12960\\910821214.py:57: FutureWarning: The current default of copy=False will change to copy=True in 1.7. Set the value of copy explicitly to avoid this warning\n",
      "  if cropped_epoch.get_data().shape[-1] > 1:\n",
      "C:\\Users\\ABC\\AppData\\Local\\Temp\\ipykernel_12960\\910821214.py:56: RuntimeWarning: tmax is not in time interval. tmax is set to <class 'mne.epochs.Epochs'>.tmax (4 s)\n",
      "  cropped_epoch = epoch.copy().crop(tmin=start, tmax=end)\n",
      "C:\\Users\\ABC\\AppData\\Local\\Temp\\ipykernel_12960\\910821214.py:57: FutureWarning: The current default of copy=False will change to copy=True in 1.7. Set the value of copy explicitly to avoid this warning\n",
      "  if cropped_epoch.get_data().shape[-1] > 1:\n",
      "C:\\Users\\ABC\\AppData\\Local\\Temp\\ipykernel_12960\\910821214.py:56: RuntimeWarning: tmax is not in time interval. tmax is set to <class 'mne.epochs.Epochs'>.tmax (4 s)\n",
      "  cropped_epoch = epoch.copy().crop(tmin=start, tmax=end)\n",
      "C:\\Users\\ABC\\AppData\\Local\\Temp\\ipykernel_12960\\910821214.py:57: FutureWarning: The current default of copy=False will change to copy=True in 1.7. Set the value of copy explicitly to avoid this warning\n",
      "  if cropped_epoch.get_data().shape[-1] > 1:\n"
     ]
    },
    {
     "name": "stdout",
     "output_type": "stream",
     "text": [
      "Computing rank from data with rank=None\n",
      "    Using tolerance 6.1e-12 (2.2e-16 eps * 22 dim * 1.2e+03  max singular value)\n",
      "    Estimated rank (eeg): 22\n",
      "    EEG: rank 22 computed from 22 data channels with 0 projectors\n",
      "Reducing data rank from 22 -> 22\n",
      "Estimating covariance using EMPIRICAL\n",
      "Done.\n",
      "Number of samples used : 501\n",
      "[done]\n"
     ]
    },
    {
     "name": "stderr",
     "output_type": "stream",
     "text": [
      "C:\\Users\\ABC\\AppData\\Local\\Temp\\ipykernel_12960\\910821214.py:50: RuntimeWarning: Epochs are not baseline corrected, covariance matrix may be inaccurate\n",
      "  cov_segment = mne.compute_covariance(cropped_epoch, method='empirical')\n",
      "C:\\Users\\ABC\\AppData\\Local\\Temp\\ipykernel_12960\\910821214.py:57: FutureWarning: The current default of copy=False will change to copy=True in 1.7. Set the value of copy explicitly to avoid this warning\n",
      "  if cropped_epoch.get_data().shape[-1] > 1:\n",
      "C:\\Users\\ABC\\AppData\\Local\\Temp\\ipykernel_12960\\910821214.py:57: FutureWarning: The current default of copy=False will change to copy=True in 1.7. Set the value of copy explicitly to avoid this warning\n",
      "  if cropped_epoch.get_data().shape[-1] > 1:\n",
      "C:\\Users\\ABC\\AppData\\Local\\Temp\\ipykernel_12960\\910821214.py:57: FutureWarning: The current default of copy=False will change to copy=True in 1.7. Set the value of copy explicitly to avoid this warning\n",
      "  if cropped_epoch.get_data().shape[-1] > 1:\n",
      "C:\\Users\\ABC\\AppData\\Local\\Temp\\ipykernel_12960\\910821214.py:57: FutureWarning: The current default of copy=False will change to copy=True in 1.7. Set the value of copy explicitly to avoid this warning\n",
      "  if cropped_epoch.get_data().shape[-1] > 1:\n",
      "C:\\Users\\ABC\\AppData\\Local\\Temp\\ipykernel_12960\\910821214.py:56: RuntimeWarning: tmax is not in time interval. tmax is set to <class 'mne.epochs.Epochs'>.tmax (4 s)\n",
      "  cropped_epoch = epoch.copy().crop(tmin=start, tmax=end)\n",
      "C:\\Users\\ABC\\AppData\\Local\\Temp\\ipykernel_12960\\910821214.py:57: FutureWarning: The current default of copy=False will change to copy=True in 1.7. Set the value of copy explicitly to avoid this warning\n",
      "  if cropped_epoch.get_data().shape[-1] > 1:\n",
      "C:\\Users\\ABC\\AppData\\Local\\Temp\\ipykernel_12960\\910821214.py:56: RuntimeWarning: tmax is not in time interval. tmax is set to <class 'mne.epochs.Epochs'>.tmax (4 s)\n",
      "  cropped_epoch = epoch.copy().crop(tmin=start, tmax=end)\n",
      "C:\\Users\\ABC\\AppData\\Local\\Temp\\ipykernel_12960\\910821214.py:57: FutureWarning: The current default of copy=False will change to copy=True in 1.7. Set the value of copy explicitly to avoid this warning\n",
      "  if cropped_epoch.get_data().shape[-1] > 1:\n"
     ]
    },
    {
     "name": "stdout",
     "output_type": "stream",
     "text": [
      "Computing rank from data with rank=None\n",
      "    Using tolerance 5.8e-12 (2.2e-16 eps * 22 dim * 1.2e+03  max singular value)\n",
      "    Estimated rank (eeg): 22\n",
      "    EEG: rank 22 computed from 22 data channels with 0 projectors\n",
      "Reducing data rank from 22 -> 22\n",
      "Estimating covariance using EMPIRICAL\n",
      "Done.\n",
      "Number of samples used : 501\n",
      "[done]\n"
     ]
    },
    {
     "name": "stderr",
     "output_type": "stream",
     "text": [
      "C:\\Users\\ABC\\AppData\\Local\\Temp\\ipykernel_12960\\910821214.py:56: RuntimeWarning: tmax is not in time interval. tmax is set to <class 'mne.epochs.Epochs'>.tmax (4 s)\n",
      "  cropped_epoch = epoch.copy().crop(tmin=start, tmax=end)\n",
      "C:\\Users\\ABC\\AppData\\Local\\Temp\\ipykernel_12960\\910821214.py:57: FutureWarning: The current default of copy=False will change to copy=True in 1.7. Set the value of copy explicitly to avoid this warning\n",
      "  if cropped_epoch.get_data().shape[-1] > 1:\n",
      "C:\\Users\\ABC\\AppData\\Local\\Temp\\ipykernel_12960\\910821214.py:50: RuntimeWarning: Epochs are not baseline corrected, covariance matrix may be inaccurate\n",
      "  cov_segment = mne.compute_covariance(cropped_epoch, method='empirical')\n",
      "C:\\Users\\ABC\\AppData\\Local\\Temp\\ipykernel_12960\\910821214.py:57: FutureWarning: The current default of copy=False will change to copy=True in 1.7. Set the value of copy explicitly to avoid this warning\n",
      "  if cropped_epoch.get_data().shape[-1] > 1:\n",
      "C:\\Users\\ABC\\AppData\\Local\\Temp\\ipykernel_12960\\910821214.py:57: FutureWarning: The current default of copy=False will change to copy=True in 1.7. Set the value of copy explicitly to avoid this warning\n",
      "  if cropped_epoch.get_data().shape[-1] > 1:\n",
      "C:\\Users\\ABC\\AppData\\Local\\Temp\\ipykernel_12960\\910821214.py:57: FutureWarning: The current default of copy=False will change to copy=True in 1.7. Set the value of copy explicitly to avoid this warning\n",
      "  if cropped_epoch.get_data().shape[-1] > 1:\n",
      "C:\\Users\\ABC\\AppData\\Local\\Temp\\ipykernel_12960\\910821214.py:57: FutureWarning: The current default of copy=False will change to copy=True in 1.7. Set the value of copy explicitly to avoid this warning\n",
      "  if cropped_epoch.get_data().shape[-1] > 1:\n",
      "C:\\Users\\ABC\\AppData\\Local\\Temp\\ipykernel_12960\\910821214.py:56: RuntimeWarning: tmax is not in time interval. tmax is set to <class 'mne.epochs.Epochs'>.tmax (4 s)\n",
      "  cropped_epoch = epoch.copy().crop(tmin=start, tmax=end)\n",
      "C:\\Users\\ABC\\AppData\\Local\\Temp\\ipykernel_12960\\910821214.py:57: FutureWarning: The current default of copy=False will change to copy=True in 1.7. Set the value of copy explicitly to avoid this warning\n",
      "  if cropped_epoch.get_data().shape[-1] > 1:\n",
      "C:\\Users\\ABC\\AppData\\Local\\Temp\\ipykernel_12960\\910821214.py:56: RuntimeWarning: tmax is not in time interval. tmax is set to <class 'mne.epochs.Epochs'>.tmax (4 s)\n",
      "  cropped_epoch = epoch.copy().crop(tmin=start, tmax=end)\n"
     ]
    },
    {
     "name": "stdout",
     "output_type": "stream",
     "text": [
      "Computing rank from data with rank=None\n",
      "    Using tolerance 4.2e-12 (2.2e-16 eps * 22 dim * 8.6e+02  max singular value)\n"
     ]
    },
    {
     "name": "stderr",
     "output_type": "stream",
     "text": [
      "C:\\Users\\ABC\\AppData\\Local\\Temp\\ipykernel_12960\\910821214.py:57: FutureWarning: The current default of copy=False will change to copy=True in 1.7. Set the value of copy explicitly to avoid this warning\n",
      "  if cropped_epoch.get_data().shape[-1] > 1:\n",
      "C:\\Users\\ABC\\AppData\\Local\\Temp\\ipykernel_12960\\910821214.py:56: RuntimeWarning: tmax is not in time interval. tmax is set to <class 'mne.epochs.Epochs'>.tmax (4 s)\n",
      "  cropped_epoch = epoch.copy().crop(tmin=start, tmax=end)\n",
      "C:\\Users\\ABC\\AppData\\Local\\Temp\\ipykernel_12960\\910821214.py:57: FutureWarning: The current default of copy=False will change to copy=True in 1.7. Set the value of copy explicitly to avoid this warning\n",
      "  if cropped_epoch.get_data().shape[-1] > 1:\n",
      "C:\\Users\\ABC\\AppData\\Local\\Temp\\ipykernel_12960\\910821214.py:50: RuntimeWarning: Epochs are not baseline corrected, covariance matrix may be inaccurate\n",
      "  cov_segment = mne.compute_covariance(cropped_epoch, method='empirical')\n"
     ]
    },
    {
     "name": "stdout",
     "output_type": "stream",
     "text": [
      "    Estimated rank (eeg): 22\n",
      "    EEG: rank 22 computed from 22 data channels with 0 projectors\n",
      "Reducing data rank from 22 -> 22\n",
      "Estimating covariance using EMPIRICAL\n",
      "Done.\n",
      "Number of samples used : 501\n",
      "[done]\n"
     ]
    },
    {
     "name": "stderr",
     "output_type": "stream",
     "text": [
      "C:\\Users\\ABC\\AppData\\Local\\Temp\\ipykernel_12960\\910821214.py:57: FutureWarning: The current default of copy=False will change to copy=True in 1.7. Set the value of copy explicitly to avoid this warning\n",
      "  if cropped_epoch.get_data().shape[-1] > 1:\n",
      "C:\\Users\\ABC\\AppData\\Local\\Temp\\ipykernel_12960\\910821214.py:57: FutureWarning: The current default of copy=False will change to copy=True in 1.7. Set the value of copy explicitly to avoid this warning\n",
      "  if cropped_epoch.get_data().shape[-1] > 1:\n",
      "C:\\Users\\ABC\\AppData\\Local\\Temp\\ipykernel_12960\\910821214.py:57: FutureWarning: The current default of copy=False will change to copy=True in 1.7. Set the value of copy explicitly to avoid this warning\n",
      "  if cropped_epoch.get_data().shape[-1] > 1:\n",
      "C:\\Users\\ABC\\AppData\\Local\\Temp\\ipykernel_12960\\910821214.py:57: FutureWarning: The current default of copy=False will change to copy=True in 1.7. Set the value of copy explicitly to avoid this warning\n",
      "  if cropped_epoch.get_data().shape[-1] > 1:\n"
     ]
    },
    {
     "name": "stdout",
     "output_type": "stream",
     "text": [
      "Computing rank from data with rank=None\n"
     ]
    },
    {
     "name": "stderr",
     "output_type": "stream",
     "text": [
      "C:\\Users\\ABC\\AppData\\Local\\Temp\\ipykernel_12960\\910821214.py:56: RuntimeWarning: tmax is not in time interval. tmax is set to <class 'mne.epochs.Epochs'>.tmax (4 s)\n",
      "  cropped_epoch = epoch.copy().crop(tmin=start, tmax=end)\n",
      "C:\\Users\\ABC\\AppData\\Local\\Temp\\ipykernel_12960\\910821214.py:57: FutureWarning: The current default of copy=False will change to copy=True in 1.7. Set the value of copy explicitly to avoid this warning\n",
      "  if cropped_epoch.get_data().shape[-1] > 1:\n",
      "C:\\Users\\ABC\\AppData\\Local\\Temp\\ipykernel_12960\\910821214.py:56: RuntimeWarning: tmax is not in time interval. tmax is set to <class 'mne.epochs.Epochs'>.tmax (4 s)\n",
      "  cropped_epoch = epoch.copy().crop(tmin=start, tmax=end)\n",
      "C:\\Users\\ABC\\AppData\\Local\\Temp\\ipykernel_12960\\910821214.py:57: FutureWarning: The current default of copy=False will change to copy=True in 1.7. Set the value of copy explicitly to avoid this warning\n",
      "  if cropped_epoch.get_data().shape[-1] > 1:\n",
      "C:\\Users\\ABC\\AppData\\Local\\Temp\\ipykernel_12960\\910821214.py:56: RuntimeWarning: tmax is not in time interval. tmax is set to <class 'mne.epochs.Epochs'>.tmax (4 s)\n",
      "  cropped_epoch = epoch.copy().crop(tmin=start, tmax=end)\n",
      "C:\\Users\\ABC\\AppData\\Local\\Temp\\ipykernel_12960\\910821214.py:57: FutureWarning: The current default of copy=False will change to copy=True in 1.7. Set the value of copy explicitly to avoid this warning\n",
      "  if cropped_epoch.get_data().shape[-1] > 1:\n",
      "C:\\Users\\ABC\\AppData\\Local\\Temp\\ipykernel_12960\\910821214.py:50: RuntimeWarning: Epochs are not baseline corrected, covariance matrix may be inaccurate\n",
      "  cov_segment = mne.compute_covariance(cropped_epoch, method='empirical')\n"
     ]
    },
    {
     "name": "stdout",
     "output_type": "stream",
     "text": [
      "    Using tolerance 4.3e-12 (2.2e-16 eps * 22 dim * 8.9e+02  max singular value)\n",
      "    Estimated rank (eeg): 22\n",
      "    EEG: rank 22 computed from 22 data channels with 0 projectors\n",
      "Reducing data rank from 22 -> 22\n",
      "Estimating covariance using EMPIRICAL\n",
      "Done.\n",
      "Number of samples used : 501\n",
      "[done]\n"
     ]
    },
    {
     "name": "stderr",
     "output_type": "stream",
     "text": [
      "C:\\Users\\ABC\\AppData\\Local\\Temp\\ipykernel_12960\\910821214.py:57: FutureWarning: The current default of copy=False will change to copy=True in 1.7. Set the value of copy explicitly to avoid this warning\n",
      "  if cropped_epoch.get_data().shape[-1] > 1:\n",
      "C:\\Users\\ABC\\AppData\\Local\\Temp\\ipykernel_12960\\910821214.py:57: FutureWarning: The current default of copy=False will change to copy=True in 1.7. Set the value of copy explicitly to avoid this warning\n",
      "  if cropped_epoch.get_data().shape[-1] > 1:\n",
      "C:\\Users\\ABC\\AppData\\Local\\Temp\\ipykernel_12960\\910821214.py:57: FutureWarning: The current default of copy=False will change to copy=True in 1.7. Set the value of copy explicitly to avoid this warning\n",
      "  if cropped_epoch.get_data().shape[-1] > 1:\n",
      "C:\\Users\\ABC\\AppData\\Local\\Temp\\ipykernel_12960\\910821214.py:57: FutureWarning: The current default of copy=False will change to copy=True in 1.7. Set the value of copy explicitly to avoid this warning\n",
      "  if cropped_epoch.get_data().shape[-1] > 1:\n"
     ]
    },
    {
     "name": "stdout",
     "output_type": "stream",
     "text": [
      "Computing rank from data with rank=None\n"
     ]
    },
    {
     "name": "stderr",
     "output_type": "stream",
     "text": [
      "C:\\Users\\ABC\\AppData\\Local\\Temp\\ipykernel_12960\\910821214.py:56: RuntimeWarning: tmax is not in time interval. tmax is set to <class 'mne.epochs.Epochs'>.tmax (4 s)\n",
      "  cropped_epoch = epoch.copy().crop(tmin=start, tmax=end)\n",
      "C:\\Users\\ABC\\AppData\\Local\\Temp\\ipykernel_12960\\910821214.py:57: FutureWarning: The current default of copy=False will change to copy=True in 1.7. Set the value of copy explicitly to avoid this warning\n",
      "  if cropped_epoch.get_data().shape[-1] > 1:\n",
      "C:\\Users\\ABC\\AppData\\Local\\Temp\\ipykernel_12960\\910821214.py:56: RuntimeWarning: tmax is not in time interval. tmax is set to <class 'mne.epochs.Epochs'>.tmax (4 s)\n",
      "  cropped_epoch = epoch.copy().crop(tmin=start, tmax=end)\n",
      "C:\\Users\\ABC\\AppData\\Local\\Temp\\ipykernel_12960\\910821214.py:57: FutureWarning: The current default of copy=False will change to copy=True in 1.7. Set the value of copy explicitly to avoid this warning\n",
      "  if cropped_epoch.get_data().shape[-1] > 1:\n",
      "C:\\Users\\ABC\\AppData\\Local\\Temp\\ipykernel_12960\\910821214.py:56: RuntimeWarning: tmax is not in time interval. tmax is set to <class 'mne.epochs.Epochs'>.tmax (4 s)\n",
      "  cropped_epoch = epoch.copy().crop(tmin=start, tmax=end)\n",
      "C:\\Users\\ABC\\AppData\\Local\\Temp\\ipykernel_12960\\910821214.py:57: FutureWarning: The current default of copy=False will change to copy=True in 1.7. Set the value of copy explicitly to avoid this warning\n",
      "  if cropped_epoch.get_data().shape[-1] > 1:\n",
      "C:\\Users\\ABC\\AppData\\Local\\Temp\\ipykernel_12960\\910821214.py:50: RuntimeWarning: Epochs are not baseline corrected, covariance matrix may be inaccurate\n",
      "  cov_segment = mne.compute_covariance(cropped_epoch, method='empirical')\n"
     ]
    },
    {
     "name": "stdout",
     "output_type": "stream",
     "text": [
      "    Using tolerance 4.7e-12 (2.2e-16 eps * 22 dim * 9.7e+02  max singular value)\n",
      "    Estimated rank (eeg): 22\n",
      "    EEG: rank 22 computed from 22 data channels with 0 projectors\n",
      "Reducing data rank from 22 -> 22\n",
      "Estimating covariance using EMPIRICAL\n",
      "Done.\n",
      "Number of samples used : 501\n",
      "[done]\n"
     ]
    },
    {
     "name": "stderr",
     "output_type": "stream",
     "text": [
      "C:\\Users\\ABC\\AppData\\Local\\Temp\\ipykernel_12960\\910821214.py:57: FutureWarning: The current default of copy=False will change to copy=True in 1.7. Set the value of copy explicitly to avoid this warning\n",
      "  if cropped_epoch.get_data().shape[-1] > 1:\n",
      "C:\\Users\\ABC\\AppData\\Local\\Temp\\ipykernel_12960\\910821214.py:57: FutureWarning: The current default of copy=False will change to copy=True in 1.7. Set the value of copy explicitly to avoid this warning\n",
      "  if cropped_epoch.get_data().shape[-1] > 1:\n",
      "C:\\Users\\ABC\\AppData\\Local\\Temp\\ipykernel_12960\\910821214.py:57: FutureWarning: The current default of copy=False will change to copy=True in 1.7. Set the value of copy explicitly to avoid this warning\n",
      "  if cropped_epoch.get_data().shape[-1] > 1:\n",
      "C:\\Users\\ABC\\AppData\\Local\\Temp\\ipykernel_12960\\910821214.py:57: FutureWarning: The current default of copy=False will change to copy=True in 1.7. Set the value of copy explicitly to avoid this warning\n",
      "  if cropped_epoch.get_data().shape[-1] > 1:\n",
      "C:\\Users\\ABC\\AppData\\Local\\Temp\\ipykernel_12960\\910821214.py:56: RuntimeWarning: tmax is not in time interval. tmax is set to <class 'mne.epochs.Epochs'>.tmax (4 s)\n",
      "  cropped_epoch = epoch.copy().crop(tmin=start, tmax=end)\n",
      "C:\\Users\\ABC\\AppData\\Local\\Temp\\ipykernel_12960\\910821214.py:57: FutureWarning: The current default of copy=False will change to copy=True in 1.7. Set the value of copy explicitly to avoid this warning\n",
      "  if cropped_epoch.get_data().shape[-1] > 1:\n",
      "C:\\Users\\ABC\\AppData\\Local\\Temp\\ipykernel_12960\\910821214.py:56: RuntimeWarning: tmax is not in time interval. tmax is set to <class 'mne.epochs.Epochs'>.tmax (4 s)\n",
      "  cropped_epoch = epoch.copy().crop(tmin=start, tmax=end)\n",
      "C:\\Users\\ABC\\AppData\\Local\\Temp\\ipykernel_12960\\910821214.py:57: FutureWarning: The current default of copy=False will change to copy=True in 1.7. Set the value of copy explicitly to avoid this warning\n",
      "  if cropped_epoch.get_data().shape[-1] > 1:\n"
     ]
    },
    {
     "name": "stdout",
     "output_type": "stream",
     "text": [
      "Computing rank from data with rank=None\n",
      "    Using tolerance 5.8e-12 (2.2e-16 eps * 22 dim * 1.2e+03  max singular value)\n",
      "    Estimated rank (eeg): 22\n",
      "    EEG: rank 22 computed from 22 data channels with 0 projectors\n",
      "Reducing data rank from 22 -> 22\n",
      "Estimating covariance using EMPIRICAL\n",
      "Done.\n",
      "Number of samples used : 501\n",
      "[done]\n"
     ]
    },
    {
     "name": "stderr",
     "output_type": "stream",
     "text": [
      "C:\\Users\\ABC\\AppData\\Local\\Temp\\ipykernel_12960\\910821214.py:56: RuntimeWarning: tmax is not in time interval. tmax is set to <class 'mne.epochs.Epochs'>.tmax (4 s)\n",
      "  cropped_epoch = epoch.copy().crop(tmin=start, tmax=end)\n",
      "C:\\Users\\ABC\\AppData\\Local\\Temp\\ipykernel_12960\\910821214.py:57: FutureWarning: The current default of copy=False will change to copy=True in 1.7. Set the value of copy explicitly to avoid this warning\n",
      "  if cropped_epoch.get_data().shape[-1] > 1:\n",
      "C:\\Users\\ABC\\AppData\\Local\\Temp\\ipykernel_12960\\910821214.py:50: RuntimeWarning: Epochs are not baseline corrected, covariance matrix may be inaccurate\n",
      "  cov_segment = mne.compute_covariance(cropped_epoch, method='empirical')\n",
      "C:\\Users\\ABC\\AppData\\Local\\Temp\\ipykernel_12960\\910821214.py:57: FutureWarning: The current default of copy=False will change to copy=True in 1.7. Set the value of copy explicitly to avoid this warning\n",
      "  if cropped_epoch.get_data().shape[-1] > 1:\n",
      "C:\\Users\\ABC\\AppData\\Local\\Temp\\ipykernel_12960\\910821214.py:57: FutureWarning: The current default of copy=False will change to copy=True in 1.7. Set the value of copy explicitly to avoid this warning\n",
      "  if cropped_epoch.get_data().shape[-1] > 1:\n",
      "C:\\Users\\ABC\\AppData\\Local\\Temp\\ipykernel_12960\\910821214.py:57: FutureWarning: The current default of copy=False will change to copy=True in 1.7. Set the value of copy explicitly to avoid this warning\n",
      "  if cropped_epoch.get_data().shape[-1] > 1:\n",
      "C:\\Users\\ABC\\AppData\\Local\\Temp\\ipykernel_12960\\910821214.py:57: FutureWarning: The current default of copy=False will change to copy=True in 1.7. Set the value of copy explicitly to avoid this warning\n",
      "  if cropped_epoch.get_data().shape[-1] > 1:\n",
      "C:\\Users\\ABC\\AppData\\Local\\Temp\\ipykernel_12960\\910821214.py:56: RuntimeWarning: tmax is not in time interval. tmax is set to <class 'mne.epochs.Epochs'>.tmax (4 s)\n",
      "  cropped_epoch = epoch.copy().crop(tmin=start, tmax=end)\n",
      "C:\\Users\\ABC\\AppData\\Local\\Temp\\ipykernel_12960\\910821214.py:57: FutureWarning: The current default of copy=False will change to copy=True in 1.7. Set the value of copy explicitly to avoid this warning\n",
      "  if cropped_epoch.get_data().shape[-1] > 1:\n",
      "C:\\Users\\ABC\\AppData\\Local\\Temp\\ipykernel_12960\\910821214.py:56: RuntimeWarning: tmax is not in time interval. tmax is set to <class 'mne.epochs.Epochs'>.tmax (4 s)\n",
      "  cropped_epoch = epoch.copy().crop(tmin=start, tmax=end)\n",
      "C:\\Users\\ABC\\AppData\\Local\\Temp\\ipykernel_12960\\910821214.py:57: FutureWarning: The current default of copy=False will change to copy=True in 1.7. Set the value of copy explicitly to avoid this warning\n",
      "  if cropped_epoch.get_data().shape[-1] > 1:\n"
     ]
    },
    {
     "name": "stdout",
     "output_type": "stream",
     "text": [
      "Computing rank from data with rank=None\n",
      "    Using tolerance 6.6e-12 (2.2e-16 eps * 22 dim * 1.3e+03  max singular value)\n",
      "    Estimated rank (eeg): 22\n",
      "    EEG: rank 22 computed from 22 data channels with 0 projectors\n",
      "Reducing data rank from 22 -> 22\n",
      "Estimating covariance using EMPIRICAL\n",
      "Done.\n",
      "Number of samples used : 501\n",
      "[done]\n"
     ]
    },
    {
     "name": "stderr",
     "output_type": "stream",
     "text": [
      "C:\\Users\\ABC\\AppData\\Local\\Temp\\ipykernel_12960\\910821214.py:56: RuntimeWarning: tmax is not in time interval. tmax is set to <class 'mne.epochs.Epochs'>.tmax (4 s)\n",
      "  cropped_epoch = epoch.copy().crop(tmin=start, tmax=end)\n",
      "C:\\Users\\ABC\\AppData\\Local\\Temp\\ipykernel_12960\\910821214.py:57: FutureWarning: The current default of copy=False will change to copy=True in 1.7. Set the value of copy explicitly to avoid this warning\n",
      "  if cropped_epoch.get_data().shape[-1] > 1:\n",
      "C:\\Users\\ABC\\AppData\\Local\\Temp\\ipykernel_12960\\910821214.py:50: RuntimeWarning: Epochs are not baseline corrected, covariance matrix may be inaccurate\n",
      "  cov_segment = mne.compute_covariance(cropped_epoch, method='empirical')\n",
      "C:\\Users\\ABC\\AppData\\Local\\Temp\\ipykernel_12960\\910821214.py:57: FutureWarning: The current default of copy=False will change to copy=True in 1.7. Set the value of copy explicitly to avoid this warning\n",
      "  if cropped_epoch.get_data().shape[-1] > 1:\n",
      "C:\\Users\\ABC\\AppData\\Local\\Temp\\ipykernel_12960\\910821214.py:57: FutureWarning: The current default of copy=False will change to copy=True in 1.7. Set the value of copy explicitly to avoid this warning\n",
      "  if cropped_epoch.get_data().shape[-1] > 1:\n",
      "C:\\Users\\ABC\\AppData\\Local\\Temp\\ipykernel_12960\\910821214.py:57: FutureWarning: The current default of copy=False will change to copy=True in 1.7. Set the value of copy explicitly to avoid this warning\n",
      "  if cropped_epoch.get_data().shape[-1] > 1:\n",
      "C:\\Users\\ABC\\AppData\\Local\\Temp\\ipykernel_12960\\910821214.py:57: FutureWarning: The current default of copy=False will change to copy=True in 1.7. Set the value of copy explicitly to avoid this warning\n",
      "  if cropped_epoch.get_data().shape[-1] > 1:\n",
      "C:\\Users\\ABC\\AppData\\Local\\Temp\\ipykernel_12960\\910821214.py:56: RuntimeWarning: tmax is not in time interval. tmax is set to <class 'mne.epochs.Epochs'>.tmax (4 s)\n",
      "  cropped_epoch = epoch.copy().crop(tmin=start, tmax=end)\n",
      "C:\\Users\\ABC\\AppData\\Local\\Temp\\ipykernel_12960\\910821214.py:57: FutureWarning: The current default of copy=False will change to copy=True in 1.7. Set the value of copy explicitly to avoid this warning\n",
      "  if cropped_epoch.get_data().shape[-1] > 1:\n",
      "C:\\Users\\ABC\\AppData\\Local\\Temp\\ipykernel_12960\\910821214.py:56: RuntimeWarning: tmax is not in time interval. tmax is set to <class 'mne.epochs.Epochs'>.tmax (4 s)\n",
      "  cropped_epoch = epoch.copy().crop(tmin=start, tmax=end)\n",
      "C:\\Users\\ABC\\AppData\\Local\\Temp\\ipykernel_12960\\910821214.py:57: FutureWarning: The current default of copy=False will change to copy=True in 1.7. Set the value of copy explicitly to avoid this warning\n",
      "  if cropped_epoch.get_data().shape[-1] > 1:\n"
     ]
    },
    {
     "name": "stdout",
     "output_type": "stream",
     "text": [
      "Computing rank from data with rank=None\n",
      "    Using tolerance 3.3e-12 (2.2e-16 eps * 22 dim * 6.7e+02  max singular value)\n",
      "    Estimated rank (eeg): 22\n",
      "    EEG: rank 22 computed from 22 data channels with 0 projectors\n",
      "Reducing data rank from 22 -> 22\n",
      "Estimating covariance using EMPIRICAL\n",
      "Done.\n",
      "Number of samples used : 501\n",
      "[done]\n"
     ]
    },
    {
     "name": "stderr",
     "output_type": "stream",
     "text": [
      "C:\\Users\\ABC\\AppData\\Local\\Temp\\ipykernel_12960\\910821214.py:56: RuntimeWarning: tmax is not in time interval. tmax is set to <class 'mne.epochs.Epochs'>.tmax (4 s)\n",
      "  cropped_epoch = epoch.copy().crop(tmin=start, tmax=end)\n",
      "C:\\Users\\ABC\\AppData\\Local\\Temp\\ipykernel_12960\\910821214.py:57: FutureWarning: The current default of copy=False will change to copy=True in 1.7. Set the value of copy explicitly to avoid this warning\n",
      "  if cropped_epoch.get_data().shape[-1] > 1:\n",
      "C:\\Users\\ABC\\AppData\\Local\\Temp\\ipykernel_12960\\910821214.py:50: RuntimeWarning: Epochs are not baseline corrected, covariance matrix may be inaccurate\n",
      "  cov_segment = mne.compute_covariance(cropped_epoch, method='empirical')\n",
      "C:\\Users\\ABC\\AppData\\Local\\Temp\\ipykernel_12960\\910821214.py:57: FutureWarning: The current default of copy=False will change to copy=True in 1.7. Set the value of copy explicitly to avoid this warning\n",
      "  if cropped_epoch.get_data().shape[-1] > 1:\n",
      "C:\\Users\\ABC\\AppData\\Local\\Temp\\ipykernel_12960\\910821214.py:57: FutureWarning: The current default of copy=False will change to copy=True in 1.7. Set the value of copy explicitly to avoid this warning\n",
      "  if cropped_epoch.get_data().shape[-1] > 1:\n",
      "C:\\Users\\ABC\\AppData\\Local\\Temp\\ipykernel_12960\\910821214.py:57: FutureWarning: The current default of copy=False will change to copy=True in 1.7. Set the value of copy explicitly to avoid this warning\n",
      "  if cropped_epoch.get_data().shape[-1] > 1:\n",
      "C:\\Users\\ABC\\AppData\\Local\\Temp\\ipykernel_12960\\910821214.py:57: FutureWarning: The current default of copy=False will change to copy=True in 1.7. Set the value of copy explicitly to avoid this warning\n",
      "  if cropped_epoch.get_data().shape[-1] > 1:\n",
      "C:\\Users\\ABC\\AppData\\Local\\Temp\\ipykernel_12960\\910821214.py:56: RuntimeWarning: tmax is not in time interval. tmax is set to <class 'mne.epochs.Epochs'>.tmax (4 s)\n",
      "  cropped_epoch = epoch.copy().crop(tmin=start, tmax=end)\n",
      "C:\\Users\\ABC\\AppData\\Local\\Temp\\ipykernel_12960\\910821214.py:57: FutureWarning: The current default of copy=False will change to copy=True in 1.7. Set the value of copy explicitly to avoid this warning\n",
      "  if cropped_epoch.get_data().shape[-1] > 1:\n",
      "C:\\Users\\ABC\\AppData\\Local\\Temp\\ipykernel_12960\\910821214.py:56: RuntimeWarning: tmax is not in time interval. tmax is set to <class 'mne.epochs.Epochs'>.tmax (4 s)\n",
      "  cropped_epoch = epoch.copy().crop(tmin=start, tmax=end)\n",
      "C:\\Users\\ABC\\AppData\\Local\\Temp\\ipykernel_12960\\910821214.py:57: FutureWarning: The current default of copy=False will change to copy=True in 1.7. Set the value of copy explicitly to avoid this warning\n",
      "  if cropped_epoch.get_data().shape[-1] > 1:\n"
     ]
    },
    {
     "name": "stdout",
     "output_type": "stream",
     "text": [
      "Computing rank from data with rank=None\n",
      "    Using tolerance 4.9e-12 (2.2e-16 eps * 22 dim * 1e+03  max singular value)\n",
      "    Estimated rank (eeg): 22\n",
      "    EEG: rank 22 computed from 22 data channels with 0 projectors\n",
      "Reducing data rank from 22 -> 22\n",
      "Estimating covariance using EMPIRICAL\n",
      "Done.\n",
      "Number of samples used : 501\n",
      "[done]\n"
     ]
    },
    {
     "name": "stderr",
     "output_type": "stream",
     "text": [
      "C:\\Users\\ABC\\AppData\\Local\\Temp\\ipykernel_12960\\910821214.py:56: RuntimeWarning: tmax is not in time interval. tmax is set to <class 'mne.epochs.Epochs'>.tmax (4 s)\n",
      "  cropped_epoch = epoch.copy().crop(tmin=start, tmax=end)\n",
      "C:\\Users\\ABC\\AppData\\Local\\Temp\\ipykernel_12960\\910821214.py:57: FutureWarning: The current default of copy=False will change to copy=True in 1.7. Set the value of copy explicitly to avoid this warning\n",
      "  if cropped_epoch.get_data().shape[-1] > 1:\n",
      "C:\\Users\\ABC\\AppData\\Local\\Temp\\ipykernel_12960\\910821214.py:50: RuntimeWarning: Epochs are not baseline corrected, covariance matrix may be inaccurate\n",
      "  cov_segment = mne.compute_covariance(cropped_epoch, method='empirical')\n",
      "C:\\Users\\ABC\\AppData\\Local\\Temp\\ipykernel_12960\\910821214.py:57: FutureWarning: The current default of copy=False will change to copy=True in 1.7. Set the value of copy explicitly to avoid this warning\n",
      "  if cropped_epoch.get_data().shape[-1] > 1:\n",
      "C:\\Users\\ABC\\AppData\\Local\\Temp\\ipykernel_12960\\910821214.py:57: FutureWarning: The current default of copy=False will change to copy=True in 1.7. Set the value of copy explicitly to avoid this warning\n",
      "  if cropped_epoch.get_data().shape[-1] > 1:\n",
      "C:\\Users\\ABC\\AppData\\Local\\Temp\\ipykernel_12960\\910821214.py:57: FutureWarning: The current default of copy=False will change to copy=True in 1.7. Set the value of copy explicitly to avoid this warning\n",
      "  if cropped_epoch.get_data().shape[-1] > 1:\n",
      "C:\\Users\\ABC\\AppData\\Local\\Temp\\ipykernel_12960\\910821214.py:57: FutureWarning: The current default of copy=False will change to copy=True in 1.7. Set the value of copy explicitly to avoid this warning\n",
      "  if cropped_epoch.get_data().shape[-1] > 1:\n",
      "C:\\Users\\ABC\\AppData\\Local\\Temp\\ipykernel_12960\\910821214.py:56: RuntimeWarning: tmax is not in time interval. tmax is set to <class 'mne.epochs.Epochs'>.tmax (4 s)\n",
      "  cropped_epoch = epoch.copy().crop(tmin=start, tmax=end)\n",
      "C:\\Users\\ABC\\AppData\\Local\\Temp\\ipykernel_12960\\910821214.py:57: FutureWarning: The current default of copy=False will change to copy=True in 1.7. Set the value of copy explicitly to avoid this warning\n",
      "  if cropped_epoch.get_data().shape[-1] > 1:\n",
      "C:\\Users\\ABC\\AppData\\Local\\Temp\\ipykernel_12960\\910821214.py:56: RuntimeWarning: tmax is not in time interval. tmax is set to <class 'mne.epochs.Epochs'>.tmax (4 s)\n",
      "  cropped_epoch = epoch.copy().crop(tmin=start, tmax=end)\n",
      "C:\\Users\\ABC\\AppData\\Local\\Temp\\ipykernel_12960\\910821214.py:57: FutureWarning: The current default of copy=False will change to copy=True in 1.7. Set the value of copy explicitly to avoid this warning\n",
      "  if cropped_epoch.get_data().shape[-1] > 1:\n"
     ]
    },
    {
     "name": "stdout",
     "output_type": "stream",
     "text": [
      "Computing rank from data with rank=None\n",
      "    Using tolerance 4.5e-12 (2.2e-16 eps * 22 dim * 9.3e+02  max singular value)\n",
      "    Estimated rank (eeg): 22\n",
      "    EEG: rank 22 computed from 22 data channels with 0 projectors\n",
      "Reducing data rank from 22 -> 22\n",
      "Estimating covariance using EMPIRICAL\n",
      "Done.\n",
      "Number of samples used : 501\n",
      "[done]\n"
     ]
    },
    {
     "name": "stderr",
     "output_type": "stream",
     "text": [
      "C:\\Users\\ABC\\AppData\\Local\\Temp\\ipykernel_12960\\910821214.py:56: RuntimeWarning: tmax is not in time interval. tmax is set to <class 'mne.epochs.Epochs'>.tmax (4 s)\n",
      "  cropped_epoch = epoch.copy().crop(tmin=start, tmax=end)\n",
      "C:\\Users\\ABC\\AppData\\Local\\Temp\\ipykernel_12960\\910821214.py:57: FutureWarning: The current default of copy=False will change to copy=True in 1.7. Set the value of copy explicitly to avoid this warning\n",
      "  if cropped_epoch.get_data().shape[-1] > 1:\n",
      "C:\\Users\\ABC\\AppData\\Local\\Temp\\ipykernel_12960\\910821214.py:50: RuntimeWarning: Epochs are not baseline corrected, covariance matrix may be inaccurate\n",
      "  cov_segment = mne.compute_covariance(cropped_epoch, method='empirical')\n",
      "C:\\Users\\ABC\\AppData\\Local\\Temp\\ipykernel_12960\\910821214.py:57: FutureWarning: The current default of copy=False will change to copy=True in 1.7. Set the value of copy explicitly to avoid this warning\n",
      "  if cropped_epoch.get_data().shape[-1] > 1:\n",
      "C:\\Users\\ABC\\AppData\\Local\\Temp\\ipykernel_12960\\910821214.py:57: FutureWarning: The current default of copy=False will change to copy=True in 1.7. Set the value of copy explicitly to avoid this warning\n",
      "  if cropped_epoch.get_data().shape[-1] > 1:\n",
      "C:\\Users\\ABC\\AppData\\Local\\Temp\\ipykernel_12960\\910821214.py:57: FutureWarning: The current default of copy=False will change to copy=True in 1.7. Set the value of copy explicitly to avoid this warning\n",
      "  if cropped_epoch.get_data().shape[-1] > 1:\n",
      "C:\\Users\\ABC\\AppData\\Local\\Temp\\ipykernel_12960\\910821214.py:57: FutureWarning: The current default of copy=False will change to copy=True in 1.7. Set the value of copy explicitly to avoid this warning\n",
      "  if cropped_epoch.get_data().shape[-1] > 1:\n",
      "C:\\Users\\ABC\\AppData\\Local\\Temp\\ipykernel_12960\\910821214.py:56: RuntimeWarning: tmax is not in time interval. tmax is set to <class 'mne.epochs.Epochs'>.tmax (4 s)\n",
      "  cropped_epoch = epoch.copy().crop(tmin=start, tmax=end)\n",
      "C:\\Users\\ABC\\AppData\\Local\\Temp\\ipykernel_12960\\910821214.py:57: FutureWarning: The current default of copy=False will change to copy=True in 1.7. Set the value of copy explicitly to avoid this warning\n",
      "  if cropped_epoch.get_data().shape[-1] > 1:\n",
      "C:\\Users\\ABC\\AppData\\Local\\Temp\\ipykernel_12960\\910821214.py:56: RuntimeWarning: tmax is not in time interval. tmax is set to <class 'mne.epochs.Epochs'>.tmax (4 s)\n",
      "  cropped_epoch = epoch.copy().crop(tmin=start, tmax=end)\n",
      "C:\\Users\\ABC\\AppData\\Local\\Temp\\ipykernel_12960\\910821214.py:57: FutureWarning: The current default of copy=False will change to copy=True in 1.7. Set the value of copy explicitly to avoid this warning\n",
      "  if cropped_epoch.get_data().shape[-1] > 1:\n"
     ]
    },
    {
     "name": "stdout",
     "output_type": "stream",
     "text": [
      "Computing rank from data with rank=None\n",
      "    Using tolerance 5.6e-12 (2.2e-16 eps * 22 dim * 1.1e+03  max singular value)\n",
      "    Estimated rank (eeg): 22\n",
      "    EEG: rank 22 computed from 22 data channels with 0 projectors\n",
      "Reducing data rank from 22 -> 22\n",
      "Estimating covariance using EMPIRICAL\n",
      "Done.\n",
      "Number of samples used : 501\n",
      "[done]\n"
     ]
    },
    {
     "name": "stderr",
     "output_type": "stream",
     "text": [
      "C:\\Users\\ABC\\AppData\\Local\\Temp\\ipykernel_12960\\910821214.py:56: RuntimeWarning: tmax is not in time interval. tmax is set to <class 'mne.epochs.Epochs'>.tmax (4 s)\n",
      "  cropped_epoch = epoch.copy().crop(tmin=start, tmax=end)\n",
      "C:\\Users\\ABC\\AppData\\Local\\Temp\\ipykernel_12960\\910821214.py:57: FutureWarning: The current default of copy=False will change to copy=True in 1.7. Set the value of copy explicitly to avoid this warning\n",
      "  if cropped_epoch.get_data().shape[-1] > 1:\n",
      "C:\\Users\\ABC\\AppData\\Local\\Temp\\ipykernel_12960\\910821214.py:50: RuntimeWarning: Epochs are not baseline corrected, covariance matrix may be inaccurate\n",
      "  cov_segment = mne.compute_covariance(cropped_epoch, method='empirical')\n",
      "C:\\Users\\ABC\\AppData\\Local\\Temp\\ipykernel_12960\\910821214.py:57: FutureWarning: The current default of copy=False will change to copy=True in 1.7. Set the value of copy explicitly to avoid this warning\n",
      "  if cropped_epoch.get_data().shape[-1] > 1:\n",
      "C:\\Users\\ABC\\AppData\\Local\\Temp\\ipykernel_12960\\910821214.py:57: FutureWarning: The current default of copy=False will change to copy=True in 1.7. Set the value of copy explicitly to avoid this warning\n",
      "  if cropped_epoch.get_data().shape[-1] > 1:\n",
      "C:\\Users\\ABC\\AppData\\Local\\Temp\\ipykernel_12960\\910821214.py:57: FutureWarning: The current default of copy=False will change to copy=True in 1.7. Set the value of copy explicitly to avoid this warning\n",
      "  if cropped_epoch.get_data().shape[-1] > 1:\n",
      "C:\\Users\\ABC\\AppData\\Local\\Temp\\ipykernel_12960\\910821214.py:57: FutureWarning: The current default of copy=False will change to copy=True in 1.7. Set the value of copy explicitly to avoid this warning\n",
      "  if cropped_epoch.get_data().shape[-1] > 1:\n",
      "C:\\Users\\ABC\\AppData\\Local\\Temp\\ipykernel_12960\\910821214.py:56: RuntimeWarning: tmax is not in time interval. tmax is set to <class 'mne.epochs.Epochs'>.tmax (4 s)\n",
      "  cropped_epoch = epoch.copy().crop(tmin=start, tmax=end)\n",
      "C:\\Users\\ABC\\AppData\\Local\\Temp\\ipykernel_12960\\910821214.py:57: FutureWarning: The current default of copy=False will change to copy=True in 1.7. Set the value of copy explicitly to avoid this warning\n",
      "  if cropped_epoch.get_data().shape[-1] > 1:\n",
      "C:\\Users\\ABC\\AppData\\Local\\Temp\\ipykernel_12960\\910821214.py:56: RuntimeWarning: tmax is not in time interval. tmax is set to <class 'mne.epochs.Epochs'>.tmax (4 s)\n",
      "  cropped_epoch = epoch.copy().crop(tmin=start, tmax=end)\n",
      "C:\\Users\\ABC\\AppData\\Local\\Temp\\ipykernel_12960\\910821214.py:57: FutureWarning: The current default of copy=False will change to copy=True in 1.7. Set the value of copy explicitly to avoid this warning\n",
      "  if cropped_epoch.get_data().shape[-1] > 1:\n"
     ]
    },
    {
     "name": "stdout",
     "output_type": "stream",
     "text": [
      "Computing rank from data with rank=None\n",
      "    Using tolerance 5.7e-12 (2.2e-16 eps * 22 dim * 1.2e+03  max singular value)\n",
      "    Estimated rank (eeg): 22\n",
      "    EEG: rank 22 computed from 22 data channels with 0 projectors\n",
      "Reducing data rank from 22 -> 22\n",
      "Estimating covariance using EMPIRICAL\n",
      "Done.\n",
      "Number of samples used : 501\n",
      "[done]\n"
     ]
    },
    {
     "name": "stderr",
     "output_type": "stream",
     "text": [
      "C:\\Users\\ABC\\AppData\\Local\\Temp\\ipykernel_12960\\910821214.py:56: RuntimeWarning: tmax is not in time interval. tmax is set to <class 'mne.epochs.Epochs'>.tmax (4 s)\n",
      "  cropped_epoch = epoch.copy().crop(tmin=start, tmax=end)\n",
      "C:\\Users\\ABC\\AppData\\Local\\Temp\\ipykernel_12960\\910821214.py:57: FutureWarning: The current default of copy=False will change to copy=True in 1.7. Set the value of copy explicitly to avoid this warning\n",
      "  if cropped_epoch.get_data().shape[-1] > 1:\n",
      "C:\\Users\\ABC\\AppData\\Local\\Temp\\ipykernel_12960\\910821214.py:50: RuntimeWarning: Epochs are not baseline corrected, covariance matrix may be inaccurate\n",
      "  cov_segment = mne.compute_covariance(cropped_epoch, method='empirical')\n",
      "C:\\Users\\ABC\\AppData\\Local\\Temp\\ipykernel_12960\\910821214.py:57: FutureWarning: The current default of copy=False will change to copy=True in 1.7. Set the value of copy explicitly to avoid this warning\n",
      "  if cropped_epoch.get_data().shape[-1] > 1:\n",
      "C:\\Users\\ABC\\AppData\\Local\\Temp\\ipykernel_12960\\910821214.py:57: FutureWarning: The current default of copy=False will change to copy=True in 1.7. Set the value of copy explicitly to avoid this warning\n",
      "  if cropped_epoch.get_data().shape[-1] > 1:\n",
      "C:\\Users\\ABC\\AppData\\Local\\Temp\\ipykernel_12960\\910821214.py:57: FutureWarning: The current default of copy=False will change to copy=True in 1.7. Set the value of copy explicitly to avoid this warning\n",
      "  if cropped_epoch.get_data().shape[-1] > 1:\n",
      "C:\\Users\\ABC\\AppData\\Local\\Temp\\ipykernel_12960\\910821214.py:57: FutureWarning: The current default of copy=False will change to copy=True in 1.7. Set the value of copy explicitly to avoid this warning\n",
      "  if cropped_epoch.get_data().shape[-1] > 1:\n",
      "C:\\Users\\ABC\\AppData\\Local\\Temp\\ipykernel_12960\\910821214.py:56: RuntimeWarning: tmax is not in time interval. tmax is set to <class 'mne.epochs.Epochs'>.tmax (4 s)\n",
      "  cropped_epoch = epoch.copy().crop(tmin=start, tmax=end)\n",
      "C:\\Users\\ABC\\AppData\\Local\\Temp\\ipykernel_12960\\910821214.py:57: FutureWarning: The current default of copy=False will change to copy=True in 1.7. Set the value of copy explicitly to avoid this warning\n",
      "  if cropped_epoch.get_data().shape[-1] > 1:\n"
     ]
    },
    {
     "name": "stdout",
     "output_type": "stream",
     "text": [
      "Computing rank from data with rank=None\n",
      "    Using tolerance 4.2e-12 (2.2e-16 eps * 22 dim * 8.5e+02  max singular value)\n",
      "    Estimated rank (eeg): 22\n",
      "    EEG: rank 22 computed from 22 data channels with 0 projectors\n",
      "Reducing data rank from 22 -> 22\n",
      "Estimating covariance using EMPIRICAL\n",
      "Done.\n",
      "Number of samples used : 501\n",
      "[done]\n"
     ]
    },
    {
     "name": "stderr",
     "output_type": "stream",
     "text": [
      "C:\\Users\\ABC\\AppData\\Local\\Temp\\ipykernel_12960\\910821214.py:56: RuntimeWarning: tmax is not in time interval. tmax is set to <class 'mne.epochs.Epochs'>.tmax (4 s)\n",
      "  cropped_epoch = epoch.copy().crop(tmin=start, tmax=end)\n",
      "C:\\Users\\ABC\\AppData\\Local\\Temp\\ipykernel_12960\\910821214.py:57: FutureWarning: The current default of copy=False will change to copy=True in 1.7. Set the value of copy explicitly to avoid this warning\n",
      "  if cropped_epoch.get_data().shape[-1] > 1:\n",
      "C:\\Users\\ABC\\AppData\\Local\\Temp\\ipykernel_12960\\910821214.py:56: RuntimeWarning: tmax is not in time interval. tmax is set to <class 'mne.epochs.Epochs'>.tmax (4 s)\n",
      "  cropped_epoch = epoch.copy().crop(tmin=start, tmax=end)\n",
      "C:\\Users\\ABC\\AppData\\Local\\Temp\\ipykernel_12960\\910821214.py:57: FutureWarning: The current default of copy=False will change to copy=True in 1.7. Set the value of copy explicitly to avoid this warning\n",
      "  if cropped_epoch.get_data().shape[-1] > 1:\n",
      "C:\\Users\\ABC\\AppData\\Local\\Temp\\ipykernel_12960\\910821214.py:50: RuntimeWarning: Epochs are not baseline corrected, covariance matrix may be inaccurate\n",
      "  cov_segment = mne.compute_covariance(cropped_epoch, method='empirical')\n",
      "C:\\Users\\ABC\\AppData\\Local\\Temp\\ipykernel_12960\\910821214.py:57: FutureWarning: The current default of copy=False will change to copy=True in 1.7. Set the value of copy explicitly to avoid this warning\n",
      "  if cropped_epoch.get_data().shape[-1] > 1:\n",
      "C:\\Users\\ABC\\AppData\\Local\\Temp\\ipykernel_12960\\910821214.py:57: FutureWarning: The current default of copy=False will change to copy=True in 1.7. Set the value of copy explicitly to avoid this warning\n",
      "  if cropped_epoch.get_data().shape[-1] > 1:\n",
      "C:\\Users\\ABC\\AppData\\Local\\Temp\\ipykernel_12960\\910821214.py:57: FutureWarning: The current default of copy=False will change to copy=True in 1.7. Set the value of copy explicitly to avoid this warning\n",
      "  if cropped_epoch.get_data().shape[-1] > 1:\n",
      "C:\\Users\\ABC\\AppData\\Local\\Temp\\ipykernel_12960\\910821214.py:57: FutureWarning: The current default of copy=False will change to copy=True in 1.7. Set the value of copy explicitly to avoid this warning\n",
      "  if cropped_epoch.get_data().shape[-1] > 1:\n",
      "C:\\Users\\ABC\\AppData\\Local\\Temp\\ipykernel_12960\\910821214.py:56: RuntimeWarning: tmax is not in time interval. tmax is set to <class 'mne.epochs.Epochs'>.tmax (4 s)\n",
      "  cropped_epoch = epoch.copy().crop(tmin=start, tmax=end)\n",
      "C:\\Users\\ABC\\AppData\\Local\\Temp\\ipykernel_12960\\910821214.py:57: FutureWarning: The current default of copy=False will change to copy=True in 1.7. Set the value of copy explicitly to avoid this warning\n",
      "  if cropped_epoch.get_data().shape[-1] > 1:\n",
      "C:\\Users\\ABC\\AppData\\Local\\Temp\\ipykernel_12960\\910821214.py:56: RuntimeWarning: tmax is not in time interval. tmax is set to <class 'mne.epochs.Epochs'>.tmax (4 s)\n",
      "  cropped_epoch = epoch.copy().crop(tmin=start, tmax=end)\n",
      "C:\\Users\\ABC\\AppData\\Local\\Temp\\ipykernel_12960\\910821214.py:57: FutureWarning: The current default of copy=False will change to copy=True in 1.7. Set the value of copy explicitly to avoid this warning\n",
      "  if cropped_epoch.get_data().shape[-1] > 1:\n"
     ]
    },
    {
     "name": "stdout",
     "output_type": "stream",
     "text": [
      "Computing rank from data with rank=None\n",
      "    Using tolerance 4.5e-12 (2.2e-16 eps * 22 dim * 9.2e+02  max singular value)\n",
      "    Estimated rank (eeg): 22\n",
      "    EEG: rank 22 computed from 22 data channels with 0 projectors\n",
      "Reducing data rank from 22 -> 22\n",
      "Estimating covariance using EMPIRICAL\n",
      "Done.\n",
      "Number of samples used : 501\n",
      "[done]\n"
     ]
    },
    {
     "name": "stderr",
     "output_type": "stream",
     "text": [
      "C:\\Users\\ABC\\AppData\\Local\\Temp\\ipykernel_12960\\910821214.py:56: RuntimeWarning: tmax is not in time interval. tmax is set to <class 'mne.epochs.Epochs'>.tmax (4 s)\n",
      "  cropped_epoch = epoch.copy().crop(tmin=start, tmax=end)\n",
      "C:\\Users\\ABC\\AppData\\Local\\Temp\\ipykernel_12960\\910821214.py:57: FutureWarning: The current default of copy=False will change to copy=True in 1.7. Set the value of copy explicitly to avoid this warning\n",
      "  if cropped_epoch.get_data().shape[-1] > 1:\n",
      "C:\\Users\\ABC\\AppData\\Local\\Temp\\ipykernel_12960\\910821214.py:50: RuntimeWarning: Epochs are not baseline corrected, covariance matrix may be inaccurate\n",
      "  cov_segment = mne.compute_covariance(cropped_epoch, method='empirical')\n",
      "C:\\Users\\ABC\\AppData\\Local\\Temp\\ipykernel_12960\\910821214.py:57: FutureWarning: The current default of copy=False will change to copy=True in 1.7. Set the value of copy explicitly to avoid this warning\n",
      "  if cropped_epoch.get_data().shape[-1] > 1:\n",
      "C:\\Users\\ABC\\AppData\\Local\\Temp\\ipykernel_12960\\910821214.py:57: FutureWarning: The current default of copy=False will change to copy=True in 1.7. Set the value of copy explicitly to avoid this warning\n",
      "  if cropped_epoch.get_data().shape[-1] > 1:\n",
      "C:\\Users\\ABC\\AppData\\Local\\Temp\\ipykernel_12960\\910821214.py:57: FutureWarning: The current default of copy=False will change to copy=True in 1.7. Set the value of copy explicitly to avoid this warning\n",
      "  if cropped_epoch.get_data().shape[-1] > 1:\n",
      "C:\\Users\\ABC\\AppData\\Local\\Temp\\ipykernel_12960\\910821214.py:57: FutureWarning: The current default of copy=False will change to copy=True in 1.7. Set the value of copy explicitly to avoid this warning\n",
      "  if cropped_epoch.get_data().shape[-1] > 1:\n",
      "C:\\Users\\ABC\\AppData\\Local\\Temp\\ipykernel_12960\\910821214.py:56: RuntimeWarning: tmax is not in time interval. tmax is set to <class 'mne.epochs.Epochs'>.tmax (4 s)\n",
      "  cropped_epoch = epoch.copy().crop(tmin=start, tmax=end)\n",
      "C:\\Users\\ABC\\AppData\\Local\\Temp\\ipykernel_12960\\910821214.py:57: FutureWarning: The current default of copy=False will change to copy=True in 1.7. Set the value of copy explicitly to avoid this warning\n",
      "  if cropped_epoch.get_data().shape[-1] > 1:\n"
     ]
    },
    {
     "name": "stdout",
     "output_type": "stream",
     "text": [
      "Computing rank from data with rank=None\n",
      "    Using tolerance 5.6e-12 (2.2e-16 eps * 22 dim * 1.1e+03  max singular value)\n",
      "    Estimated rank (eeg): 22\n"
     ]
    },
    {
     "name": "stderr",
     "output_type": "stream",
     "text": [
      "C:\\Users\\ABC\\AppData\\Local\\Temp\\ipykernel_12960\\910821214.py:56: RuntimeWarning: tmax is not in time interval. tmax is set to <class 'mne.epochs.Epochs'>.tmax (4 s)\n",
      "  cropped_epoch = epoch.copy().crop(tmin=start, tmax=end)\n",
      "C:\\Users\\ABC\\AppData\\Local\\Temp\\ipykernel_12960\\910821214.py:57: FutureWarning: The current default of copy=False will change to copy=True in 1.7. Set the value of copy explicitly to avoid this warning\n",
      "  if cropped_epoch.get_data().shape[-1] > 1:\n",
      "C:\\Users\\ABC\\AppData\\Local\\Temp\\ipykernel_12960\\910821214.py:56: RuntimeWarning: tmax is not in time interval. tmax is set to <class 'mne.epochs.Epochs'>.tmax (4 s)\n",
      "  cropped_epoch = epoch.copy().crop(tmin=start, tmax=end)\n",
      "C:\\Users\\ABC\\AppData\\Local\\Temp\\ipykernel_12960\\910821214.py:57: FutureWarning: The current default of copy=False will change to copy=True in 1.7. Set the value of copy explicitly to avoid this warning\n",
      "  if cropped_epoch.get_data().shape[-1] > 1:\n",
      "C:\\Users\\ABC\\AppData\\Local\\Temp\\ipykernel_12960\\910821214.py:50: RuntimeWarning: Epochs are not baseline corrected, covariance matrix may be inaccurate\n",
      "  cov_segment = mne.compute_covariance(cropped_epoch, method='empirical')\n"
     ]
    },
    {
     "name": "stdout",
     "output_type": "stream",
     "text": [
      "    EEG: rank 22 computed from 22 data channels with 0 projectors\n",
      "Reducing data rank from 22 -> 22\n",
      "Estimating covariance using EMPIRICAL\n",
      "Done.\n",
      "Number of samples used : 501\n",
      "[done]\n"
     ]
    },
    {
     "name": "stderr",
     "output_type": "stream",
     "text": [
      "C:\\Users\\ABC\\AppData\\Local\\Temp\\ipykernel_12960\\910821214.py:57: FutureWarning: The current default of copy=False will change to copy=True in 1.7. Set the value of copy explicitly to avoid this warning\n",
      "  if cropped_epoch.get_data().shape[-1] > 1:\n",
      "C:\\Users\\ABC\\AppData\\Local\\Temp\\ipykernel_12960\\910821214.py:57: FutureWarning: The current default of copy=False will change to copy=True in 1.7. Set the value of copy explicitly to avoid this warning\n",
      "  if cropped_epoch.get_data().shape[-1] > 1:\n",
      "C:\\Users\\ABC\\AppData\\Local\\Temp\\ipykernel_12960\\910821214.py:57: FutureWarning: The current default of copy=False will change to copy=True in 1.7. Set the value of copy explicitly to avoid this warning\n",
      "  if cropped_epoch.get_data().shape[-1] > 1:\n",
      "C:\\Users\\ABC\\AppData\\Local\\Temp\\ipykernel_12960\\910821214.py:57: FutureWarning: The current default of copy=False will change to copy=True in 1.7. Set the value of copy explicitly to avoid this warning\n",
      "  if cropped_epoch.get_data().shape[-1] > 1:\n",
      "C:\\Users\\ABC\\AppData\\Local\\Temp\\ipykernel_12960\\910821214.py:56: RuntimeWarning: tmax is not in time interval. tmax is set to <class 'mne.epochs.Epochs'>.tmax (4 s)\n",
      "  cropped_epoch = epoch.copy().crop(tmin=start, tmax=end)\n",
      "C:\\Users\\ABC\\AppData\\Local\\Temp\\ipykernel_12960\\910821214.py:57: FutureWarning: The current default of copy=False will change to copy=True in 1.7. Set the value of copy explicitly to avoid this warning\n",
      "  if cropped_epoch.get_data().shape[-1] > 1:\n",
      "C:\\Users\\ABC\\AppData\\Local\\Temp\\ipykernel_12960\\910821214.py:56: RuntimeWarning: tmax is not in time interval. tmax is set to <class 'mne.epochs.Epochs'>.tmax (4 s)\n",
      "  cropped_epoch = epoch.copy().crop(tmin=start, tmax=end)\n",
      "C:\\Users\\ABC\\AppData\\Local\\Temp\\ipykernel_12960\\910821214.py:57: FutureWarning: The current default of copy=False will change to copy=True in 1.7. Set the value of copy explicitly to avoid this warning\n",
      "  if cropped_epoch.get_data().shape[-1] > 1:\n",
      "C:\\Users\\ABC\\AppData\\Local\\Temp\\ipykernel_12960\\910821214.py:56: RuntimeWarning: tmax is not in time interval. tmax is set to <class 'mne.epochs.Epochs'>.tmax (4 s)\n",
      "  cropped_epoch = epoch.copy().crop(tmin=start, tmax=end)\n",
      "C:\\Users\\ABC\\AppData\\Local\\Temp\\ipykernel_12960\\910821214.py:57: FutureWarning: The current default of copy=False will change to copy=True in 1.7. Set the value of copy explicitly to avoid this warning\n",
      "  if cropped_epoch.get_data().shape[-1] > 1:\n"
     ]
    },
    {
     "name": "stdout",
     "output_type": "stream",
     "text": [
      "Computing rank from data with rank=None\n",
      "    Using tolerance 4.9e-12 (2.2e-16 eps * 22 dim * 1e+03  max singular value)\n",
      "    Estimated rank (eeg): 22\n",
      "    EEG: rank 22 computed from 22 data channels with 0 projectors\n",
      "Reducing data rank from 22 -> 22\n",
      "Estimating covariance using EMPIRICAL\n",
      "Done.\n",
      "Number of samples used : 501\n",
      "[done]\n"
     ]
    },
    {
     "name": "stderr",
     "output_type": "stream",
     "text": [
      "C:\\Users\\ABC\\AppData\\Local\\Temp\\ipykernel_12960\\910821214.py:50: RuntimeWarning: Epochs are not baseline corrected, covariance matrix may be inaccurate\n",
      "  cov_segment = mne.compute_covariance(cropped_epoch, method='empirical')\n",
      "C:\\Users\\ABC\\AppData\\Local\\Temp\\ipykernel_12960\\910821214.py:57: FutureWarning: The current default of copy=False will change to copy=True in 1.7. Set the value of copy explicitly to avoid this warning\n",
      "  if cropped_epoch.get_data().shape[-1] > 1:\n",
      "C:\\Users\\ABC\\AppData\\Local\\Temp\\ipykernel_12960\\910821214.py:57: FutureWarning: The current default of copy=False will change to copy=True in 1.7. Set the value of copy explicitly to avoid this warning\n",
      "  if cropped_epoch.get_data().shape[-1] > 1:\n",
      "C:\\Users\\ABC\\AppData\\Local\\Temp\\ipykernel_12960\\910821214.py:57: FutureWarning: The current default of copy=False will change to copy=True in 1.7. Set the value of copy explicitly to avoid this warning\n",
      "  if cropped_epoch.get_data().shape[-1] > 1:\n",
      "C:\\Users\\ABC\\AppData\\Local\\Temp\\ipykernel_12960\\910821214.py:57: FutureWarning: The current default of copy=False will change to copy=True in 1.7. Set the value of copy explicitly to avoid this warning\n",
      "  if cropped_epoch.get_data().shape[-1] > 1:\n",
      "C:\\Users\\ABC\\AppData\\Local\\Temp\\ipykernel_12960\\910821214.py:56: RuntimeWarning: tmax is not in time interval. tmax is set to <class 'mne.epochs.Epochs'>.tmax (4 s)\n",
      "  cropped_epoch = epoch.copy().crop(tmin=start, tmax=end)\n",
      "C:\\Users\\ABC\\AppData\\Local\\Temp\\ipykernel_12960\\910821214.py:57: FutureWarning: The current default of copy=False will change to copy=True in 1.7. Set the value of copy explicitly to avoid this warning\n",
      "  if cropped_epoch.get_data().shape[-1] > 1:\n",
      "C:\\Users\\ABC\\AppData\\Local\\Temp\\ipykernel_12960\\910821214.py:56: RuntimeWarning: tmax is not in time interval. tmax is set to <class 'mne.epochs.Epochs'>.tmax (4 s)\n",
      "  cropped_epoch = epoch.copy().crop(tmin=start, tmax=end)\n",
      "C:\\Users\\ABC\\AppData\\Local\\Temp\\ipykernel_12960\\910821214.py:57: FutureWarning: The current default of copy=False will change to copy=True in 1.7. Set the value of copy explicitly to avoid this warning\n",
      "  if cropped_epoch.get_data().shape[-1] > 1:\n",
      "C:\\Users\\ABC\\AppData\\Local\\Temp\\ipykernel_12960\\910821214.py:56: RuntimeWarning: tmax is not in time interval. tmax is set to <class 'mne.epochs.Epochs'>.tmax (4 s)\n",
      "  cropped_epoch = epoch.copy().crop(tmin=start, tmax=end)\n",
      "C:\\Users\\ABC\\AppData\\Local\\Temp\\ipykernel_12960\\910821214.py:57: FutureWarning: The current default of copy=False will change to copy=True in 1.7. Set the value of copy explicitly to avoid this warning\n",
      "  if cropped_epoch.get_data().shape[-1] > 1:\n"
     ]
    },
    {
     "name": "stdout",
     "output_type": "stream",
     "text": [
      "Computing rank from data with rank=None\n",
      "    Using tolerance 5.2e-12 (2.2e-16 eps * 22 dim * 1.1e+03  max singular value)\n",
      "    Estimated rank (eeg): 22\n",
      "    EEG: rank 22 computed from 22 data channels with 0 projectors\n",
      "Reducing data rank from 22 -> 22\n",
      "Estimating covariance using EMPIRICAL\n",
      "Done.\n",
      "Number of samples used : 501\n",
      "[done]\n"
     ]
    },
    {
     "name": "stderr",
     "output_type": "stream",
     "text": [
      "C:\\Users\\ABC\\AppData\\Local\\Temp\\ipykernel_12960\\910821214.py:50: RuntimeWarning: Epochs are not baseline corrected, covariance matrix may be inaccurate\n",
      "  cov_segment = mne.compute_covariance(cropped_epoch, method='empirical')\n",
      "C:\\Users\\ABC\\AppData\\Local\\Temp\\ipykernel_12960\\910821214.py:57: FutureWarning: The current default of copy=False will change to copy=True in 1.7. Set the value of copy explicitly to avoid this warning\n",
      "  if cropped_epoch.get_data().shape[-1] > 1:\n",
      "C:\\Users\\ABC\\AppData\\Local\\Temp\\ipykernel_12960\\910821214.py:57: FutureWarning: The current default of copy=False will change to copy=True in 1.7. Set the value of copy explicitly to avoid this warning\n",
      "  if cropped_epoch.get_data().shape[-1] > 1:\n",
      "C:\\Users\\ABC\\AppData\\Local\\Temp\\ipykernel_12960\\910821214.py:57: FutureWarning: The current default of copy=False will change to copy=True in 1.7. Set the value of copy explicitly to avoid this warning\n",
      "  if cropped_epoch.get_data().shape[-1] > 1:\n",
      "C:\\Users\\ABC\\AppData\\Local\\Temp\\ipykernel_12960\\910821214.py:57: FutureWarning: The current default of copy=False will change to copy=True in 1.7. Set the value of copy explicitly to avoid this warning\n",
      "  if cropped_epoch.get_data().shape[-1] > 1:\n"
     ]
    },
    {
     "name": "stdout",
     "output_type": "stream",
     "text": [
      "Computing rank from data with rank=None\n"
     ]
    },
    {
     "name": "stderr",
     "output_type": "stream",
     "text": [
      "C:\\Users\\ABC\\AppData\\Local\\Temp\\ipykernel_12960\\910821214.py:56: RuntimeWarning: tmax is not in time interval. tmax is set to <class 'mne.epochs.Epochs'>.tmax (4 s)\n",
      "  cropped_epoch = epoch.copy().crop(tmin=start, tmax=end)\n",
      "C:\\Users\\ABC\\AppData\\Local\\Temp\\ipykernel_12960\\910821214.py:57: FutureWarning: The current default of copy=False will change to copy=True in 1.7. Set the value of copy explicitly to avoid this warning\n",
      "  if cropped_epoch.get_data().shape[-1] > 1:\n",
      "C:\\Users\\ABC\\AppData\\Local\\Temp\\ipykernel_12960\\910821214.py:56: RuntimeWarning: tmax is not in time interval. tmax is set to <class 'mne.epochs.Epochs'>.tmax (4 s)\n",
      "  cropped_epoch = epoch.copy().crop(tmin=start, tmax=end)\n",
      "C:\\Users\\ABC\\AppData\\Local\\Temp\\ipykernel_12960\\910821214.py:57: FutureWarning: The current default of copy=False will change to copy=True in 1.7. Set the value of copy explicitly to avoid this warning\n",
      "  if cropped_epoch.get_data().shape[-1] > 1:\n",
      "C:\\Users\\ABC\\AppData\\Local\\Temp\\ipykernel_12960\\910821214.py:56: RuntimeWarning: tmax is not in time interval. tmax is set to <class 'mne.epochs.Epochs'>.tmax (4 s)\n",
      "  cropped_epoch = epoch.copy().crop(tmin=start, tmax=end)\n",
      "C:\\Users\\ABC\\AppData\\Local\\Temp\\ipykernel_12960\\910821214.py:57: FutureWarning: The current default of copy=False will change to copy=True in 1.7. Set the value of copy explicitly to avoid this warning\n",
      "  if cropped_epoch.get_data().shape[-1] > 1:\n",
      "C:\\Users\\ABC\\AppData\\Local\\Temp\\ipykernel_12960\\910821214.py:50: RuntimeWarning: Epochs are not baseline corrected, covariance matrix may be inaccurate\n",
      "  cov_segment = mne.compute_covariance(cropped_epoch, method='empirical')\n"
     ]
    },
    {
     "name": "stdout",
     "output_type": "stream",
     "text": [
      "    Using tolerance 5.5e-12 (2.2e-16 eps * 22 dim * 1.1e+03  max singular value)\n",
      "    Estimated rank (eeg): 22\n",
      "    EEG: rank 22 computed from 22 data channels with 0 projectors\n",
      "Reducing data rank from 22 -> 22\n",
      "Estimating covariance using EMPIRICAL\n",
      "Done.\n",
      "Number of samples used : 501\n",
      "[done]\n"
     ]
    },
    {
     "name": "stderr",
     "output_type": "stream",
     "text": [
      "C:\\Users\\ABC\\AppData\\Local\\Temp\\ipykernel_12960\\910821214.py:57: FutureWarning: The current default of copy=False will change to copy=True in 1.7. Set the value of copy explicitly to avoid this warning\n",
      "  if cropped_epoch.get_data().shape[-1] > 1:\n",
      "C:\\Users\\ABC\\AppData\\Local\\Temp\\ipykernel_12960\\910821214.py:57: FutureWarning: The current default of copy=False will change to copy=True in 1.7. Set the value of copy explicitly to avoid this warning\n",
      "  if cropped_epoch.get_data().shape[-1] > 1:\n",
      "C:\\Users\\ABC\\AppData\\Local\\Temp\\ipykernel_12960\\910821214.py:57: FutureWarning: The current default of copy=False will change to copy=True in 1.7. Set the value of copy explicitly to avoid this warning\n",
      "  if cropped_epoch.get_data().shape[-1] > 1:\n",
      "C:\\Users\\ABC\\AppData\\Local\\Temp\\ipykernel_12960\\910821214.py:57: FutureWarning: The current default of copy=False will change to copy=True in 1.7. Set the value of copy explicitly to avoid this warning\n",
      "  if cropped_epoch.get_data().shape[-1] > 1:\n",
      "C:\\Users\\ABC\\AppData\\Local\\Temp\\ipykernel_12960\\910821214.py:56: RuntimeWarning: tmax is not in time interval. tmax is set to <class 'mne.epochs.Epochs'>.tmax (4 s)\n",
      "  cropped_epoch = epoch.copy().crop(tmin=start, tmax=end)\n",
      "C:\\Users\\ABC\\AppData\\Local\\Temp\\ipykernel_12960\\910821214.py:57: FutureWarning: The current default of copy=False will change to copy=True in 1.7. Set the value of copy explicitly to avoid this warning\n",
      "  if cropped_epoch.get_data().shape[-1] > 1:\n",
      "C:\\Users\\ABC\\AppData\\Local\\Temp\\ipykernel_12960\\910821214.py:56: RuntimeWarning: tmax is not in time interval. tmax is set to <class 'mne.epochs.Epochs'>.tmax (4 s)\n",
      "  cropped_epoch = epoch.copy().crop(tmin=start, tmax=end)\n",
      "C:\\Users\\ABC\\AppData\\Local\\Temp\\ipykernel_12960\\910821214.py:57: FutureWarning: The current default of copy=False will change to copy=True in 1.7. Set the value of copy explicitly to avoid this warning\n",
      "  if cropped_epoch.get_data().shape[-1] > 1:\n",
      "C:\\Users\\ABC\\AppData\\Local\\Temp\\ipykernel_12960\\910821214.py:56: RuntimeWarning: tmax is not in time interval. tmax is set to <class 'mne.epochs.Epochs'>.tmax (4 s)\n",
      "  cropped_epoch = epoch.copy().crop(tmin=start, tmax=end)\n",
      "C:\\Users\\ABC\\AppData\\Local\\Temp\\ipykernel_12960\\910821214.py:57: FutureWarning: The current default of copy=False will change to copy=True in 1.7. Set the value of copy explicitly to avoid this warning\n",
      "  if cropped_epoch.get_data().shape[-1] > 1:\n"
     ]
    },
    {
     "name": "stdout",
     "output_type": "stream",
     "text": [
      "Computing rank from data with rank=None\n",
      "    Using tolerance 4.6e-12 (2.2e-16 eps * 22 dim * 9.4e+02  max singular value)\n",
      "    Estimated rank (eeg): 22\n",
      "    EEG: rank 22 computed from 22 data channels with 0 projectors\n",
      "Reducing data rank from 22 -> 22\n",
      "Estimating covariance using EMPIRICAL\n",
      "Done.\n",
      "Number of samples used : 501\n",
      "[done]\n"
     ]
    },
    {
     "name": "stderr",
     "output_type": "stream",
     "text": [
      "C:\\Users\\ABC\\AppData\\Local\\Temp\\ipykernel_12960\\910821214.py:50: RuntimeWarning: Epochs are not baseline corrected, covariance matrix may be inaccurate\n",
      "  cov_segment = mne.compute_covariance(cropped_epoch, method='empirical')\n",
      "C:\\Users\\ABC\\AppData\\Local\\Temp\\ipykernel_12960\\910821214.py:57: FutureWarning: The current default of copy=False will change to copy=True in 1.7. Set the value of copy explicitly to avoid this warning\n",
      "  if cropped_epoch.get_data().shape[-1] > 1:\n",
      "C:\\Users\\ABC\\AppData\\Local\\Temp\\ipykernel_12960\\910821214.py:57: FutureWarning: The current default of copy=False will change to copy=True in 1.7. Set the value of copy explicitly to avoid this warning\n",
      "  if cropped_epoch.get_data().shape[-1] > 1:\n",
      "C:\\Users\\ABC\\AppData\\Local\\Temp\\ipykernel_12960\\910821214.py:57: FutureWarning: The current default of copy=False will change to copy=True in 1.7. Set the value of copy explicitly to avoid this warning\n",
      "  if cropped_epoch.get_data().shape[-1] > 1:\n",
      "C:\\Users\\ABC\\AppData\\Local\\Temp\\ipykernel_12960\\910821214.py:57: FutureWarning: The current default of copy=False will change to copy=True in 1.7. Set the value of copy explicitly to avoid this warning\n",
      "  if cropped_epoch.get_data().shape[-1] > 1:\n",
      "C:\\Users\\ABC\\AppData\\Local\\Temp\\ipykernel_12960\\910821214.py:56: RuntimeWarning: tmax is not in time interval. tmax is set to <class 'mne.epochs.Epochs'>.tmax (4 s)\n",
      "  cropped_epoch = epoch.copy().crop(tmin=start, tmax=end)\n",
      "C:\\Users\\ABC\\AppData\\Local\\Temp\\ipykernel_12960\\910821214.py:57: FutureWarning: The current default of copy=False will change to copy=True in 1.7. Set the value of copy explicitly to avoid this warning\n",
      "  if cropped_epoch.get_data().shape[-1] > 1:\n",
      "C:\\Users\\ABC\\AppData\\Local\\Temp\\ipykernel_12960\\910821214.py:56: RuntimeWarning: tmax is not in time interval. tmax is set to <class 'mne.epochs.Epochs'>.tmax (4 s)\n",
      "  cropped_epoch = epoch.copy().crop(tmin=start, tmax=end)\n",
      "C:\\Users\\ABC\\AppData\\Local\\Temp\\ipykernel_12960\\910821214.py:57: FutureWarning: The current default of copy=False will change to copy=True in 1.7. Set the value of copy explicitly to avoid this warning\n",
      "  if cropped_epoch.get_data().shape[-1] > 1:\n",
      "C:\\Users\\ABC\\AppData\\Local\\Temp\\ipykernel_12960\\910821214.py:56: RuntimeWarning: tmax is not in time interval. tmax is set to <class 'mne.epochs.Epochs'>.tmax (4 s)\n",
      "  cropped_epoch = epoch.copy().crop(tmin=start, tmax=end)\n",
      "C:\\Users\\ABC\\AppData\\Local\\Temp\\ipykernel_12960\\910821214.py:57: FutureWarning: The current default of copy=False will change to copy=True in 1.7. Set the value of copy explicitly to avoid this warning\n",
      "  if cropped_epoch.get_data().shape[-1] > 1:\n"
     ]
    },
    {
     "name": "stdout",
     "output_type": "stream",
     "text": [
      "Computing rank from data with rank=None\n",
      "    Using tolerance 6.2e-12 (2.2e-16 eps * 22 dim * 1.3e+03  max singular value)\n",
      "    Estimated rank (eeg): 22\n",
      "    EEG: rank 22 computed from 22 data channels with 0 projectors\n",
      "Reducing data rank from 22 -> 22\n",
      "Estimating covariance using EMPIRICAL\n",
      "Done.\n",
      "Number of samples used : 501\n",
      "[done]\n"
     ]
    },
    {
     "name": "stderr",
     "output_type": "stream",
     "text": [
      "C:\\Users\\ABC\\AppData\\Local\\Temp\\ipykernel_12960\\910821214.py:50: RuntimeWarning: Epochs are not baseline corrected, covariance matrix may be inaccurate\n",
      "  cov_segment = mne.compute_covariance(cropped_epoch, method='empirical')\n",
      "C:\\Users\\ABC\\AppData\\Local\\Temp\\ipykernel_12960\\910821214.py:57: FutureWarning: The current default of copy=False will change to copy=True in 1.7. Set the value of copy explicitly to avoid this warning\n",
      "  if cropped_epoch.get_data().shape[-1] > 1:\n",
      "C:\\Users\\ABC\\AppData\\Local\\Temp\\ipykernel_12960\\910821214.py:57: FutureWarning: The current default of copy=False will change to copy=True in 1.7. Set the value of copy explicitly to avoid this warning\n",
      "  if cropped_epoch.get_data().shape[-1] > 1:\n",
      "C:\\Users\\ABC\\AppData\\Local\\Temp\\ipykernel_12960\\910821214.py:57: FutureWarning: The current default of copy=False will change to copy=True in 1.7. Set the value of copy explicitly to avoid this warning\n",
      "  if cropped_epoch.get_data().shape[-1] > 1:\n",
      "C:\\Users\\ABC\\AppData\\Local\\Temp\\ipykernel_12960\\910821214.py:57: FutureWarning: The current default of copy=False will change to copy=True in 1.7. Set the value of copy explicitly to avoid this warning\n",
      "  if cropped_epoch.get_data().shape[-1] > 1:\n",
      "C:\\Users\\ABC\\AppData\\Local\\Temp\\ipykernel_12960\\910821214.py:56: RuntimeWarning: tmax is not in time interval. tmax is set to <class 'mne.epochs.Epochs'>.tmax (4 s)\n",
      "  cropped_epoch = epoch.copy().crop(tmin=start, tmax=end)\n",
      "C:\\Users\\ABC\\AppData\\Local\\Temp\\ipykernel_12960\\910821214.py:57: FutureWarning: The current default of copy=False will change to copy=True in 1.7. Set the value of copy explicitly to avoid this warning\n",
      "  if cropped_epoch.get_data().shape[-1] > 1:\n",
      "C:\\Users\\ABC\\AppData\\Local\\Temp\\ipykernel_12960\\910821214.py:56: RuntimeWarning: tmax is not in time interval. tmax is set to <class 'mne.epochs.Epochs'>.tmax (4 s)\n",
      "  cropped_epoch = epoch.copy().crop(tmin=start, tmax=end)\n",
      "C:\\Users\\ABC\\AppData\\Local\\Temp\\ipykernel_12960\\910821214.py:57: FutureWarning: The current default of copy=False will change to copy=True in 1.7. Set the value of copy explicitly to avoid this warning\n",
      "  if cropped_epoch.get_data().shape[-1] > 1:\n"
     ]
    },
    {
     "name": "stdout",
     "output_type": "stream",
     "text": [
      "Computing rank from data with rank=None\n",
      "    Using tolerance 5e-12 (2.2e-16 eps * 22 dim * 1e+03  max singular value)\n",
      "    Estimated rank (eeg): 22\n",
      "    EEG: rank 22 computed from 22 data channels with 0 projectors\n",
      "Reducing data rank from 22 -> 22\n",
      "Estimating covariance using EMPIRICAL\n",
      "Done.\n",
      "Number of samples used : 501\n",
      "[done]\n"
     ]
    },
    {
     "name": "stderr",
     "output_type": "stream",
     "text": [
      "C:\\Users\\ABC\\AppData\\Local\\Temp\\ipykernel_12960\\910821214.py:56: RuntimeWarning: tmax is not in time interval. tmax is set to <class 'mne.epochs.Epochs'>.tmax (4 s)\n",
      "  cropped_epoch = epoch.copy().crop(tmin=start, tmax=end)\n",
      "C:\\Users\\ABC\\AppData\\Local\\Temp\\ipykernel_12960\\910821214.py:57: FutureWarning: The current default of copy=False will change to copy=True in 1.7. Set the value of copy explicitly to avoid this warning\n",
      "  if cropped_epoch.get_data().shape[-1] > 1:\n",
      "C:\\Users\\ABC\\AppData\\Local\\Temp\\ipykernel_12960\\910821214.py:50: RuntimeWarning: Epochs are not baseline corrected, covariance matrix may be inaccurate\n",
      "  cov_segment = mne.compute_covariance(cropped_epoch, method='empirical')\n",
      "C:\\Users\\ABC\\AppData\\Local\\Temp\\ipykernel_12960\\910821214.py:57: FutureWarning: The current default of copy=False will change to copy=True in 1.7. Set the value of copy explicitly to avoid this warning\n",
      "  if cropped_epoch.get_data().shape[-1] > 1:\n",
      "C:\\Users\\ABC\\AppData\\Local\\Temp\\ipykernel_12960\\910821214.py:57: FutureWarning: The current default of copy=False will change to copy=True in 1.7. Set the value of copy explicitly to avoid this warning\n",
      "  if cropped_epoch.get_data().shape[-1] > 1:\n",
      "C:\\Users\\ABC\\AppData\\Local\\Temp\\ipykernel_12960\\910821214.py:57: FutureWarning: The current default of copy=False will change to copy=True in 1.7. Set the value of copy explicitly to avoid this warning\n",
      "  if cropped_epoch.get_data().shape[-1] > 1:\n",
      "C:\\Users\\ABC\\AppData\\Local\\Temp\\ipykernel_12960\\910821214.py:57: FutureWarning: The current default of copy=False will change to copy=True in 1.7. Set the value of copy explicitly to avoid this warning\n",
      "  if cropped_epoch.get_data().shape[-1] > 1:\n",
      "C:\\Users\\ABC\\AppData\\Local\\Temp\\ipykernel_12960\\910821214.py:56: RuntimeWarning: tmax is not in time interval. tmax is set to <class 'mne.epochs.Epochs'>.tmax (4 s)\n",
      "  cropped_epoch = epoch.copy().crop(tmin=start, tmax=end)\n",
      "C:\\Users\\ABC\\AppData\\Local\\Temp\\ipykernel_12960\\910821214.py:57: FutureWarning: The current default of copy=False will change to copy=True in 1.7. Set the value of copy explicitly to avoid this warning\n",
      "  if cropped_epoch.get_data().shape[-1] > 1:\n",
      "C:\\Users\\ABC\\AppData\\Local\\Temp\\ipykernel_12960\\910821214.py:56: RuntimeWarning: tmax is not in time interval. tmax is set to <class 'mne.epochs.Epochs'>.tmax (4 s)\n",
      "  cropped_epoch = epoch.copy().crop(tmin=start, tmax=end)\n",
      "C:\\Users\\ABC\\AppData\\Local\\Temp\\ipykernel_12960\\910821214.py:57: FutureWarning: The current default of copy=False will change to copy=True in 1.7. Set the value of copy explicitly to avoid this warning\n",
      "  if cropped_epoch.get_data().shape[-1] > 1:\n"
     ]
    },
    {
     "name": "stdout",
     "output_type": "stream",
     "text": [
      "Computing rank from data with rank=None\n",
      "    Using tolerance 5.3e-12 (2.2e-16 eps * 22 dim * 1.1e+03  max singular value)\n",
      "    Estimated rank (eeg): 22\n",
      "    EEG: rank 22 computed from 22 data channels with 0 projectors\n",
      "Reducing data rank from 22 -> 22\n",
      "Estimating covariance using EMPIRICAL\n",
      "Done.\n",
      "Number of samples used : 501\n",
      "[done]\n"
     ]
    },
    {
     "name": "stderr",
     "output_type": "stream",
     "text": [
      "C:\\Users\\ABC\\AppData\\Local\\Temp\\ipykernel_12960\\910821214.py:56: RuntimeWarning: tmax is not in time interval. tmax is set to <class 'mne.epochs.Epochs'>.tmax (4 s)\n",
      "  cropped_epoch = epoch.copy().crop(tmin=start, tmax=end)\n",
      "C:\\Users\\ABC\\AppData\\Local\\Temp\\ipykernel_12960\\910821214.py:57: FutureWarning: The current default of copy=False will change to copy=True in 1.7. Set the value of copy explicitly to avoid this warning\n",
      "  if cropped_epoch.get_data().shape[-1] > 1:\n",
      "C:\\Users\\ABC\\AppData\\Local\\Temp\\ipykernel_12960\\910821214.py:50: RuntimeWarning: Epochs are not baseline corrected, covariance matrix may be inaccurate\n",
      "  cov_segment = mne.compute_covariance(cropped_epoch, method='empirical')\n",
      "C:\\Users\\ABC\\AppData\\Local\\Temp\\ipykernel_12960\\910821214.py:57: FutureWarning: The current default of copy=False will change to copy=True in 1.7. Set the value of copy explicitly to avoid this warning\n",
      "  if cropped_epoch.get_data().shape[-1] > 1:\n",
      "C:\\Users\\ABC\\AppData\\Local\\Temp\\ipykernel_12960\\910821214.py:57: FutureWarning: The current default of copy=False will change to copy=True in 1.7. Set the value of copy explicitly to avoid this warning\n",
      "  if cropped_epoch.get_data().shape[-1] > 1:\n",
      "C:\\Users\\ABC\\AppData\\Local\\Temp\\ipykernel_12960\\910821214.py:57: FutureWarning: The current default of copy=False will change to copy=True in 1.7. Set the value of copy explicitly to avoid this warning\n",
      "  if cropped_epoch.get_data().shape[-1] > 1:\n",
      "C:\\Users\\ABC\\AppData\\Local\\Temp\\ipykernel_12960\\910821214.py:57: FutureWarning: The current default of copy=False will change to copy=True in 1.7. Set the value of copy explicitly to avoid this warning\n",
      "  if cropped_epoch.get_data().shape[-1] > 1:\n",
      "C:\\Users\\ABC\\AppData\\Local\\Temp\\ipykernel_12960\\910821214.py:56: RuntimeWarning: tmax is not in time interval. tmax is set to <class 'mne.epochs.Epochs'>.tmax (4 s)\n",
      "  cropped_epoch = epoch.copy().crop(tmin=start, tmax=end)\n",
      "C:\\Users\\ABC\\AppData\\Local\\Temp\\ipykernel_12960\\910821214.py:57: FutureWarning: The current default of copy=False will change to copy=True in 1.7. Set the value of copy explicitly to avoid this warning\n",
      "  if cropped_epoch.get_data().shape[-1] > 1:\n"
     ]
    },
    {
     "name": "stdout",
     "output_type": "stream",
     "text": [
      "Computing rank from data with rank=None\n",
      "    Using tolerance 1.4e-11 (2.2e-16 eps * 22 dim * 2.9e+03  max singular value)\n",
      "    Estimated rank (eeg): 22\n",
      "    EEG: rank 22 computed from 22 data channels with 0 projectors\n",
      "Reducing data rank from 22 -> 22\n",
      "Estimating covariance using EMPIRICAL\n"
     ]
    },
    {
     "name": "stderr",
     "output_type": "stream",
     "text": [
      "C:\\Users\\ABC\\AppData\\Local\\Temp\\ipykernel_12960\\910821214.py:56: RuntimeWarning: tmax is not in time interval. tmax is set to <class 'mne.epochs.Epochs'>.tmax (4 s)\n",
      "  cropped_epoch = epoch.copy().crop(tmin=start, tmax=end)\n",
      "C:\\Users\\ABC\\AppData\\Local\\Temp\\ipykernel_12960\\910821214.py:57: FutureWarning: The current default of copy=False will change to copy=True in 1.7. Set the value of copy explicitly to avoid this warning\n",
      "  if cropped_epoch.get_data().shape[-1] > 1:\n",
      "C:\\Users\\ABC\\AppData\\Local\\Temp\\ipykernel_12960\\910821214.py:56: RuntimeWarning: tmax is not in time interval. tmax is set to <class 'mne.epochs.Epochs'>.tmax (4 s)\n",
      "  cropped_epoch = epoch.copy().crop(tmin=start, tmax=end)\n",
      "C:\\Users\\ABC\\AppData\\Local\\Temp\\ipykernel_12960\\910821214.py:57: FutureWarning: The current default of copy=False will change to copy=True in 1.7. Set the value of copy explicitly to avoid this warning\n",
      "  if cropped_epoch.get_data().shape[-1] > 1:\n",
      "C:\\Users\\ABC\\AppData\\Local\\Temp\\ipykernel_12960\\910821214.py:50: RuntimeWarning: Epochs are not baseline corrected, covariance matrix may be inaccurate\n",
      "  cov_segment = mne.compute_covariance(cropped_epoch, method='empirical')\n"
     ]
    },
    {
     "name": "stdout",
     "output_type": "stream",
     "text": [
      "Done.\n",
      "Number of samples used : 501\n",
      "[done]\n"
     ]
    },
    {
     "name": "stderr",
     "output_type": "stream",
     "text": [
      "C:\\Users\\ABC\\AppData\\Local\\Temp\\ipykernel_12960\\910821214.py:57: FutureWarning: The current default of copy=False will change to copy=True in 1.7. Set the value of copy explicitly to avoid this warning\n",
      "  if cropped_epoch.get_data().shape[-1] > 1:\n",
      "C:\\Users\\ABC\\AppData\\Local\\Temp\\ipykernel_12960\\910821214.py:57: FutureWarning: The current default of copy=False will change to copy=True in 1.7. Set the value of copy explicitly to avoid this warning\n",
      "  if cropped_epoch.get_data().shape[-1] > 1:\n",
      "C:\\Users\\ABC\\AppData\\Local\\Temp\\ipykernel_12960\\910821214.py:57: FutureWarning: The current default of copy=False will change to copy=True in 1.7. Set the value of copy explicitly to avoid this warning\n",
      "  if cropped_epoch.get_data().shape[-1] > 1:\n",
      "C:\\Users\\ABC\\AppData\\Local\\Temp\\ipykernel_12960\\910821214.py:57: FutureWarning: The current default of copy=False will change to copy=True in 1.7. Set the value of copy explicitly to avoid this warning\n",
      "  if cropped_epoch.get_data().shape[-1] > 1:\n",
      "C:\\Users\\ABC\\AppData\\Local\\Temp\\ipykernel_12960\\910821214.py:56: RuntimeWarning: tmax is not in time interval. tmax is set to <class 'mne.epochs.Epochs'>.tmax (4 s)\n",
      "  cropped_epoch = epoch.copy().crop(tmin=start, tmax=end)\n",
      "C:\\Users\\ABC\\AppData\\Local\\Temp\\ipykernel_12960\\910821214.py:57: FutureWarning: The current default of copy=False will change to copy=True in 1.7. Set the value of copy explicitly to avoid this warning\n",
      "  if cropped_epoch.get_data().shape[-1] > 1:\n",
      "C:\\Users\\ABC\\AppData\\Local\\Temp\\ipykernel_12960\\910821214.py:56: RuntimeWarning: tmax is not in time interval. tmax is set to <class 'mne.epochs.Epochs'>.tmax (4 s)\n",
      "  cropped_epoch = epoch.copy().crop(tmin=start, tmax=end)\n",
      "C:\\Users\\ABC\\AppData\\Local\\Temp\\ipykernel_12960\\910821214.py:57: FutureWarning: The current default of copy=False will change to copy=True in 1.7. Set the value of copy explicitly to avoid this warning\n",
      "  if cropped_epoch.get_data().shape[-1] > 1:\n"
     ]
    },
    {
     "name": "stdout",
     "output_type": "stream",
     "text": [
      "Computing rank from data with rank=None\n",
      "    Using tolerance 5.1e-12 (2.2e-16 eps * 22 dim * 1e+03  max singular value)\n",
      "    Estimated rank (eeg): 22\n",
      "    EEG: rank 22 computed from 22 data channels with 0 projectors\n",
      "Reducing data rank from 22 -> 22\n",
      "Estimating covariance using EMPIRICAL\n",
      "Done.\n",
      "Number of samples used : 501\n",
      "[done]\n"
     ]
    },
    {
     "name": "stderr",
     "output_type": "stream",
     "text": [
      "C:\\Users\\ABC\\AppData\\Local\\Temp\\ipykernel_12960\\910821214.py:56: RuntimeWarning: tmax is not in time interval. tmax is set to <class 'mne.epochs.Epochs'>.tmax (4 s)\n",
      "  cropped_epoch = epoch.copy().crop(tmin=start, tmax=end)\n",
      "C:\\Users\\ABC\\AppData\\Local\\Temp\\ipykernel_12960\\910821214.py:57: FutureWarning: The current default of copy=False will change to copy=True in 1.7. Set the value of copy explicitly to avoid this warning\n",
      "  if cropped_epoch.get_data().shape[-1] > 1:\n",
      "C:\\Users\\ABC\\AppData\\Local\\Temp\\ipykernel_12960\\910821214.py:50: RuntimeWarning: Epochs are not baseline corrected, covariance matrix may be inaccurate\n",
      "  cov_segment = mne.compute_covariance(cropped_epoch, method='empirical')\n",
      "C:\\Users\\ABC\\AppData\\Local\\Temp\\ipykernel_12960\\910821214.py:57: FutureWarning: The current default of copy=False will change to copy=True in 1.7. Set the value of copy explicitly to avoid this warning\n",
      "  if cropped_epoch.get_data().shape[-1] > 1:\n",
      "C:\\Users\\ABC\\AppData\\Local\\Temp\\ipykernel_12960\\910821214.py:57: FutureWarning: The current default of copy=False will change to copy=True in 1.7. Set the value of copy explicitly to avoid this warning\n",
      "  if cropped_epoch.get_data().shape[-1] > 1:\n",
      "C:\\Users\\ABC\\AppData\\Local\\Temp\\ipykernel_12960\\910821214.py:57: FutureWarning: The current default of copy=False will change to copy=True in 1.7. Set the value of copy explicitly to avoid this warning\n",
      "  if cropped_epoch.get_data().shape[-1] > 1:\n",
      "C:\\Users\\ABC\\AppData\\Local\\Temp\\ipykernel_12960\\910821214.py:57: FutureWarning: The current default of copy=False will change to copy=True in 1.7. Set the value of copy explicitly to avoid this warning\n",
      "  if cropped_epoch.get_data().shape[-1] > 1:\n",
      "C:\\Users\\ABC\\AppData\\Local\\Temp\\ipykernel_12960\\910821214.py:56: RuntimeWarning: tmax is not in time interval. tmax is set to <class 'mne.epochs.Epochs'>.tmax (4 s)\n",
      "  cropped_epoch = epoch.copy().crop(tmin=start, tmax=end)\n",
      "C:\\Users\\ABC\\AppData\\Local\\Temp\\ipykernel_12960\\910821214.py:57: FutureWarning: The current default of copy=False will change to copy=True in 1.7. Set the value of copy explicitly to avoid this warning\n",
      "  if cropped_epoch.get_data().shape[-1] > 1:\n",
      "C:\\Users\\ABC\\AppData\\Local\\Temp\\ipykernel_12960\\910821214.py:56: RuntimeWarning: tmax is not in time interval. tmax is set to <class 'mne.epochs.Epochs'>.tmax (4 s)\n",
      "  cropped_epoch = epoch.copy().crop(tmin=start, tmax=end)\n",
      "C:\\Users\\ABC\\AppData\\Local\\Temp\\ipykernel_12960\\910821214.py:57: FutureWarning: The current default of copy=False will change to copy=True in 1.7. Set the value of copy explicitly to avoid this warning\n",
      "  if cropped_epoch.get_data().shape[-1] > 1:\n",
      "C:\\Users\\ABC\\AppData\\Local\\Temp\\ipykernel_12960\\910821214.py:56: RuntimeWarning: tmax is not in time interval. tmax is set to <class 'mne.epochs.Epochs'>.tmax (4 s)\n",
      "  cropped_epoch = epoch.copy().crop(tmin=start, tmax=end)\n",
      "C:\\Users\\ABC\\AppData\\Local\\Temp\\ipykernel_12960\\910821214.py:57: FutureWarning: The current default of copy=False will change to copy=True in 1.7. Set the value of copy explicitly to avoid this warning\n",
      "  if cropped_epoch.get_data().shape[-1] > 1:\n"
     ]
    },
    {
     "name": "stdout",
     "output_type": "stream",
     "text": [
      "Computing rank from data with rank=None\n",
      "    Using tolerance 4.7e-12 (2.2e-16 eps * 22 dim * 9.7e+02  max singular value)\n",
      "    Estimated rank (eeg): 22\n",
      "    EEG: rank 22 computed from 22 data channels with 0 projectors\n",
      "Reducing data rank from 22 -> 22\n",
      "Estimating covariance using EMPIRICAL\n",
      "Done.\n",
      "Number of samples used : 501\n",
      "[done]\n"
     ]
    },
    {
     "name": "stderr",
     "output_type": "stream",
     "text": [
      "C:\\Users\\ABC\\AppData\\Local\\Temp\\ipykernel_12960\\910821214.py:50: RuntimeWarning: Epochs are not baseline corrected, covariance matrix may be inaccurate\n",
      "  cov_segment = mne.compute_covariance(cropped_epoch, method='empirical')\n",
      "C:\\Users\\ABC\\AppData\\Local\\Temp\\ipykernel_12960\\910821214.py:57: FutureWarning: The current default of copy=False will change to copy=True in 1.7. Set the value of copy explicitly to avoid this warning\n",
      "  if cropped_epoch.get_data().shape[-1] > 1:\n",
      "C:\\Users\\ABC\\AppData\\Local\\Temp\\ipykernel_12960\\910821214.py:57: FutureWarning: The current default of copy=False will change to copy=True in 1.7. Set the value of copy explicitly to avoid this warning\n",
      "  if cropped_epoch.get_data().shape[-1] > 1:\n",
      "C:\\Users\\ABC\\AppData\\Local\\Temp\\ipykernel_12960\\910821214.py:57: FutureWarning: The current default of copy=False will change to copy=True in 1.7. Set the value of copy explicitly to avoid this warning\n",
      "  if cropped_epoch.get_data().shape[-1] > 1:\n",
      "C:\\Users\\ABC\\AppData\\Local\\Temp\\ipykernel_12960\\910821214.py:57: FutureWarning: The current default of copy=False will change to copy=True in 1.7. Set the value of copy explicitly to avoid this warning\n",
      "  if cropped_epoch.get_data().shape[-1] > 1:\n",
      "C:\\Users\\ABC\\AppData\\Local\\Temp\\ipykernel_12960\\910821214.py:56: RuntimeWarning: tmax is not in time interval. tmax is set to <class 'mne.epochs.Epochs'>.tmax (4 s)\n",
      "  cropped_epoch = epoch.copy().crop(tmin=start, tmax=end)\n",
      "C:\\Users\\ABC\\AppData\\Local\\Temp\\ipykernel_12960\\910821214.py:57: FutureWarning: The current default of copy=False will change to copy=True in 1.7. Set the value of copy explicitly to avoid this warning\n",
      "  if cropped_epoch.get_data().shape[-1] > 1:\n",
      "C:\\Users\\ABC\\AppData\\Local\\Temp\\ipykernel_12960\\910821214.py:56: RuntimeWarning: tmax is not in time interval. tmax is set to <class 'mne.epochs.Epochs'>.tmax (4 s)\n",
      "  cropped_epoch = epoch.copy().crop(tmin=start, tmax=end)\n",
      "C:\\Users\\ABC\\AppData\\Local\\Temp\\ipykernel_12960\\910821214.py:57: FutureWarning: The current default of copy=False will change to copy=True in 1.7. Set the value of copy explicitly to avoid this warning\n",
      "  if cropped_epoch.get_data().shape[-1] > 1:\n",
      "C:\\Users\\ABC\\AppData\\Local\\Temp\\ipykernel_12960\\910821214.py:56: RuntimeWarning: tmax is not in time interval. tmax is set to <class 'mne.epochs.Epochs'>.tmax (4 s)\n",
      "  cropped_epoch = epoch.copy().crop(tmin=start, tmax=end)\n",
      "C:\\Users\\ABC\\AppData\\Local\\Temp\\ipykernel_12960\\910821214.py:57: FutureWarning: The current default of copy=False will change to copy=True in 1.7. Set the value of copy explicitly to avoid this warning\n",
      "  if cropped_epoch.get_data().shape[-1] > 1:\n"
     ]
    },
    {
     "name": "stdout",
     "output_type": "stream",
     "text": [
      "Nombre de covariances calculées : 384\n",
      "Labels associés : [4, 4, 4, 4, 4, 4, 4, 4, 1, 1, 1, 1, 1, 1, 1, 1, 3, 3, 3, 3, 3, 3, 3, 3, 2, 2, 2, 2, 2, 2, 2, 2, 2, 2, 2, 2, 2, 2, 2, 2, 3, 3, 3, 3, 3, 3, 3, 3, 1, 1, 1, 1, 1, 1, 1, 1, 4, 4, 4, 4, 4, 4, 4, 4, 3, 3, 3, 3, 3, 3, 3, 3, 1, 1, 1, 1, 1, 1, 1, 1, 2, 2, 2, 2, 2, 2, 2, 2, 2, 2, 2, 2, 2, 2, 2, 2, 2, 2, 2, 2, 2, 2, 2, 2, 4, 4, 4, 4, 4, 4, 4, 4, 3, 3, 3, 3, 3, 3, 3, 3, 3, 3, 3, 3, 3, 3, 3, 3, 2, 2, 2, 2, 2, 2, 2, 2, 2, 2, 2, 2, 2, 2, 2, 2, 1, 1, 1, 1, 1, 1, 1, 1, 2, 2, 2, 2, 2, 2, 2, 2, 3, 3, 3, 3, 3, 3, 3, 3, 4, 4, 4, 4, 4, 4, 4, 4, 4, 4, 4, 4, 4, 4, 4, 4, 1, 1, 1, 1, 1, 1, 1, 1, 2, 2, 2, 2, 2, 2, 2, 2, 4, 4, 4, 4, 4, 4, 4, 4, 4, 4, 4, 4, 4, 4, 4, 4, 3, 3, 3, 3, 3, 3, 3, 3, 4, 4, 4, 4, 4, 4, 4, 4, 4, 4, 4, 4, 4, 4, 4, 4, 3, 3, 3, 3, 3, 3, 3, 3, 2, 2, 2, 2, 2, 2, 2, 2, 3, 3, 3, 3, 3, 3, 3, 3, 1, 1, 1, 1, 1, 1, 1, 1, 1, 1, 1, 1, 1, 1, 1, 1, 1, 1, 1, 1, 1, 1, 1, 1, 4, 4, 4, 4, 4, 4, 4, 4, 1, 1, 1, 1, 1, 1, 1, 1, 2, 2, 2, 2, 2, 2, 2, 2, 4, 4, 4, 4, 4, 4, 4, 4, 3, 3, 3, 3, 3, 3, 3, 3, 1, 1, 1, 1, 1, 1, 1, 1, 3, 3, 3, 3, 3, 3, 3, 3, 1, 1, 1, 1, 1, 1, 1, 1, 4, 4, 4, 4, 4, 4, 4, 4, 3, 3, 3, 3, 3, 3, 3, 3, 1, 1, 1, 1, 1, 1, 1, 1, 2, 2, 2, 2, 2, 2, 2, 2]\n"
     ]
    }
   ],
   "source": [
    "# Exemple d'utilisation de la méthode\n",
    "dataset = BNCI2014_001()\n",
    "subject = 1\n",
    "session_name = \"0train\"\n",
    "run_name = \"0\"\n",
    "tmin = -1\n",
    "tmax = 4\n",
    "tstride = 2\n",
    "stride = 0.5\n",
    "\n",
    "cov_list, projections, label_list, trajectoire, label = compute_trajectoires(dataset,subject,session_name,run_name, tmin, tmax, tstride, stride)\n",
    "\n",
    "# Afficher la matrice résultante\n",
    "print(f\"Nombre de covariances calculées : {len(cov_list)}\")\n",
    "print(f\"Labels associés : {label_list}\")\n"
   ]
  }
 ],
 "metadata": {
  "kernelspec": {
   "display_name": "py38",
   "language": "python",
   "name": "python3"
  },
  "language_info": {
   "codemirror_mode": {
    "name": "ipython",
    "version": 3
   },
   "file_extension": ".py",
   "mimetype": "text/x-python",
   "name": "python",
   "nbconvert_exporter": "python",
   "pygments_lexer": "ipython3",
   "version": "3.8.18"
  }
 },
 "nbformat": 4,
 "nbformat_minor": 2
}
