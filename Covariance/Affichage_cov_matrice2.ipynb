{
 "cells": [
  {
   "cell_type": "code",
   "execution_count": 6,
   "metadata": {},
   "outputs": [
    {
     "ename": "KeyError",
     "evalue": "0",
     "output_type": "error",
     "traceback": [
      "\u001b[1;31m---------------------------------------------------------------------------\u001b[0m",
      "\u001b[1;31mKeyError\u001b[0m                                  Traceback (most recent call last)",
      "Cell \u001b[1;32mIn[6], line 9\u001b[0m\n\u001b[0;32m      5\u001b[0m dataset \u001b[38;5;241m=\u001b[39m BNCI2014_001()\n\u001b[0;32m      7\u001b[0m \u001b[38;5;66;03m# Get the data file path\u001b[39;00m\n\u001b[0;32m      8\u001b[0m \u001b[38;5;66;03m# This gets the file path for the first subject's first session\u001b[39;00m\n\u001b[1;32m----> 9\u001b[0m raw_file \u001b[38;5;241m=\u001b[39m \u001b[43mdataset\u001b[49m\u001b[38;5;241;43m.\u001b[39;49m\u001b[43mget_data\u001b[49m\u001b[43m(\u001b[49m\u001b[43msubjects\u001b[49m\u001b[38;5;241;43m=\u001b[39;49m\u001b[43m[\u001b[49m\u001b[38;5;241;43m1\u001b[39;49m\u001b[43m]\u001b[49m\u001b[43m)\u001b[49m\u001b[43m[\u001b[49m\u001b[38;5;241;43m0\u001b[39;49m\u001b[43m]\u001b[49m\n\u001b[0;32m     11\u001b[0m \u001b[38;5;66;03m# Load the data into MNE-Python Raw object\u001b[39;00m\n\u001b[0;32m     12\u001b[0m raw \u001b[38;5;241m=\u001b[39m mne\u001b[38;5;241m.\u001b[39mio\u001b[38;5;241m.\u001b[39mread_raw_edf(raw_file)\n",
      "\u001b[1;31mKeyError\u001b[0m: 0"
     ]
    }
   ],
   "source": [
    "import mne\n",
    "from moabb.datasets import BNCI2014_001\n",
    "\n",
    "# Load the BNCI2014_001 dataset\n",
    "dataset = BNCI2014_001()\n",
    "\n",
    "# Get the data file path\n",
    "# This gets the file path for the first subject's first session\n",
    "raw_file = dataset.get_data(subjects=[1])[0]\n",
    "\n",
    "# Load the data into MNE-Python Raw object\n",
    "raw = mne.io.read_raw_edf(raw_file)\n",
    "\n",
    "# Define event markers\n",
    "# For example, let's say your task involves motor imagery and you have markers for left and right hand movements\n",
    "# Replace these event IDs with the actual event IDs from your dataset\n",
    "event_id = {'left_hand': 1, 'right_hand': 2}\n",
    "\n",
    "# Find events in the data\n",
    "events, _ = mne.events_from_annotations(raw)\n",
    "\n",
    "# Create epochs\n",
    "tmin = -1  # Start time relative to the event onset (in seconds)\n",
    "tmax = 4   # End time relative to the event onset (in seconds)\n",
    "epochs = mne.Epochs(raw, events, event_id=event_id, tmin=tmin, tmax=tmax, baseline=None, preload=True)\n",
    "\n",
    "# Now you have epochs extracted and ready for further analysis\n",
    "# You can access individual epochs using indexing, e.g., epochs['left_hand']\n"
   ]
  },
  {
   "cell_type": "code",
   "execution_count": null,
   "metadata": {},
   "outputs": [],
   "source": [
    "mne.compute_covariance(epochs, keep_sample_mean=True, tmin=None, tmax=None, projs=None, method='empirical')"
   ]
  }
 ],
 "metadata": {
  "kernelspec": {
   "display_name": "py38",
   "language": "python",
   "name": "python3"
  },
  "language_info": {
   "codemirror_mode": {
    "name": "ipython",
    "version": 3
   },
   "file_extension": ".py",
   "mimetype": "text/x-python",
   "name": "python",
   "nbconvert_exporter": "python",
   "pygments_lexer": "ipython3",
   "version": "3.8.18"
  }
 },
 "nbformat": 4,
 "nbformat_minor": 2
}
