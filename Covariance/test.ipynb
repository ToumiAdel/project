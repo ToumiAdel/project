{
 "cells": [
  {
   "cell_type": "code",
   "execution_count": null,
   "metadata": {},
   "outputs": [],
   "source": [
    "# Importer les bibliothèques nécessaires\n",
    "from moabb.datasets import BNCI2014_001\n",
    "from pyriemann.estimation import Covariances\n",
    "from pyriemann.classification import MDM\n",
    "from sklearn.model_selection import cross_val_score"
   ]
  },
  {
   "cell_type": "code",
   "execution_count": 4,
   "metadata": {},
   "outputs": [],
   "source": [
    "# Importer les bibliothèques nécessaires\n",
    "from moabb.datasets import BNCI2014_001\n",
    "from pyriemann.estimation import Covariances\n",
    "from pyriemann.classification import MDM\n",
    "from sklearn.model_selection import cross_val_score\n",
    "\n",
    "# Charger le dataset BNCI2014_001\n",
    "dataset = BNCI2014_001()\n",
    "\n",
    "# Diviser le dataset en données d'entraînement et de test\n",
    "X, y, metadata = dataset.get_data()\n",
    "\n",
    "# Calculer les covariances des données\n",
    "covariances = Covariances(estimator='lwf').fit_transform(X)\n",
    "\n",
    "# Créer et évaluer le modèle MDM avec la validation croisée\n",
    "clf = MDM()\n",
    "scores = cross_val_score(clf, covariances, y, cv=5)\n",
    "\n",
    "# Afficher les scores de validation croisée\n",
    "print(\"Scores de validation croisée :\", scores)\n",
    "print(\"Précision moyenne :\", scores.mean())\n"
   ]
  }
 ],
 "metadata": {
  "kernelspec": {
   "display_name": "py38",
   "language": "python",
   "name": "python3"
  },
  "language_info": {
   "codemirror_mode": {
    "name": "ipython",
    "version": 3
   },
   "file_extension": ".py",
   "mimetype": "text/x-python",
   "name": "python",
   "nbconvert_exporter": "python",
   "pygments_lexer": "ipython3",
   "version": "3.8.18"
  }
 },
 "nbformat": 4,
 "nbformat_minor": 2
}
